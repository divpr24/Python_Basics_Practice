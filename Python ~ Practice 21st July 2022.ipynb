{
 "cells": [
  {
   "cell_type": "markdown",
   "id": "37c6fe8f",
   "metadata": {},
   "source": [
    "### Basic operations"
   ]
  },
  {
   "cell_type": "code",
   "execution_count": 1,
   "id": "dbf9ffa5",
   "metadata": {},
   "outputs": [
    {
     "name": "stdout",
     "output_type": "stream",
     "text": [
      "Hello World\n"
     ]
    }
   ],
   "source": [
    "print('Hello World')"
   ]
  },
  {
   "cell_type": "code",
   "execution_count": 2,
   "id": "087c06ad",
   "metadata": {},
   "outputs": [
    {
     "name": "stdout",
     "output_type": "stream",
     "text": [
      "/Users/mht/Desktop/Study Material/Python code /Python Code practice/GDrive Python\n",
      "posix\n"
     ]
    }
   ],
   "source": [
    "import os\n",
    "print(os.getcwd())\n",
    "print(os.name)"
   ]
  },
  {
   "cell_type": "code",
   "execution_count": 3,
   "id": "270bd49d",
   "metadata": {},
   "outputs": [
    {
     "name": "stdout",
     "output_type": "stream",
     "text": [
      "Darwin Kernel Version 21.1.0: Wed Oct 13 17:33:23 PDT 2021; root:xnu-8019.41.5~1/RELEASE_X86_64\n",
      "21.1.0\n",
      "macOS-10.16-x86_64-i386-64bit\n"
     ]
    }
   ],
   "source": [
    "import platform\n",
    "print(platform.version())\n",
    "print(platform.release())\n",
    "print(platform.platform())"
   ]
  },
  {
   "cell_type": "code",
   "execution_count": 4,
   "id": "e4aa409f",
   "metadata": {},
   "outputs": [
    {
     "name": "stdout",
     "output_type": "stream",
     "text": [
      "11\n",
      "3\n",
      "28\n",
      "1.75\n",
      "49\n"
     ]
    }
   ],
   "source": [
    "print(7+4)\n",
    "print(7-4)\n",
    "print(7*4)\n",
    "print(7/4)\n",
    "print(7**2)"
   ]
  },
  {
   "cell_type": "markdown",
   "id": "57af286c",
   "metadata": {},
   "source": [
    "### Variables"
   ]
  },
  {
   "cell_type": "code",
   "execution_count": 5,
   "id": "6b9642d2",
   "metadata": {},
   "outputs": [
    {
     "data": {
      "text/plain": [
       "3"
      ]
     },
     "execution_count": 5,
     "metadata": {},
     "output_type": "execute_result"
    }
   ],
   "source": [
    "x = 3\n",
    "x"
   ]
  },
  {
   "cell_type": "code",
   "execution_count": 6,
   "id": "d9594d0b",
   "metadata": {},
   "outputs": [
    {
     "name": "stdout",
     "output_type": "stream",
     "text": [
      "3\n",
      "<class 'int'>\n",
      "0x106fe49a0\n"
     ]
    }
   ],
   "source": [
    "print(x)\n",
    "print(type(x))\n",
    "print(hex(id(x)))"
   ]
  },
  {
   "cell_type": "code",
   "execution_count": 7,
   "id": "c0c4f53d",
   "metadata": {},
   "outputs": [
    {
     "data": {
      "text/plain": [
       "3.15"
      ]
     },
     "execution_count": 7,
     "metadata": {},
     "output_type": "execute_result"
    }
   ],
   "source": [
    "y = 3.15\n",
    "y"
   ]
  },
  {
   "cell_type": "code",
   "execution_count": 8,
   "id": "32b603c3",
   "metadata": {},
   "outputs": [
    {
     "name": "stdout",
     "output_type": "stream",
     "text": [
      "3.15\n",
      "<class 'float'>\n",
      "0x7fc72a73bd70\n"
     ]
    }
   ],
   "source": [
    "print(y)\n",
    "print(type(y))\n",
    "print(hex(id(y)))"
   ]
  },
  {
   "cell_type": "code",
   "execution_count": 9,
   "id": "1d740ba0",
   "metadata": {},
   "outputs": [
    {
     "data": {
      "text/plain": [
       "'Hello'"
      ]
     },
     "execution_count": 9,
     "metadata": {},
     "output_type": "execute_result"
    }
   ],
   "source": [
    "z = 'Hello'\n",
    "z"
   ]
  },
  {
   "cell_type": "code",
   "execution_count": 10,
   "id": "b00e6a35",
   "metadata": {},
   "outputs": [
    {
     "name": "stdout",
     "output_type": "stream",
     "text": [
      "Hello\n",
      "<class 'str'>\n",
      "0x7fc72a7bd130\n"
     ]
    }
   ],
   "source": [
    "print(z)\n",
    "print(type(z))\n",
    "print(hex(id(z)))"
   ]
  },
  {
   "cell_type": "code",
   "execution_count": 11,
   "id": "c5e4e16d",
   "metadata": {},
   "outputs": [],
   "source": [
    "a = None\n",
    "a"
   ]
  },
  {
   "cell_type": "code",
   "execution_count": 12,
   "id": "f317a521",
   "metadata": {},
   "outputs": [
    {
     "name": "stdout",
     "output_type": "stream",
     "text": [
      "None\n",
      "<class 'NoneType'>\n",
      "0x106fc1af8\n"
     ]
    }
   ],
   "source": [
    "print(a)\n",
    "print(type(a))\n",
    "print(hex(id(a)))"
   ]
  },
  {
   "cell_type": "code",
   "execution_count": 13,
   "id": "27916fef",
   "metadata": {},
   "outputs": [
    {
     "data": {
      "text/plain": [
       "True"
      ]
     },
     "execution_count": 13,
     "metadata": {},
     "output_type": "execute_result"
    }
   ],
   "source": [
    "b = True\n",
    "b"
   ]
  },
  {
   "cell_type": "code",
   "execution_count": 14,
   "id": "66b5b52f",
   "metadata": {},
   "outputs": [
    {
     "name": "stdout",
     "output_type": "stream",
     "text": [
      "True\n",
      "<class 'bool'>\n",
      "0x106fae9b8\n"
     ]
    }
   ],
   "source": [
    "print(b)\n",
    "print(type(b))\n",
    "print(hex(id(b)))"
   ]
  },
  {
   "cell_type": "markdown",
   "id": "48f757fb",
   "metadata": {},
   "source": [
    "### Multipe Assignments and swaping of two numbers"
   ]
  },
  {
   "cell_type": "code",
   "execution_count": 15,
   "id": "0059dd67",
   "metadata": {},
   "outputs": [],
   "source": [
    "p, q = 11, 9"
   ]
  },
  {
   "cell_type": "code",
   "execution_count": 16,
   "id": "2696099e",
   "metadata": {},
   "outputs": [
    {
     "name": "stdout",
     "output_type": "stream",
     "text": [
      "11\n",
      "9\n"
     ]
    }
   ],
   "source": [
    "print(p)\n",
    "print(q)"
   ]
  },
  {
   "cell_type": "code",
   "execution_count": 17,
   "id": "c19673b1",
   "metadata": {},
   "outputs": [],
   "source": [
    "p, q = q, p"
   ]
  },
  {
   "cell_type": "code",
   "execution_count": 18,
   "id": "c1578e24",
   "metadata": {},
   "outputs": [
    {
     "name": "stdout",
     "output_type": "stream",
     "text": [
      "9\n",
      "11\n"
     ]
    }
   ],
   "source": [
    "print(p)\n",
    "print(q)"
   ]
  },
  {
   "cell_type": "markdown",
   "id": "c469ddaa",
   "metadata": {},
   "source": [
    "### Data Structures in Python"
   ]
  },
  {
   "cell_type": "code",
   "execution_count": 19,
   "id": "789640c3",
   "metadata": {},
   "outputs": [
    {
     "data": {
      "text/plain": [
       "(1, 1.5, 'Hello', True, None, (1, 2, 3))"
      ]
     },
     "execution_count": 19,
     "metadata": {},
     "output_type": "execute_result"
    }
   ],
   "source": [
    "first_tuple = (1,1.5,'Hello', True, None,(1,2,3))\n",
    "first_tuple"
   ]
  },
  {
   "cell_type": "code",
   "execution_count": 21,
   "id": "0ad2e1e2",
   "metadata": {},
   "outputs": [
    {
     "name": "stdout",
     "output_type": "stream",
     "text": [
      "1.5\n",
      "True\n"
     ]
    }
   ],
   "source": [
    "print(first_tuple[1])\n",
    "print(first_tuple[3])"
   ]
  },
  {
   "cell_type": "code",
   "execution_count": 23,
   "id": "7316a4aa",
   "metadata": {},
   "outputs": [
    {
     "name": "stdout",
     "output_type": "stream",
     "text": [
      "(1, 1.5, 'Hello')\n",
      "(1.5, 'Hello', True)\n"
     ]
    }
   ],
   "source": [
    "print(first_tuple[0:3])\n",
    "print(first_tuple[1:4])"
   ]
  },
  {
   "cell_type": "code",
   "execution_count": 26,
   "id": "863b3898",
   "metadata": {},
   "outputs": [
    {
     "name": "stdout",
     "output_type": "stream",
     "text": [
      "(1, 'Hello')\n"
     ]
    }
   ],
   "source": [
    "print(first_tuple[0:4:2])"
   ]
  },
  {
   "cell_type": "code",
   "execution_count": 24,
   "id": "05aead1f",
   "metadata": {},
   "outputs": [
    {
     "data": {
      "text/plain": [
       "((1, 2, 3), None, True, 'Hello', 1.5, 1)"
      ]
     },
     "execution_count": 24,
     "metadata": {},
     "output_type": "execute_result"
    }
   ],
   "source": [
    "#Reversing elements in tuple.\n",
    "first_tuple[::-1]"
   ]
  },
  {
   "cell_type": "code",
   "execution_count": 25,
   "id": "ca8c29aa",
   "metadata": {},
   "outputs": [
    {
     "data": {
      "text/plain": [
       "((1, 2, 3), True, 1.5)"
      ]
     },
     "execution_count": 25,
     "metadata": {},
     "output_type": "execute_result"
    }
   ],
   "source": [
    "first_tuple[::-2]"
   ]
  },
  {
   "cell_type": "markdown",
   "id": "6ee10192",
   "metadata": {},
   "source": [
    "#### List"
   ]
  },
  {
   "cell_type": "code",
   "execution_count": 48,
   "id": "fb5ad83a",
   "metadata": {},
   "outputs": [
    {
     "data": {
      "text/plain": [
       "[1, 1.5, 'Hello', True, None, (1, 2, 3)]"
      ]
     },
     "execution_count": 48,
     "metadata": {},
     "output_type": "execute_result"
    }
   ],
   "source": [
    "first_list = [1,1.5,'Hello', True, None,(1,2,3)]\n",
    "first_list"
   ]
  },
  {
   "cell_type": "code",
   "execution_count": 28,
   "id": "73f55414",
   "metadata": {},
   "outputs": [
    {
     "name": "stdout",
     "output_type": "stream",
     "text": [
      "1.5\n",
      "True\n"
     ]
    }
   ],
   "source": [
    "print(first_list[1])\n",
    "print(first_list[3])"
   ]
  },
  {
   "cell_type": "code",
   "execution_count": 29,
   "id": "192976ba",
   "metadata": {},
   "outputs": [
    {
     "name": "stdout",
     "output_type": "stream",
     "text": [
      "[1, 1.5, 'Hello']\n",
      "[1.5, 'Hello', True]\n"
     ]
    }
   ],
   "source": [
    "print(first_list[0:3])\n",
    "print(first_list[1:4])"
   ]
  },
  {
   "cell_type": "code",
   "execution_count": 30,
   "id": "9f7d7e04",
   "metadata": {},
   "outputs": [
    {
     "data": {
      "text/plain": [
       "[(1, 2, 3), None, True, 'Hello', 1.5, 1]"
      ]
     },
     "execution_count": 30,
     "metadata": {},
     "output_type": "execute_result"
    }
   ],
   "source": [
    "#Reversing elements in list.\n",
    "first_list[::-1]"
   ]
  },
  {
   "cell_type": "code",
   "execution_count": 31,
   "id": "a3f90838",
   "metadata": {},
   "outputs": [
    {
     "data": {
      "text/plain": [
       "[(1, 2, 3), True, 1.5]"
      ]
     },
     "execution_count": 31,
     "metadata": {},
     "output_type": "execute_result"
    }
   ],
   "source": [
    "first_list[::-2]"
   ]
  },
  {
   "cell_type": "code",
   "execution_count": 40,
   "id": "2afe5cc3",
   "metadata": {},
   "outputs": [
    {
     "data": {
      "text/plain": [
       "[1, 1.5, 'Hello', True, None, (1, 2, 3), 50]"
      ]
     },
     "execution_count": 40,
     "metadata": {},
     "output_type": "execute_result"
    }
   ],
   "source": [
    "first_list.append(50)\n",
    "first_list"
   ]
  },
  {
   "cell_type": "code",
   "execution_count": 41,
   "id": "a51a7394",
   "metadata": {},
   "outputs": [
    {
     "data": {
      "text/plain": [
       "[1, 1.5, 'Hello', True, None, (1, 2, 3), 50, [50, 1, 2]]"
      ]
     },
     "execution_count": 41,
     "metadata": {},
     "output_type": "execute_result"
    }
   ],
   "source": [
    "first_list.append([50, 1, 2])\n",
    "first_list"
   ]
  },
  {
   "cell_type": "code",
   "execution_count": 42,
   "id": "05f5bf4e",
   "metadata": {},
   "outputs": [
    {
     "data": {
      "text/plain": [
       "[50, 1, 2]"
      ]
     },
     "execution_count": 42,
     "metadata": {},
     "output_type": "execute_result"
    }
   ],
   "source": [
    "first_list.pop()"
   ]
  },
  {
   "cell_type": "code",
   "execution_count": 49,
   "id": "fbc52a28",
   "metadata": {},
   "outputs": [
    {
     "data": {
      "text/plain": [
       "[1, 1.5, 'Hello', True, None, (1, 2, 3)]"
      ]
     },
     "execution_count": 49,
     "metadata": {},
     "output_type": "execute_result"
    }
   ],
   "source": [
    "first_list"
   ]
  },
  {
   "cell_type": "code",
   "execution_count": 50,
   "id": "c743618c",
   "metadata": {},
   "outputs": [
    {
     "data": {
      "text/plain": [
       "[1, True, 1.5, 'Hello', True, None, (1, 2, 3)]"
      ]
     },
     "execution_count": 50,
     "metadata": {},
     "output_type": "execute_result"
    }
   ],
   "source": [
    "first_list.insert(1, True)\n",
    "first_list"
   ]
  },
  {
   "cell_type": "code",
   "execution_count": 54,
   "id": "623b7a16",
   "metadata": {},
   "outputs": [
    {
     "data": {
      "text/plain": [
       "[True, None, (1, 2, 3)]"
      ]
     },
     "execution_count": 54,
     "metadata": {},
     "output_type": "execute_result"
    }
   ],
   "source": [
    "first_list.remove(True)\n",
    "first_list"
   ]
  },
  {
   "cell_type": "code",
   "execution_count": 55,
   "id": "5dc15748",
   "metadata": {},
   "outputs": [
    {
     "data": {
      "text/plain": [
       "[True, (1, 2, 3)]"
      ]
     },
     "execution_count": 55,
     "metadata": {},
     "output_type": "execute_result"
    }
   ],
   "source": [
    "first_list.pop(1)\n",
    "first_list"
   ]
  },
  {
   "cell_type": "markdown",
   "id": "f9c011da",
   "metadata": {},
   "source": [
    "#### Sets"
   ]
  },
  {
   "cell_type": "code",
   "execution_count": 57,
   "id": "8eb6d889",
   "metadata": {},
   "outputs": [
    {
     "data": {
      "text/plain": [
       "{1, 2, 4, 5, 6, 7, 8}"
      ]
     },
     "execution_count": 57,
     "metadata": {},
     "output_type": "execute_result"
    }
   ],
   "source": [
    "##Data in a set is uniquie and sorted.\n",
    "e = {1,2,2,4,5,6,7,8,8}\n",
    "e"
   ]
  },
  {
   "cell_type": "code",
   "execution_count": 59,
   "id": "c06a3b20",
   "metadata": {},
   "outputs": [],
   "source": [
    "#e[1] dispays an error"
   ]
  },
  {
   "cell_type": "code",
   "execution_count": 60,
   "id": "435313c4",
   "metadata": {},
   "outputs": [
    {
     "data": {
      "text/plain": [
       "{2, 5, 6, 9}"
      ]
     },
     "execution_count": 60,
     "metadata": {},
     "output_type": "execute_result"
    }
   ],
   "source": [
    "f = {2,2,5,6,6,9,9}\n",
    "f"
   ]
  },
  {
   "cell_type": "code",
   "execution_count": 61,
   "id": "6fa56938",
   "metadata": {},
   "outputs": [
    {
     "data": {
      "text/plain": [
       "{1, 2, 4, 5, 6, 7, 8, 9}"
      ]
     },
     "execution_count": 61,
     "metadata": {},
     "output_type": "execute_result"
    }
   ],
   "source": [
    "#Union\n",
    "e | f "
   ]
  },
  {
   "cell_type": "code",
   "execution_count": 62,
   "id": "905b2f8d",
   "metadata": {},
   "outputs": [
    {
     "data": {
      "text/plain": [
       "{2, 5, 6}"
      ]
     },
     "execution_count": 62,
     "metadata": {},
     "output_type": "execute_result"
    }
   ],
   "source": [
    "#Intersection\n",
    "e & f "
   ]
  },
  {
   "cell_type": "code",
   "execution_count": 63,
   "id": "390b611b",
   "metadata": {},
   "outputs": [
    {
     "data": {
      "text/plain": [
       "{1, 4, 7, 8}"
      ]
     },
     "execution_count": 63,
     "metadata": {},
     "output_type": "execute_result"
    }
   ],
   "source": [
    "#Only elements in e.\n",
    "e - f"
   ]
  },
  {
   "cell_type": "code",
   "execution_count": 65,
   "id": "6d63e16a",
   "metadata": {},
   "outputs": [
    {
     "data": {
      "text/plain": [
       "{9}"
      ]
     },
     "execution_count": 65,
     "metadata": {},
     "output_type": "execute_result"
    }
   ],
   "source": [
    "#Only elements in f.\n",
    "f - e"
   ]
  },
  {
   "cell_type": "markdown",
   "id": "aec5c969",
   "metadata": {},
   "source": [
    "#### Dictionary"
   ]
  },
  {
   "cell_type": "code",
   "execution_count": 67,
   "id": "bef7e6e9",
   "metadata": {},
   "outputs": [
    {
     "data": {
      "text/plain": [
       "{'a': 500, 'b': 1000, 'c': 1500}"
      ]
     },
     "execution_count": 67,
     "metadata": {},
     "output_type": "execute_result"
    }
   ],
   "source": [
    "first_dictionary = {'a':500, 'b':1000, 'c':1500}\n",
    "first_dictionary"
   ]
  },
  {
   "cell_type": "code",
   "execution_count": 69,
   "id": "de607150",
   "metadata": {},
   "outputs": [
    {
     "data": {
      "text/plain": [
       "dict_keys(['a', 'b', 'c'])"
      ]
     },
     "execution_count": 69,
     "metadata": {},
     "output_type": "execute_result"
    }
   ],
   "source": [
    "first_dictionary.keys()"
   ]
  },
  {
   "cell_type": "code",
   "execution_count": 70,
   "id": "299a05c4",
   "metadata": {},
   "outputs": [
    {
     "data": {
      "text/plain": [
       "dict_values([500, 1000, 1500])"
      ]
     },
     "execution_count": 70,
     "metadata": {},
     "output_type": "execute_result"
    }
   ],
   "source": [
    "first_dictionary.values()"
   ]
  },
  {
   "cell_type": "code",
   "execution_count": 71,
   "id": "8c5caf9f",
   "metadata": {},
   "outputs": [
    {
     "data": {
      "text/plain": [
       "500"
      ]
     },
     "execution_count": 71,
     "metadata": {},
     "output_type": "execute_result"
    }
   ],
   "source": [
    "first_dictionary['a']"
   ]
  },
  {
   "cell_type": "code",
   "execution_count": 72,
   "id": "dca82089",
   "metadata": {},
   "outputs": [
    {
     "data": {
      "text/plain": [
       "{'a': 500, 'b': 1000, 'c': 1500, 'd': 2000}"
      ]
     },
     "execution_count": 72,
     "metadata": {},
     "output_type": "execute_result"
    }
   ],
   "source": [
    "first_dictionary['d'] = 2000\n",
    "first_dictionary"
   ]
  },
  {
   "cell_type": "code",
   "execution_count": 73,
   "id": "57d54c00",
   "metadata": {},
   "outputs": [
    {
     "data": {
      "text/plain": [
       "{'a': 500, 'b': 1000, 'c': 1400, 'd': 2000}"
      ]
     },
     "execution_count": 73,
     "metadata": {},
     "output_type": "execute_result"
    }
   ],
   "source": [
    "first_dictionary['c'] = 1400\n",
    "first_dictionary"
   ]
  },
  {
   "cell_type": "code",
   "execution_count": 74,
   "id": "e4444e80",
   "metadata": {},
   "outputs": [
    {
     "data": {
      "text/plain": [
       "{'a': 500, 'c': 1400, 'd': 2000}"
      ]
     },
     "execution_count": 74,
     "metadata": {},
     "output_type": "execute_result"
    }
   ],
   "source": [
    "del first_dictionary['b']\n",
    "first_dictionary"
   ]
  },
  {
   "cell_type": "markdown",
   "id": "0c09f213",
   "metadata": {},
   "source": [
    "### Basic operations"
   ]
  },
  {
   "cell_type": "code",
   "execution_count": 77,
   "id": "8fae6e16",
   "metadata": {},
   "outputs": [
    {
     "data": {
      "text/plain": [
       "(1, 2, 3, 4, 5, 6)"
      ]
     },
     "execution_count": 77,
     "metadata": {},
     "output_type": "execute_result"
    }
   ],
   "source": [
    "#Concationation in tuple\n",
    "g = (1,2,3)\n",
    "f = (4,5,6)\n",
    "g + f"
   ]
  },
  {
   "cell_type": "code",
   "execution_count": 78,
   "id": "bd68a7d7",
   "metadata": {},
   "outputs": [
    {
     "data": {
      "text/plain": [
       "(1, 2, 3, 1, 2, 3)"
      ]
     },
     "execution_count": 78,
     "metadata": {},
     "output_type": "execute_result"
    }
   ],
   "source": [
    "g * 2"
   ]
  },
  {
   "cell_type": "code",
   "execution_count": 79,
   "id": "b1a71896",
   "metadata": {},
   "outputs": [
    {
     "data": {
      "text/plain": [
       "'Hello John'"
      ]
     },
     "execution_count": 79,
     "metadata": {},
     "output_type": "execute_result"
    }
   ],
   "source": [
    "'Hello'+ ' '+'John'"
   ]
  },
  {
   "cell_type": "code",
   "execution_count": 81,
   "id": "72c44f46",
   "metadata": {},
   "outputs": [
    {
     "data": {
      "text/plain": [
       "'Hello Hello '"
      ]
     },
     "execution_count": 81,
     "metadata": {},
     "output_type": "execute_result"
    }
   ],
   "source": [
    "'Hello ' * 2"
   ]
  },
  {
   "cell_type": "markdown",
   "id": "f29e7c11",
   "metadata": {},
   "source": [
    "### Functions"
   ]
  },
  {
   "cell_type": "code",
   "execution_count": 82,
   "id": "857488b9",
   "metadata": {},
   "outputs": [],
   "source": [
    "def first_function():\n",
    "    print('Hello from first function')"
   ]
  },
  {
   "cell_type": "code",
   "execution_count": 84,
   "id": "4d3bbbe6",
   "metadata": {},
   "outputs": [
    {
     "name": "stdout",
     "output_type": "stream",
     "text": [
      "Hello from first function\n"
     ]
    }
   ],
   "source": [
    "first_function()"
   ]
  },
  {
   "cell_type": "code",
   "execution_count": 85,
   "id": "8882a0fc",
   "metadata": {},
   "outputs": [],
   "source": [
    "def function_do_nothing():\n",
    "    pass"
   ]
  },
  {
   "cell_type": "code",
   "execution_count": 86,
   "id": "8448fc6c",
   "metadata": {},
   "outputs": [],
   "source": [
    "function_do_nothing()"
   ]
  },
  {
   "cell_type": "code",
   "execution_count": 89,
   "id": "c7be8f42",
   "metadata": {},
   "outputs": [],
   "source": [
    "def fun_1(arg):\n",
    "    print('Hello' + ' ' + arg)"
   ]
  },
  {
   "cell_type": "code",
   "execution_count": 90,
   "id": "39b1ac26",
   "metadata": {},
   "outputs": [
    {
     "name": "stdout",
     "output_type": "stream",
     "text": [
      "Hello John\n"
     ]
    }
   ],
   "source": [
    "fun_1('John')"
   ]
  },
  {
   "cell_type": "code",
   "execution_count": 91,
   "id": "a1f83f6b",
   "metadata": {},
   "outputs": [],
   "source": [
    "def area_rectangle(a,b):\n",
    "    area = a * b\n",
    "    print(area)"
   ]
  },
  {
   "cell_type": "code",
   "execution_count": 92,
   "id": "5048b02d",
   "metadata": {},
   "outputs": [
    {
     "name": "stdout",
     "output_type": "stream",
     "text": [
      "4\n"
     ]
    }
   ],
   "source": [
    "area_rectangle(2,2)"
   ]
  },
  {
   "cell_type": "code",
   "execution_count": 94,
   "id": "b405ac5c",
   "metadata": {},
   "outputs": [],
   "source": [
    "## error: 10 * area_rectangle(2,2)"
   ]
  },
  {
   "cell_type": "code",
   "execution_count": 95,
   "id": "b671f5ee",
   "metadata": {},
   "outputs": [],
   "source": [
    "def area_rectangle_1(a,b):\n",
    "    area = a * b\n",
    "    return area"
   ]
  },
  {
   "cell_type": "code",
   "execution_count": 96,
   "id": "6663ddaa",
   "metadata": {},
   "outputs": [
    {
     "data": {
      "text/plain": [
       "4"
      ]
     },
     "execution_count": 96,
     "metadata": {},
     "output_type": "execute_result"
    }
   ],
   "source": [
    "area_rectangle_1(2,2)"
   ]
  },
  {
   "cell_type": "code",
   "execution_count": 97,
   "id": "ac28baa2",
   "metadata": {},
   "outputs": [
    {
     "data": {
      "text/plain": [
       "40"
      ]
     },
     "execution_count": 97,
     "metadata": {},
     "output_type": "execute_result"
    }
   ],
   "source": [
    "10 * area_rectangle_1(2,2)"
   ]
  },
  {
   "cell_type": "code",
   "execution_count": 98,
   "id": "7be8dce7",
   "metadata": {},
   "outputs": [],
   "source": [
    "def calc_fun(a,b):\n",
    "    return a + b, a - b, a / b"
   ]
  },
  {
   "cell_type": "code",
   "execution_count": 100,
   "id": "6197b1a9",
   "metadata": {},
   "outputs": [
    {
     "data": {
      "text/plain": [
       "(15, 5, 2.0)"
      ]
     },
     "execution_count": 100,
     "metadata": {},
     "output_type": "execute_result"
    }
   ],
   "source": [
    "result = calc_fun(10,5)\n",
    "result"
   ]
  },
  {
   "cell_type": "code",
   "execution_count": 101,
   "id": "9cfa659f",
   "metadata": {},
   "outputs": [
    {
     "data": {
      "text/plain": [
       "tuple"
      ]
     },
     "execution_count": 101,
     "metadata": {},
     "output_type": "execute_result"
    }
   ],
   "source": [
    "type(result)"
   ]
  },
  {
   "cell_type": "code",
   "execution_count": 102,
   "id": "6b858465",
   "metadata": {},
   "outputs": [
    {
     "name": "stdout",
     "output_type": "stream",
     "text": [
      "15\n",
      "5\n",
      "2.0\n"
     ]
    }
   ],
   "source": [
    "l, m , n = calc_fun(10,5)\n",
    "print(l)\n",
    "print(m)\n",
    "print(n)"
   ]
  },
  {
   "cell_type": "code",
   "execution_count": 104,
   "id": "4d7e84cd",
   "metadata": {},
   "outputs": [],
   "source": [
    "def vote_fun(age):\n",
    "    if age >= 18:\n",
    "        print('Can Vote')\n",
    "    else:\n",
    "        print('Not elegible')"
   ]
  },
  {
   "cell_type": "code",
   "execution_count": 107,
   "id": "4f413996",
   "metadata": {},
   "outputs": [
    {
     "name": "stdout",
     "output_type": "stream",
     "text": [
      "Can Vote\n"
     ]
    }
   ],
   "source": [
    "vote_fun(21)"
   ]
  },
  {
   "cell_type": "code",
   "execution_count": 108,
   "id": "3b5674bc",
   "metadata": {},
   "outputs": [
    {
     "name": "stdout",
     "output_type": "stream",
     "text": [
      "Not elegible\n"
     ]
    }
   ],
   "source": [
    "vote_fun(11)"
   ]
  },
  {
   "cell_type": "code",
   "execution_count": 110,
   "id": "eb55bffe",
   "metadata": {},
   "outputs": [],
   "source": [
    "def grade_fun(score):\n",
    "    if score > 90:\n",
    "        print('Grade A')\n",
    "    elif score > 80:\n",
    "        print('Grade B')\n",
    "    elif score > 70:\n",
    "        print('Grade C')\n",
    "    elif score > 60:\n",
    "        print('Grade D')\n",
    "    else:\n",
    "        print('Fail')"
   ]
  },
  {
   "cell_type": "code",
   "execution_count": 111,
   "id": "4add9ae2",
   "metadata": {},
   "outputs": [
    {
     "name": "stdout",
     "output_type": "stream",
     "text": [
      "Grade A\n"
     ]
    }
   ],
   "source": [
    "grade_fun(95)"
   ]
  },
  {
   "cell_type": "code",
   "execution_count": 112,
   "id": "4fff1bb1",
   "metadata": {},
   "outputs": [
    {
     "name": "stdout",
     "output_type": "stream",
     "text": [
      "Grade C\n"
     ]
    }
   ],
   "source": [
    "grade_fun(75)"
   ]
  },
  {
   "cell_type": "code",
   "execution_count": 117,
   "id": "f14fa8e9",
   "metadata": {},
   "outputs": [],
   "source": [
    "u = [1,2,3,4,5]\n",
    "r = [1,2,3,4,5,6,7,8,9,10]"
   ]
  },
  {
   "cell_type": "code",
   "execution_count": 114,
   "id": "5f0935a3",
   "metadata": {},
   "outputs": [
    {
     "data": {
      "text/plain": [
       "15"
      ]
     },
     "execution_count": 114,
     "metadata": {},
     "output_type": "execute_result"
    }
   ],
   "source": [
    "result = 0\n",
    "for i in u:\n",
    "    result += i\n",
    "result"
   ]
  },
  {
   "cell_type": "code",
   "execution_count": 115,
   "id": "39d64f3a",
   "metadata": {},
   "outputs": [],
   "source": [
    "def sum_fun(b):\n",
    "    result = 0\n",
    "    for i in b:\n",
    "        result += i\n",
    "    return result"
   ]
  },
  {
   "cell_type": "code",
   "execution_count": 116,
   "id": "9149ca5a",
   "metadata": {},
   "outputs": [
    {
     "data": {
      "text/plain": [
       "15"
      ]
     },
     "execution_count": 116,
     "metadata": {},
     "output_type": "execute_result"
    }
   ],
   "source": [
    "sum_fun(u)"
   ]
  },
  {
   "cell_type": "code",
   "execution_count": 118,
   "id": "04f6bc52",
   "metadata": {},
   "outputs": [
    {
     "data": {
      "text/plain": [
       "55"
      ]
     },
     "execution_count": 118,
     "metadata": {},
     "output_type": "execute_result"
    }
   ],
   "source": [
    "sum_fun(r)"
   ]
  },
  {
   "cell_type": "code",
   "execution_count": 125,
   "id": "ee4325d1",
   "metadata": {},
   "outputs": [],
   "source": [
    "def div_fun(a,b):\n",
    "    try:\n",
    "        return a/b\n",
    "    except ZeroDivisionError:\n",
    "        print(\"Can't divide it by zero\")\n",
    "    except TypeError:\n",
    "        print('Error!')"
   ]
  },
  {
   "cell_type": "code",
   "execution_count": 120,
   "id": "f28c2283",
   "metadata": {},
   "outputs": [
    {
     "data": {
      "text/plain": [
       "2.0"
      ]
     },
     "execution_count": 120,
     "metadata": {},
     "output_type": "execute_result"
    }
   ],
   "source": [
    "div_fun(10,5)"
   ]
  },
  {
   "cell_type": "code",
   "execution_count": 123,
   "id": "2af0f222",
   "metadata": {},
   "outputs": [
    {
     "name": "stdout",
     "output_type": "stream",
     "text": [
      "Can't divide it by zero\n"
     ]
    }
   ],
   "source": [
    "div_fun(10,0)"
   ]
  },
  {
   "cell_type": "code",
   "execution_count": 126,
   "id": "bf024fab",
   "metadata": {},
   "outputs": [
    {
     "name": "stdout",
     "output_type": "stream",
     "text": [
      "Error!\n"
     ]
    }
   ],
   "source": [
    "div_fun(10,'0')"
   ]
  },
  {
   "cell_type": "code",
   "execution_count": 127,
   "id": "21826b9c",
   "metadata": {},
   "outputs": [],
   "source": [
    "w = [1,2,3,4,5,6]\n",
    "p = [10,20,30,40,50,60]\n",
    "q = [10,20,30,40,50,60,70]"
   ]
  },
  {
   "cell_type": "code",
   "execution_count": 129,
   "id": "785b2108",
   "metadata": {},
   "outputs": [
    {
     "name": "stdout",
     "output_type": "stream",
     "text": [
      "0 10\n",
      "1 20\n",
      "2 30\n",
      "3 40\n",
      "4 50\n",
      "5 60\n",
      "6 70\n"
     ]
    }
   ],
   "source": [
    "for i, j in enumerate(q):\n",
    "    print(i,j)"
   ]
  },
  {
   "cell_type": "code",
   "execution_count": 130,
   "id": "049cfe4a",
   "metadata": {},
   "outputs": [
    {
     "name": "stdout",
     "output_type": "stream",
     "text": [
      "10\n",
      "40\n",
      "90\n",
      "160\n",
      "250\n",
      "360\n"
     ]
    }
   ],
   "source": [
    "for i, j in zip(w,q):\n",
    "    print(i * j)"
   ]
  },
  {
   "cell_type": "code",
   "execution_count": 134,
   "id": "69cc3276",
   "metadata": {},
   "outputs": [
    {
     "name": "stdout",
     "output_type": "stream",
     "text": [
      "10\n",
      "40\n",
      "90\n",
      "160\n",
      "250\n",
      "360\n"
     ]
    }
   ],
   "source": [
    "for i, j in zip(w,p):\n",
    "    print(i * j)"
   ]
  },
  {
   "cell_type": "code",
   "execution_count": 132,
   "id": "16e47703",
   "metadata": {},
   "outputs": [
    {
     "data": {
      "text/plain": [
       "[(1, 10), (2, 20), (3, 30), (4, 40), (5, 50), (6, 60)]"
      ]
     },
     "execution_count": 132,
     "metadata": {},
     "output_type": "execute_result"
    }
   ],
   "source": [
    "list(zip(w,p))"
   ]
  },
  {
   "cell_type": "code",
   "execution_count": 133,
   "id": "4212fdbe",
   "metadata": {},
   "outputs": [
    {
     "data": {
      "text/plain": [
       "[(1, 10), (2, 20), (3, 30), (4, 40), (5, 50), (6, 60)]"
      ]
     },
     "execution_count": 133,
     "metadata": {},
     "output_type": "execute_result"
    }
   ],
   "source": [
    "list(zip(w,q))"
   ]
  },
  {
   "cell_type": "code",
   "execution_count": 135,
   "id": "99015b33",
   "metadata": {},
   "outputs": [
    {
     "data": {
      "text/plain": [
       "6"
      ]
     },
     "execution_count": 135,
     "metadata": {},
     "output_type": "execute_result"
    }
   ],
   "source": [
    "len(p)"
   ]
  },
  {
   "cell_type": "code",
   "execution_count": 144,
   "id": "b9c7747f",
   "metadata": {},
   "outputs": [
    {
     "data": {
      "text/plain": [
       "16"
      ]
     },
     "execution_count": 144,
     "metadata": {},
     "output_type": "execute_result"
    }
   ],
   "source": [
    "h = 'hello123ABH@%^&*'\n",
    "len(h)"
   ]
  },
  {
   "cell_type": "code",
   "execution_count": 145,
   "id": "a5b5f69b",
   "metadata": {},
   "outputs": [
    {
     "data": {
      "text/plain": [
       "['%',\n",
       " '&',\n",
       " '*',\n",
       " '1',\n",
       " '2',\n",
       " '3',\n",
       " '@',\n",
       " 'A',\n",
       " 'B',\n",
       " 'H',\n",
       " '^',\n",
       " 'e',\n",
       " 'h',\n",
       " 'l',\n",
       " 'l',\n",
       " 'o']"
      ]
     },
     "execution_count": 145,
     "metadata": {},
     "output_type": "execute_result"
    }
   ],
   "source": [
    "sorted(h)"
   ]
  },
  {
   "cell_type": "code",
   "execution_count": 147,
   "id": "312b1b5c",
   "metadata": {},
   "outputs": [
    {
     "data": {
      "text/plain": [
       "[60, 50, 40, 30, 20, 10]"
      ]
     },
     "execution_count": 147,
     "metadata": {},
     "output_type": "execute_result"
    }
   ],
   "source": [
    "sorted(p, reverse = True)"
   ]
  },
  {
   "cell_type": "code",
   "execution_count": 149,
   "id": "12ae4cb4",
   "metadata": {},
   "outputs": [
    {
     "data": {
      "text/plain": [
       "[60, 50, 40, 30, 20, 10]"
      ]
     },
     "execution_count": 149,
     "metadata": {},
     "output_type": "execute_result"
    }
   ],
   "source": [
    "list(reversed(p))"
   ]
  },
  {
   "cell_type": "markdown",
   "id": "268da831",
   "metadata": {},
   "source": [
    "### Numpy"
   ]
  },
  {
   "cell_type": "code",
   "execution_count": 150,
   "id": "5729c787",
   "metadata": {},
   "outputs": [],
   "source": [
    "import numpy as np"
   ]
  },
  {
   "cell_type": "code",
   "execution_count": 151,
   "id": "ef926316",
   "metadata": {},
   "outputs": [],
   "source": [
    "distance = [100,200,300]\n",
    "time = [5, 2, 4]"
   ]
  },
  {
   "cell_type": "code",
   "execution_count": 158,
   "id": "2f6e9063",
   "metadata": {},
   "outputs": [],
   "source": [
    "# error: speed = distance/time"
   ]
  },
  {
   "cell_type": "code",
   "execution_count": 156,
   "id": "11d50921",
   "metadata": {},
   "outputs": [
    {
     "name": "stdout",
     "output_type": "stream",
     "text": [
      "[100 200 300]\n",
      "<class 'numpy.ndarray'>\n",
      "[5 2 4]\n",
      "<class 'numpy.ndarray'>\n"
     ]
    }
   ],
   "source": [
    "distance_array = np.array(distance)\n",
    "time_array = np.array(time)\n",
    "print(distance_array)\n",
    "print(type(distance_array))\n",
    "print(time_array)\n",
    "print(type(time_array))"
   ]
  },
  {
   "cell_type": "code",
   "execution_count": 157,
   "id": "4786e3dd",
   "metadata": {},
   "outputs": [
    {
     "name": "stdout",
     "output_type": "stream",
     "text": [
      "[ 20. 100.  75.]\n"
     ]
    },
    {
     "data": {
      "text/plain": [
       "numpy.ndarray"
      ]
     },
     "execution_count": 157,
     "metadata": {},
     "output_type": "execute_result"
    }
   ],
   "source": [
    "speed = distance_array/time_array\n",
    "print(speed)\n",
    "type(speed)"
   ]
  },
  {
   "cell_type": "code",
   "execution_count": 162,
   "id": "08fd1691",
   "metadata": {},
   "outputs": [
    {
     "name": "stdout",
     "output_type": "stream",
     "text": [
      "[1 2 3]\n",
      "1\n",
      "(3,)\n",
      "3\n"
     ]
    }
   ],
   "source": [
    "one_darray = np.array([1,2,3])\n",
    "print(one_darray)\n",
    "print(one_darray.ndim)\n",
    "print(one_darray.shape)\n",
    "print(one_darray.size)"
   ]
  },
  {
   "cell_type": "code",
   "execution_count": 163,
   "id": "a35adf62",
   "metadata": {},
   "outputs": [
    {
     "name": "stdout",
     "output_type": "stream",
     "text": [
      "[[1 2 3]\n",
      " [4 5 6]]\n",
      "2\n",
      "(2, 3)\n",
      "6\n"
     ]
    }
   ],
   "source": [
    "two_darray = np.array([[1,2,3],[4,5,6]])\n",
    "print(two_darray)\n",
    "print(two_darray.ndim)\n",
    "print(two_darray.shape)\n",
    "print(two_darray.size)"
   ]
  },
  {
   "cell_type": "code",
   "execution_count": 178,
   "id": "c2b4338e",
   "metadata": {},
   "outputs": [
    {
     "name": "stdout",
     "output_type": "stream",
     "text": [
      "[[[ 1  2  3]\n",
      "  [ 4  5  6]\n",
      "  [10 11 12]]\n",
      "\n",
      " [[ 7  8  9]\n",
      "  [10 11 12]\n",
      "  [13 14 15]]]\n",
      "3\n",
      "(2, 3, 3)\n",
      "18\n"
     ]
    }
   ],
   "source": [
    "three_darray = np.array([[[1,2,3],[4,5,6],[10,11,12]],[[7,8,9],[10,11,12],[13,14,15]]])\n",
    "print(three_darray)\n",
    "print(three_darray.ndim)\n",
    "print(three_darray.shape)\n",
    "print(three_darray.size)"
   ]
  },
  {
   "cell_type": "code",
   "execution_count": 165,
   "id": "dd9a25c3",
   "metadata": {},
   "outputs": [
    {
     "name": "stdout",
     "output_type": "stream",
     "text": [
      "[1 2 3]\n",
      "[4 5 6]\n"
     ]
    }
   ],
   "source": [
    "for i in two_darray:\n",
    "    print(i)"
   ]
  },
  {
   "cell_type": "code",
   "execution_count": 166,
   "id": "75873ba6",
   "metadata": {},
   "outputs": [
    {
     "name": "stdout",
     "output_type": "stream",
     "text": [
      "1\n",
      "2\n",
      "3\n",
      "4\n",
      "5\n",
      "6\n"
     ]
    }
   ],
   "source": [
    "for val in two_darray:\n",
    "    for i in val:\n",
    "        print(i)"
   ]
  },
  {
   "cell_type": "code",
   "execution_count": 179,
   "id": "6ee9be3d",
   "metadata": {},
   "outputs": [
    {
     "data": {
      "text/plain": [
       "array([[[ 1,  2,  3],\n",
       "        [ 4,  5,  6],\n",
       "        [10, 11, 12]],\n",
       "\n",
       "       [[ 7,  8,  9],\n",
       "        [10, 11, 12],\n",
       "        [13, 14, 15]]])"
      ]
     },
     "execution_count": 179,
     "metadata": {},
     "output_type": "execute_result"
    }
   ],
   "source": [
    "three_darray"
   ]
  },
  {
   "cell_type": "code",
   "execution_count": 180,
   "id": "f0b276ae",
   "metadata": {},
   "outputs": [
    {
     "data": {
      "text/plain": [
       "array([[ 1,  2,  3],\n",
       "       [ 4,  5,  6],\n",
       "       [10, 11, 12]])"
      ]
     },
     "execution_count": 180,
     "metadata": {},
     "output_type": "execute_result"
    }
   ],
   "source": [
    "three_darray[0]"
   ]
  },
  {
   "cell_type": "code",
   "execution_count": 181,
   "id": "7b3024ed",
   "metadata": {},
   "outputs": [
    {
     "data": {
      "text/plain": [
       "array([1, 2, 3])"
      ]
     },
     "execution_count": 181,
     "metadata": {},
     "output_type": "execute_result"
    }
   ],
   "source": [
    "three_darray[0][0]"
   ]
  },
  {
   "cell_type": "code",
   "execution_count": 182,
   "id": "88ae3c8d",
   "metadata": {},
   "outputs": [
    {
     "data": {
      "text/plain": [
       "array([4, 5, 6])"
      ]
     },
     "execution_count": 182,
     "metadata": {},
     "output_type": "execute_result"
    }
   ],
   "source": [
    "three_darray[0][1]"
   ]
  },
  {
   "cell_type": "code",
   "execution_count": 185,
   "id": "2b5e29cd",
   "metadata": {},
   "outputs": [
    {
     "name": "stdout",
     "output_type": "stream",
     "text": [
      "[ 1  4 10]\n",
      "[ 2  5 11]\n",
      "[[ 1  2]\n",
      " [ 4  5]\n",
      " [10 11]]\n",
      "[[2 3]\n",
      " [5 6]]\n"
     ]
    }
   ],
   "source": [
    "print(three_darray[0][:,0])\n",
    "print(three_darray[0][:,1])\n",
    "print(three_darray[0][:,0:2])\n",
    "print(three_darray[0][0:2:,1:3])"
   ]
  },
  {
   "cell_type": "code",
   "execution_count": 186,
   "id": "929f2b4c",
   "metadata": {},
   "outputs": [
    {
     "name": "stdout",
     "output_type": "stream",
     "text": [
      "[ 7 10 13]\n",
      "[ 8 11 14]\n",
      "[[ 7  8]\n",
      " [10 11]\n",
      " [13 14]]\n",
      "[[ 8  9]\n",
      " [11 12]]\n"
     ]
    }
   ],
   "source": [
    "print(three_darray[1][:,0])\n",
    "print(three_darray[1][:,1])\n",
    "print(three_darray[1][:,0:2])\n",
    "print(three_darray[1][0:2:,1:3])"
   ]
  },
  {
   "cell_type": "code",
   "execution_count": 207,
   "id": "2c3842c7",
   "metadata": {},
   "outputs": [
    {
     "data": {
      "text/plain": [
       "array([[[ 1,  2,  3],\n",
       "        [ 4,  5,  6],\n",
       "        [10, 11, 12]],\n",
       "\n",
       "       [[ 7,  8,  9],\n",
       "        [10, 11, 12],\n",
       "        [13, 14, 15]]])"
      ]
     },
     "execution_count": 207,
     "metadata": {},
     "output_type": "execute_result"
    }
   ],
   "source": [
    "three_darray = np.array([[[1,2,3],[4,5,6],[10,11,12]],[[7,8,9],[10,11,12],[13,14,15]]])\n",
    "three_darray"
   ]
  },
  {
   "cell_type": "code",
   "execution_count": 208,
   "id": "2fa6fc4a",
   "metadata": {},
   "outputs": [
    {
     "name": "stdout",
     "output_type": "stream",
     "text": [
      "15\n",
      "17\n"
     ]
    }
   ],
   "source": [
    "print(three_darray.max())\n",
    "print(three_darray.argmax())"
   ]
  },
  {
   "cell_type": "code",
   "execution_count": 209,
   "id": "83e8e062",
   "metadata": {},
   "outputs": [
    {
     "name": "stdout",
     "output_type": "stream",
     "text": [
      "8.5\n",
      "4.112987559751022\n",
      "15\n",
      "17\n",
      "1\n",
      "0\n"
     ]
    }
   ],
   "source": [
    "print(three_darray.mean())\n",
    "print(three_darray.std())\n",
    "print(three_darray.max())\n",
    "print(three_darray.argmax())\n",
    "print(three_darray.min())\n",
    "print(three_darray.argmin())"
   ]
  },
  {
   "cell_type": "code",
   "execution_count": 211,
   "id": "cb0b3183",
   "metadata": {},
   "outputs": [],
   "source": [
    "#error: \n",
    "#print(three_darray.median())\n",
    "#print(three_darray.mode())"
   ]
  },
  {
   "cell_type": "code",
   "execution_count": 212,
   "id": "8a5938d7",
   "metadata": {},
   "outputs": [
    {
     "data": {
      "text/plain": [
       "array([[0., 0., 0.],\n",
       "       [0., 0., 0.],\n",
       "       [0., 0., 0.]])"
      ]
     },
     "execution_count": 212,
     "metadata": {},
     "output_type": "execute_result"
    }
   ],
   "source": [
    "np.zeros([3,3])"
   ]
  },
  {
   "cell_type": "code",
   "execution_count": 213,
   "id": "2eb96eaa",
   "metadata": {},
   "outputs": [
    {
     "data": {
      "text/plain": [
       "array([[1., 1., 1., 1.],\n",
       "       [1., 1., 1., 1.],\n",
       "       [1., 1., 1., 1.]])"
      ]
     },
     "execution_count": 213,
     "metadata": {},
     "output_type": "execute_result"
    }
   ],
   "source": [
    "np.ones([3,4])"
   ]
  },
  {
   "cell_type": "code",
   "execution_count": 215,
   "id": "53a5fc6d",
   "metadata": {},
   "outputs": [
    {
     "data": {
      "text/plain": [
       "array([[1., 0., 0.],\n",
       "       [0., 1., 0.],\n",
       "       [0., 0., 1.]])"
      ]
     },
     "execution_count": 215,
     "metadata": {},
     "output_type": "execute_result"
    }
   ],
   "source": [
    "np.identity(3)"
   ]
  },
  {
   "cell_type": "code",
   "execution_count": 216,
   "id": "92436e8c",
   "metadata": {},
   "outputs": [
    {
     "data": {
      "text/plain": [
       "array([[5, 5, 5],\n",
       "       [5, 5, 5],\n",
       "       [5, 5, 5]])"
      ]
     },
     "execution_count": 216,
     "metadata": {},
     "output_type": "execute_result"
    }
   ],
   "source": [
    "np.full([3,3],5)"
   ]
  },
  {
   "cell_type": "code",
   "execution_count": 220,
   "id": "0904837a",
   "metadata": {},
   "outputs": [
    {
     "data": {
      "text/plain": [
       "array([1.1, 2.6, 3.9])"
      ]
     },
     "execution_count": 220,
     "metadata": {},
     "output_type": "execute_result"
    }
   ],
   "source": [
    "one_darray = np.array([1.1,2.6,3.9])\n",
    "one_darray"
   ]
  },
  {
   "cell_type": "code",
   "execution_count": 221,
   "id": "c6f7654b",
   "metadata": {},
   "outputs": [
    {
     "name": "stdout",
     "output_type": "stream",
     "text": [
      "[ 3.00416602 13.46373804 49.40244911]\n",
      "[ 0.45359612 -0.85688875 -0.7259323 ]\n",
      "[ 1.96475966 -0.60159661  0.94742465]\n",
      "[1. 2. 3.]\n",
      "[2. 3. 4.]\n"
     ]
    }
   ],
   "source": [
    "print(np.exp(one_darray))\n",
    "print(np.cos(one_darray))\n",
    "print(np.tan(one_darray))\n",
    "print(np.floor(one_darray))\n",
    "print(np.ceil(one_darray))"
   ]
  },
  {
   "cell_type": "code",
   "execution_count": 240,
   "id": "70c901b7",
   "metadata": {},
   "outputs": [],
   "source": [
    "#simple assignment\n",
    "a = np.array([1,2,4])\n",
    "b = a"
   ]
  },
  {
   "cell_type": "code",
   "execution_count": 241,
   "id": "13ad6034",
   "metadata": {},
   "outputs": [
    {
     "name": "stdout",
     "output_type": "stream",
     "text": [
      "[1 2 4]\n",
      "0x7fc72d73af90\n",
      "[1 2 4]\n",
      "0x7fc72d73af90\n"
     ]
    }
   ],
   "source": [
    "print(b)\n",
    "print(hex(id(b)))\n",
    "print(a)\n",
    "print(hex(id(a)))"
   ]
  },
  {
   "cell_type": "code",
   "execution_count": 244,
   "id": "391e8b31",
   "metadata": {},
   "outputs": [
    {
     "data": {
      "text/plain": [
       "array([1, 2, 4])"
      ]
     },
     "execution_count": 244,
     "metadata": {},
     "output_type": "execute_result"
    }
   ],
   "source": [
    "#Shallow copy\n",
    "c = a.view()\n",
    "c"
   ]
  },
  {
   "cell_type": "code",
   "execution_count": 245,
   "id": "1c5100a3",
   "metadata": {},
   "outputs": [
    {
     "name": "stdout",
     "output_type": "stream",
     "text": [
      "[-1  2  4]\n",
      "0x7fc72d49ce70\n",
      "[-1  2  4]\n",
      "0x7fc72d73af90\n"
     ]
    }
   ],
   "source": [
    "c[0] = -1\n",
    "print(c)\n",
    "print(hex(id(c)))\n",
    "print(a)\n",
    "print(hex(id(a)))"
   ]
  },
  {
   "cell_type": "code",
   "execution_count": 242,
   "id": "e2866420",
   "metadata": {},
   "outputs": [
    {
     "data": {
      "text/plain": [
       "array([1, 2, 4])"
      ]
     },
     "execution_count": 242,
     "metadata": {},
     "output_type": "execute_result"
    }
   ],
   "source": [
    "#Deep Copy\n",
    "d = a.copy()\n",
    "d"
   ]
  },
  {
   "cell_type": "code",
   "execution_count": 243,
   "id": "01dd1aa3",
   "metadata": {},
   "outputs": [
    {
     "name": "stdout",
     "output_type": "stream",
     "text": [
      "[-1  2  4]\n",
      "0x7fc72d73a2d0\n",
      "[1 2 4]\n",
      "0x7fc72d73af90\n"
     ]
    }
   ],
   "source": [
    "d[0] = -1\n",
    "print(d)\n",
    "print(hex(id(d)))\n",
    "print(a)\n",
    "print(hex(id(a)))"
   ]
  },
  {
   "cell_type": "code",
   "execution_count": 255,
   "id": "a0e5383e",
   "metadata": {},
   "outputs": [
    {
     "data": {
      "text/plain": [
       "array([[[ 1,  2,  3],\n",
       "        [ 4,  5,  6],\n",
       "        [10, 11, 12]],\n",
       "\n",
       "       [[ 7,  8,  9],\n",
       "        [10, 11, 12],\n",
       "        [13, 14, 15]]])"
      ]
     },
     "execution_count": 255,
     "metadata": {},
     "output_type": "execute_result"
    }
   ],
   "source": [
    "three_darray_1 = three_darray\n",
    "three_darray_1"
   ]
  },
  {
   "cell_type": "code",
   "execution_count": 254,
   "id": "7a4bc7fa",
   "metadata": {},
   "outputs": [
    {
     "data": {
      "text/plain": [
       "array([ 1,  2,  3,  4,  5,  6, 10, 11, 12,  7,  8,  9, 10, 11, 12, 13, 14,\n",
       "       15])"
      ]
     },
     "execution_count": 254,
     "metadata": {},
     "output_type": "execute_result"
    }
   ],
   "source": [
    "three_darray_1.ravel()"
   ]
  },
  {
   "cell_type": "code",
   "execution_count": 259,
   "id": "3611fcbd",
   "metadata": {},
   "outputs": [
    {
     "data": {
      "text/plain": [
       "18"
      ]
     },
     "execution_count": 259,
     "metadata": {},
     "output_type": "execute_result"
    }
   ],
   "source": [
    "f = three_darray_1.flatten()\n",
    "f.size"
   ]
  },
  {
   "cell_type": "code",
   "execution_count": 264,
   "id": "03c68437",
   "metadata": {},
   "outputs": [
    {
     "data": {
      "text/plain": [
       "array([[ 1,  2,  3],\n",
       "       [ 4,  5,  6],\n",
       "       [10, 11, 12],\n",
       "       [ 7,  8,  9],\n",
       "       [10, 11, 12],\n",
       "       [13, 14, 15]])"
      ]
     },
     "execution_count": 264,
     "metadata": {},
     "output_type": "execute_result"
    }
   ],
   "source": [
    "f.reshape(6,3)"
   ]
  },
  {
   "cell_type": "code",
   "execution_count": 265,
   "id": "b8dc1aba",
   "metadata": {},
   "outputs": [
    {
     "data": {
      "text/plain": [
       "array([[ 1,  2],\n",
       "       [ 3,  4],\n",
       "       [ 5,  6],\n",
       "       [10, 11],\n",
       "       [12,  7],\n",
       "       [ 8,  9],\n",
       "       [10, 11],\n",
       "       [12, 13],\n",
       "       [14, 15]])"
      ]
     },
     "execution_count": 265,
     "metadata": {},
     "output_type": "execute_result"
    }
   ],
   "source": [
    "f"
   ]
  },
  {
   "cell_type": "code",
   "execution_count": 266,
   "id": "deb4b5bb",
   "metadata": {},
   "outputs": [
    {
     "data": {
      "text/plain": [
       "array([[ 1,  2,  3],\n",
       "       [ 4,  5,  6],\n",
       "       [10, 11, 12],\n",
       "       [ 7,  8,  9],\n",
       "       [10, 11, 12],\n",
       "       [13, 14, 15]])"
      ]
     },
     "execution_count": 266,
     "metadata": {},
     "output_type": "execute_result"
    }
   ],
   "source": [
    "f.resize(6,3)\n",
    "f"
   ]
  },
  {
   "cell_type": "code",
   "execution_count": 267,
   "id": "c69c7bef",
   "metadata": {},
   "outputs": [
    {
     "data": {
      "text/plain": [
       "[array([[1, 2, 3]]),\n",
       " array([[4, 5, 6]]),\n",
       " array([[10, 11, 12]]),\n",
       " array([[7, 8, 9]]),\n",
       " array([[10, 11, 12]]),\n",
       " array([[13, 14, 15]])]"
      ]
     },
     "execution_count": 267,
     "metadata": {},
     "output_type": "execute_result"
    }
   ],
   "source": [
    "np.split(f,6)"
   ]
  },
  {
   "cell_type": "code",
   "execution_count": 273,
   "id": "40306de6",
   "metadata": {},
   "outputs": [],
   "source": [
    "#Error: np.split(f,6).ndim"
   ]
  },
  {
   "cell_type": "code",
   "execution_count": 268,
   "id": "f81caed5",
   "metadata": {},
   "outputs": [
    {
     "data": {
      "text/plain": [
       "array([[[ 1,  2,  3],\n",
       "        [ 4,  5,  6],\n",
       "        [10, 11, 12],\n",
       "        [ 7,  8,  9],\n",
       "        [10, 11, 12],\n",
       "        [13, 14, 15]],\n",
       "\n",
       "       [[ 1,  2,  3],\n",
       "        [ 4,  5,  6],\n",
       "        [10, 11, 12],\n",
       "        [ 7,  8,  9],\n",
       "        [10, 11, 12],\n",
       "        [13, 14, 15]]])"
      ]
     },
     "execution_count": 268,
     "metadata": {},
     "output_type": "execute_result"
    }
   ],
   "source": [
    "np.stack([f,f])"
   ]
  },
  {
   "cell_type": "code",
   "execution_count": 269,
   "id": "bcaed8bd",
   "metadata": {},
   "outputs": [
    {
     "data": {
      "text/plain": [
       "3"
      ]
     },
     "execution_count": 269,
     "metadata": {},
     "output_type": "execute_result"
    }
   ],
   "source": [
    "np.stack([f,f]).ndim"
   ]
  },
  {
   "cell_type": "code",
   "execution_count": 270,
   "id": "24bf9e47",
   "metadata": {},
   "outputs": [
    {
     "data": {
      "text/plain": [
       "array([[ 1,  2,  3,  1,  2,  3],\n",
       "       [ 4,  5,  6,  4,  5,  6],\n",
       "       [10, 11, 12, 10, 11, 12],\n",
       "       [ 7,  8,  9,  7,  8,  9],\n",
       "       [10, 11, 12, 10, 11, 12],\n",
       "       [13, 14, 15, 13, 14, 15]])"
      ]
     },
     "execution_count": 270,
     "metadata": {},
     "output_type": "execute_result"
    }
   ],
   "source": [
    "np.hstack([f,f])"
   ]
  },
  {
   "cell_type": "code",
   "execution_count": 271,
   "id": "c4524b16",
   "metadata": {},
   "outputs": [
    {
     "data": {
      "text/plain": [
       "2"
      ]
     },
     "execution_count": 271,
     "metadata": {},
     "output_type": "execute_result"
    }
   ],
   "source": [
    "np.hstack([f,f]).ndim"
   ]
  },
  {
   "cell_type": "code",
   "execution_count": 275,
   "id": "9e771a47",
   "metadata": {},
   "outputs": [
    {
     "data": {
      "text/plain": [
       "[array([[ 1],\n",
       "        [ 4],\n",
       "        [10],\n",
       "        [ 7],\n",
       "        [10],\n",
       "        [13]]),\n",
       " array([[ 2],\n",
       "        [ 5],\n",
       "        [11],\n",
       "        [ 8],\n",
       "        [11],\n",
       "        [14]]),\n",
       " array([[ 3],\n",
       "        [ 6],\n",
       "        [12],\n",
       "        [ 9],\n",
       "        [12],\n",
       "        [15]])]"
      ]
     },
     "execution_count": 275,
     "metadata": {},
     "output_type": "execute_result"
    }
   ],
   "source": [
    "np.hsplit(f,3)"
   ]
  },
  {
   "cell_type": "code",
   "execution_count": 277,
   "id": "92be65e5",
   "metadata": {},
   "outputs": [],
   "source": [
    "# Error: np.split(f,6).ndim"
   ]
  },
  {
   "cell_type": "code",
   "execution_count": 279,
   "id": "c32b9e19",
   "metadata": {},
   "outputs": [],
   "source": [
    "a = np.array([1,2,3])\n",
    "b = np.array([3,4,5])\n",
    "c = np.array([1,2,3,5])"
   ]
  },
  {
   "cell_type": "code",
   "execution_count": 280,
   "id": "33b03747",
   "metadata": {},
   "outputs": [
    {
     "data": {
      "text/plain": [
       "array([ 3,  8, 15])"
      ]
     },
     "execution_count": 280,
     "metadata": {},
     "output_type": "execute_result"
    }
   ],
   "source": [
    "a * b"
   ]
  },
  {
   "cell_type": "code",
   "execution_count": 282,
   "id": "040fda80",
   "metadata": {},
   "outputs": [],
   "source": [
    "#Broadcast Error:\n",
    "#a * c"
   ]
  },
  {
   "cell_type": "code",
   "execution_count": 283,
   "id": "d715a69f",
   "metadata": {},
   "outputs": [
    {
     "data": {
      "text/plain": [
       "array([ 5, 10, 15])"
      ]
     },
     "execution_count": 283,
     "metadata": {},
     "output_type": "execute_result"
    }
   ],
   "source": [
    "5 * a"
   ]
  },
  {
   "cell_type": "code",
   "execution_count": 287,
   "id": "a52b1da8",
   "metadata": {},
   "outputs": [
    {
     "data": {
      "text/plain": [
       "array([[1, 2],\n",
       "       [4, 5]])"
      ]
     },
     "execution_count": 287,
     "metadata": {},
     "output_type": "execute_result"
    }
   ],
   "source": [
    "A = two_darray[:,0:2]\n",
    "A"
   ]
  },
  {
   "cell_type": "code",
   "execution_count": 290,
   "id": "196bc7d7",
   "metadata": {},
   "outputs": [
    {
     "data": {
      "text/plain": [
       "array([3, 6])"
      ]
     },
     "execution_count": 290,
     "metadata": {},
     "output_type": "execute_result"
    }
   ],
   "source": [
    "Y = np.array([3,6])\n",
    "Y"
   ]
  },
  {
   "cell_type": "code",
   "execution_count": 288,
   "id": "7d2542ad",
   "metadata": {},
   "outputs": [
    {
     "data": {
      "text/plain": [
       "array([[1, 4],\n",
       "       [2, 5]])"
      ]
     },
     "execution_count": 288,
     "metadata": {},
     "output_type": "execute_result"
    }
   ],
   "source": [
    "np.transpose(A)"
   ]
  },
  {
   "cell_type": "code",
   "execution_count": 289,
   "id": "d1b9ee53",
   "metadata": {},
   "outputs": [
    {
     "data": {
      "text/plain": [
       "array([[1, 4],\n",
       "       [2, 5]])"
      ]
     },
     "execution_count": 289,
     "metadata": {},
     "output_type": "execute_result"
    }
   ],
   "source": [
    "A.T"
   ]
  },
  {
   "cell_type": "code",
   "execution_count": 291,
   "id": "637c06cf",
   "metadata": {},
   "outputs": [
    {
     "data": {
      "text/plain": [
       "-2.9999999999999996"
      ]
     },
     "execution_count": 291,
     "metadata": {},
     "output_type": "execute_result"
    }
   ],
   "source": [
    "np.linalg.det(A)"
   ]
  },
  {
   "cell_type": "code",
   "execution_count": 292,
   "id": "834aa59e",
   "metadata": {},
   "outputs": [
    {
     "data": {
      "text/plain": [
       "array([[-1.66666667,  0.66666667],\n",
       "       [ 1.33333333, -0.33333333]])"
      ]
     },
     "execution_count": 292,
     "metadata": {},
     "output_type": "execute_result"
    }
   ],
   "source": [
    "np.linalg.inv(A)"
   ]
  },
  {
   "cell_type": "code",
   "execution_count": 293,
   "id": "99a5811e",
   "metadata": {},
   "outputs": [
    {
     "data": {
      "text/plain": [
       "array([[1., 0.],\n",
       "       [0., 1.]])"
      ]
     },
     "execution_count": 293,
     "metadata": {},
     "output_type": "execute_result"
    }
   ],
   "source": [
    "np.dot(A,np.linalg.inv(A))"
   ]
  },
  {
   "cell_type": "code",
   "execution_count": 297,
   "id": "b76edea2",
   "metadata": {},
   "outputs": [
    {
     "data": {
      "text/plain": [
       "array([-1.,  2.])"
      ]
     },
     "execution_count": 297,
     "metadata": {},
     "output_type": "execute_result"
    }
   ],
   "source": [
    "np.dot(np.linalg.inv(A),Y)"
   ]
  },
  {
   "cell_type": "code",
   "execution_count": 296,
   "id": "50e065c4",
   "metadata": {},
   "outputs": [
    {
     "data": {
      "text/plain": [
       "array([-1.,  2.])"
      ]
     },
     "execution_count": 296,
     "metadata": {},
     "output_type": "execute_result"
    }
   ],
   "source": [
    "np.linalg.solve(A,Y)"
   ]
  },
  {
   "cell_type": "code",
   "execution_count": 298,
   "id": "6adfa530",
   "metadata": {},
   "outputs": [
    {
     "data": {
      "text/plain": [
       "(array([-0.46410162,  6.46410162]),\n",
       " array([[-0.80689822, -0.34372377],\n",
       "        [ 0.59069049, -0.9390708 ]]))"
      ]
     },
     "execution_count": 298,
     "metadata": {},
     "output_type": "execute_result"
    }
   ],
   "source": [
    "np.linalg.eig(A)"
   ]
  },
  {
   "cell_type": "code",
   "execution_count": 301,
   "id": "a7a7149d",
   "metadata": {},
   "outputs": [
    {
     "data": {
      "text/plain": [
       "array([-0.46410162,  6.46410162])"
      ]
     },
     "execution_count": 301,
     "metadata": {},
     "output_type": "execute_result"
    }
   ],
   "source": [
    "np.linalg.eigvals(A)"
   ]
  },
  {
   "cell_type": "code",
   "execution_count": 302,
   "id": "b4826370",
   "metadata": {},
   "outputs": [
    {
     "data": {
      "text/plain": [
       "array([-1.47213595,  7.47213595])"
      ]
     },
     "execution_count": 302,
     "metadata": {},
     "output_type": "execute_result"
    }
   ],
   "source": [
    "np.linalg.eigvals(A)"
   ]
  },
  {
   "cell_type": "markdown",
   "id": "f0d31092",
   "metadata": {},
   "source": [
    "### SciPy"
   ]
  },
  {
   "cell_type": "code",
   "execution_count": 303,
   "id": "424aea85",
   "metadata": {},
   "outputs": [],
   "source": [
    "from scipy.integrate import quad"
   ]
  },
  {
   "cell_type": "code",
   "execution_count": 320,
   "id": "38d9224b",
   "metadata": {},
   "outputs": [],
   "source": [
    "def fun_1(x):\n",
    "    return x**2"
   ]
  },
  {
   "cell_type": "code",
   "execution_count": 321,
   "id": "053c53a3",
   "metadata": {},
   "outputs": [
    {
     "data": {
      "text/plain": [
       "(2.3333333333333335, 2.590520390792032e-14)"
      ]
     },
     "execution_count": 321,
     "metadata": {},
     "output_type": "execute_result"
    }
   ],
   "source": [
    "quad(fun_1, 1,2)"
   ]
  },
  {
   "cell_type": "code",
   "execution_count": 322,
   "id": "813eaa57",
   "metadata": {},
   "outputs": [],
   "source": [
    "def fun_2(x,a,b):\n",
    "    return x**a + b**x"
   ]
  },
  {
   "cell_type": "code",
   "execution_count": 323,
   "id": "d45cbce0",
   "metadata": {},
   "outputs": [
    {
     "data": {
      "text/plain": [
       "(4.385390081777926, 4.8687610407526515e-14)"
      ]
     },
     "execution_count": 323,
     "metadata": {},
     "output_type": "execute_result"
    }
   ],
   "source": [
    "quad(fun_2,1,2, args = (1,2))"
   ]
  },
  {
   "cell_type": "code",
   "execution_count": 313,
   "id": "5f84a1a5",
   "metadata": {},
   "outputs": [],
   "source": [
    "from scipy.integrate import dblquad"
   ]
  },
  {
   "cell_type": "code",
   "execution_count": 324,
   "id": "b0192933",
   "metadata": {},
   "outputs": [],
   "source": [
    "def fun_3(x,y,a,b):\n",
    "    return x**a + y**b"
   ]
  },
  {
   "cell_type": "code",
   "execution_count": 325,
   "id": "f5b5bf81",
   "metadata": {},
   "outputs": [
    {
     "data": {
      "text/plain": [
       "(4.666666666666666, 7.021774688857003e-14)"
      ]
     },
     "execution_count": 325,
     "metadata": {},
     "output_type": "execute_result"
    }
   ],
   "source": [
    "dblquad(fun_3,1,2,1,2, args = (2,2))"
   ]
  },
  {
   "cell_type": "code",
   "execution_count": 327,
   "id": "26c2a418",
   "metadata": {},
   "outputs": [],
   "source": [
    "def fun_4(x,y,a,b):\n",
    "    return x**a + b**y"
   ]
  },
  {
   "cell_type": "code",
   "execution_count": 328,
   "id": "aaed6126",
   "metadata": {},
   "outputs": [
    {
     "data": {
      "text/plain": [
       "(5.218723415111261, 7.024733474226173e-14)"
      ]
     },
     "execution_count": 328,
     "metadata": {},
     "output_type": "execute_result"
    }
   ],
   "source": [
    "dblquad(fun_4,1,2,1,2, args = (2,2))"
   ]
  },
  {
   "cell_type": "code",
   "execution_count": 329,
   "id": "1b3fbc1a",
   "metadata": {},
   "outputs": [],
   "source": [
    "from scipy.optimize import minimize\n",
    "from scipy.optimize import root"
   ]
  },
  {
   "cell_type": "code",
   "execution_count": 330,
   "id": "3cc04935",
   "metadata": {},
   "outputs": [
    {
     "data": {
      "text/plain": [
       "      fun: 5.5507930986288555e-17\n",
       " hess_inv: array([[0.5]])\n",
       "      jac: array([4.32220232e-13])\n",
       "  message: 'Optimization terminated successfully.'\n",
       "     nfev: 9\n",
       "      nit: 2\n",
       "     njev: 3\n",
       "   status: 0\n",
       "  success: True\n",
       "        x: array([-7.45036449e-09])"
      ]
     },
     "execution_count": 330,
     "metadata": {},
     "output_type": "execute_result"
    }
   ],
   "source": [
    "minimize(fun_1,1)"
   ]
  },
  {
   "cell_type": "code",
   "execution_count": 331,
   "id": "1a042184",
   "metadata": {},
   "outputs": [
    {
     "data": {
      "text/plain": [
       "5.5507930986288555e-17"
      ]
     },
     "execution_count": 331,
     "metadata": {},
     "output_type": "execute_result"
    }
   ],
   "source": [
    "minimize(fun_1,1).fun"
   ]
  },
  {
   "cell_type": "code",
   "execution_count": 336,
   "id": "7f013623",
   "metadata": {},
   "outputs": [
    {
     "data": {
      "text/plain": [
       "    fjac: array([[-1.]])\n",
       "     fun: array([3.22743727e-167])\n",
       " message: 'The number of calls to function has reached maxfev = 400.'\n",
       "    nfev: 400\n",
       "     qtf: array([-8.44954046e-167])\n",
       "       r: array([-2.40653302e-83])\n",
       "  status: 2\n",
       " success: False\n",
       "       x: array([5.68105383e-84])"
      ]
     },
     "execution_count": 336,
     "metadata": {},
     "output_type": "execute_result"
    }
   ],
   "source": [
    "root(fun_1,1)"
   ]
  },
  {
   "cell_type": "code",
   "execution_count": 332,
   "id": "77f61534",
   "metadata": {},
   "outputs": [
    {
     "data": {
      "text/plain": [
       "array([5.68105383e-84])"
      ]
     },
     "execution_count": 332,
     "metadata": {},
     "output_type": "execute_result"
    }
   ],
   "source": [
    "root(fun_1,1).x"
   ]
  },
  {
   "cell_type": "code",
   "execution_count": 333,
   "id": "67af79e4",
   "metadata": {},
   "outputs": [],
   "source": [
    "def fun_6(x,a):\n",
    "    return x**a + 1"
   ]
  },
  {
   "cell_type": "code",
   "execution_count": 334,
   "id": "223cef0d",
   "metadata": {},
   "outputs": [
    {
     "data": {
      "text/plain": [
       "-3.247372710752487e+24"
      ]
     },
     "execution_count": 334,
     "metadata": {},
     "output_type": "execute_result"
    }
   ],
   "source": [
    "minimize(fun_6,1, args = 3).fun"
   ]
  },
  {
   "cell_type": "code",
   "execution_count": 335,
   "id": "e89b5645",
   "metadata": {},
   "outputs": [
    {
     "data": {
      "text/plain": [
       "array([-1.])"
      ]
     },
     "execution_count": 335,
     "metadata": {},
     "output_type": "execute_result"
    }
   ],
   "source": [
    "root(fun_6,1, args = 3).x"
   ]
  },
  {
   "cell_type": "code",
   "execution_count": 337,
   "id": "bbe86541",
   "metadata": {},
   "outputs": [],
   "source": [
    "from scipy import linalg"
   ]
  },
  {
   "cell_type": "code",
   "execution_count": 338,
   "id": "b81e63f6",
   "metadata": {},
   "outputs": [
    {
     "data": {
      "text/plain": [
       "array([[1, 2],\n",
       "       [4, 5]])"
      ]
     },
     "execution_count": 338,
     "metadata": {},
     "output_type": "execute_result"
    }
   ],
   "source": [
    "A"
   ]
  },
  {
   "cell_type": "code",
   "execution_count": 339,
   "id": "6199b522",
   "metadata": {},
   "outputs": [
    {
     "name": "stdout",
     "output_type": "stream",
     "text": [
      "-3.0\n",
      "[[-1.66666667  0.66666667]\n",
      " [ 1.33333333 -0.33333333]]\n"
     ]
    }
   ],
   "source": [
    "print(linalg.det(A))\n",
    "print(linalg.inv(A))"
   ]
  },
  {
   "cell_type": "code",
   "execution_count": 341,
   "id": "4cc2124f",
   "metadata": {},
   "outputs": [
    {
     "data": {
      "text/plain": [
       "array([[1., 0.],\n",
       "       [0., 1.]])"
      ]
     },
     "execution_count": 341,
     "metadata": {},
     "output_type": "execute_result"
    }
   ],
   "source": [
    "np.dot(A,linalg.inv(A))"
   ]
  },
  {
   "cell_type": "code",
   "execution_count": 343,
   "id": "b19b9f58",
   "metadata": {},
   "outputs": [
    {
     "data": {
      "text/plain": [
       "array([-1.,  2.])"
      ]
     },
     "execution_count": 343,
     "metadata": {},
     "output_type": "execute_result"
    }
   ],
   "source": [
    "linalg.solve(A,Y)"
   ]
  },
  {
   "cell_type": "code",
   "execution_count": 344,
   "id": "ab1ba51a",
   "metadata": {},
   "outputs": [
    {
     "data": {
      "text/plain": [
       "array([-1.,  2.])"
      ]
     },
     "execution_count": 344,
     "metadata": {},
     "output_type": "execute_result"
    }
   ],
   "source": [
    "np.dot(linalg.inv(A),Y)"
   ]
  },
  {
   "cell_type": "code",
   "execution_count": 347,
   "id": "4ad7a1c0",
   "metadata": {},
   "outputs": [],
   "source": [
    "from scipy.stats import norm"
   ]
  },
  {
   "cell_type": "code",
   "execution_count": 351,
   "id": "540863b3",
   "metadata": {},
   "outputs": [
    {
     "data": {
      "text/plain": [
       "array([-0.5320745 , -0.6806516 ,  1.21823217, -0.17204955, -1.54255267,\n",
       "       -1.16027322, -1.21505985, -0.0752587 ,  0.32507574,  0.16215686])"
      ]
     },
     "execution_count": 351,
     "metadata": {},
     "output_type": "execute_result"
    }
   ],
   "source": [
    "norm.rvs(size = 10, loc = 0, scale = 1)"
   ]
  },
  {
   "cell_type": "code",
   "execution_count": 355,
   "id": "75862116",
   "metadata": {},
   "outputs": [
    {
     "data": {
      "text/plain": [
       "0.12951759566589174"
      ]
     },
     "execution_count": 355,
     "metadata": {},
     "output_type": "execute_result"
    }
   ],
   "source": [
    "norm.pdf(1.5, loc = 0, scale = 1)"
   ]
  },
  {
   "cell_type": "code",
   "execution_count": 354,
   "id": "202e81af",
   "metadata": {},
   "outputs": [
    {
     "data": {
      "text/plain": [
       "0.9331927987311419"
      ]
     },
     "execution_count": 354,
     "metadata": {},
     "output_type": "execute_result"
    }
   ],
   "source": [
    "norm.cdf(1.5, loc = 0, scale = 1)"
   ]
  },
  {
   "cell_type": "markdown",
   "id": "0516af08",
   "metadata": {},
   "source": [
    "### Pandas"
   ]
  },
  {
   "cell_type": "markdown",
   "id": "06eb5290",
   "metadata": {},
   "source": [
    "#### Series"
   ]
  },
  {
   "cell_type": "code",
   "execution_count": null,
   "id": "e9dcf003",
   "metadata": {},
   "outputs": [],
   "source": []
  },
  {
   "cell_type": "code",
   "execution_count": null,
   "id": "10d5e6ab",
   "metadata": {},
   "outputs": [],
   "source": []
  },
  {
   "cell_type": "code",
   "execution_count": null,
   "id": "d89fe3a6",
   "metadata": {},
   "outputs": [],
   "source": []
  },
  {
   "cell_type": "code",
   "execution_count": null,
   "id": "ce512070",
   "metadata": {},
   "outputs": [],
   "source": []
  },
  {
   "cell_type": "code",
   "execution_count": null,
   "id": "9cbcfcee",
   "metadata": {},
   "outputs": [],
   "source": []
  },
  {
   "cell_type": "code",
   "execution_count": null,
   "id": "79378b13",
   "metadata": {},
   "outputs": [],
   "source": []
  },
  {
   "cell_type": "code",
   "execution_count": null,
   "id": "d156cdcb",
   "metadata": {},
   "outputs": [],
   "source": []
  },
  {
   "cell_type": "code",
   "execution_count": null,
   "id": "3f65e077",
   "metadata": {},
   "outputs": [],
   "source": []
  },
  {
   "cell_type": "markdown",
   "id": "debdaf5a",
   "metadata": {},
   "source": [
    "#### DataFrame"
   ]
  },
  {
   "cell_type": "code",
   "execution_count": 357,
   "id": "44bd22db",
   "metadata": {},
   "outputs": [],
   "source": [
    "import numpy as np\n",
    "import pandas as pd"
   ]
  },
  {
   "cell_type": "code",
   "execution_count": 429,
   "id": "4f0cceed",
   "metadata": {},
   "outputs": [
    {
     "data": {
      "text/html": [
       "<div>\n",
       "<style scoped>\n",
       "    .dataframe tbody tr th:only-of-type {\n",
       "        vertical-align: middle;\n",
       "    }\n",
       "\n",
       "    .dataframe tbody tr th {\n",
       "        vertical-align: top;\n",
       "    }\n",
       "\n",
       "    .dataframe thead th {\n",
       "        text-align: right;\n",
       "    }\n",
       "</style>\n",
       "<table border=\"1\" class=\"dataframe\">\n",
       "  <thead>\n",
       "    <tr style=\"text-align: right;\">\n",
       "      <th></th>\n",
       "      <th>movie1</th>\n",
       "      <th>movie2</th>\n",
       "      <th>Name</th>\n",
       "    </tr>\n",
       "  </thead>\n",
       "  <tbody>\n",
       "    <tr>\n",
       "      <th>a</th>\n",
       "      <td>5</td>\n",
       "      <td>4</td>\n",
       "      <td>x</td>\n",
       "    </tr>\n",
       "    <tr>\n",
       "      <th>b</th>\n",
       "      <td>4</td>\n",
       "      <td>5</td>\n",
       "      <td>y</td>\n",
       "    </tr>\n",
       "    <tr>\n",
       "      <th>c</th>\n",
       "      <td>3</td>\n",
       "      <td>2</td>\n",
       "      <td>z</td>\n",
       "    </tr>\n",
       "    <tr>\n",
       "      <th>d</th>\n",
       "      <td>3</td>\n",
       "      <td>3</td>\n",
       "      <td>m</td>\n",
       "    </tr>\n",
       "    <tr>\n",
       "      <th>e</th>\n",
       "      <td>2</td>\n",
       "      <td>4</td>\n",
       "      <td>n</td>\n",
       "    </tr>\n",
       "    <tr>\n",
       "      <th>f</th>\n",
       "      <td>1</td>\n",
       "      <td>2</td>\n",
       "      <td>o</td>\n",
       "    </tr>\n",
       "  </tbody>\n",
       "</table>\n",
       "</div>"
      ],
      "text/plain": [
       "   movie1  movie2 Name\n",
       "a       5       4    x\n",
       "b       4       5    y\n",
       "c       3       2    z\n",
       "d       3       3    m\n",
       "e       2       4    n\n",
       "f       1       2    o"
      ]
     },
     "execution_count": 429,
     "metadata": {},
     "output_type": "execute_result"
    }
   ],
   "source": [
    "movie_ratings = pd.DataFrame({'movie1':[5,4,3,3,2,1],\n",
    "                              'movie2':[4,5,2,3,4,2],\n",
    "                             'Name':list('xyzmno')},\n",
    "                             index = list('abcdef'))\n",
    "movie_ratings"
   ]
  },
  {
   "cell_type": "code",
   "execution_count": 362,
   "id": "7d496d84",
   "metadata": {},
   "outputs": [],
   "source": [
    "def movie_rat(rating):\n",
    "    if rating == 5:\n",
    "        return 'A'\n",
    "    elif rating == 4:\n",
    "        return 'B'\n",
    "    elif rating == 3:\n",
    "        return 'C'\n",
    "    elif rating == 2:\n",
    "        return 'D'\n",
    "    else:\n",
    "        return 'E'"
   ]
  },
  {
   "cell_type": "code",
   "execution_count": 372,
   "id": "f8248810",
   "metadata": {},
   "outputs": [
    {
     "data": {
      "text/html": [
       "<div>\n",
       "<style scoped>\n",
       "    .dataframe tbody tr th:only-of-type {\n",
       "        vertical-align: middle;\n",
       "    }\n",
       "\n",
       "    .dataframe tbody tr th {\n",
       "        vertical-align: top;\n",
       "    }\n",
       "\n",
       "    .dataframe thead th {\n",
       "        text-align: right;\n",
       "    }\n",
       "</style>\n",
       "<table border=\"1\" class=\"dataframe\">\n",
       "  <thead>\n",
       "    <tr style=\"text-align: right;\">\n",
       "      <th></th>\n",
       "      <th>movie1</th>\n",
       "      <th>movie2</th>\n",
       "    </tr>\n",
       "  </thead>\n",
       "  <tbody>\n",
       "    <tr>\n",
       "      <th>a</th>\n",
       "      <td>A</td>\n",
       "      <td>B</td>\n",
       "    </tr>\n",
       "    <tr>\n",
       "      <th>b</th>\n",
       "      <td>B</td>\n",
       "      <td>A</td>\n",
       "    </tr>\n",
       "    <tr>\n",
       "      <th>c</th>\n",
       "      <td>C</td>\n",
       "      <td>D</td>\n",
       "    </tr>\n",
       "    <tr>\n",
       "      <th>d</th>\n",
       "      <td>C</td>\n",
       "      <td>C</td>\n",
       "    </tr>\n",
       "    <tr>\n",
       "      <th>e</th>\n",
       "      <td>D</td>\n",
       "      <td>B</td>\n",
       "    </tr>\n",
       "    <tr>\n",
       "      <th>f</th>\n",
       "      <td>E</td>\n",
       "      <td>D</td>\n",
       "    </tr>\n",
       "  </tbody>\n",
       "</table>\n",
       "</div>"
      ],
      "text/plain": [
       "  movie1 movie2\n",
       "a      A      B\n",
       "b      B      A\n",
       "c      C      D\n",
       "d      C      C\n",
       "e      D      B\n",
       "f      E      D"
      ]
     },
     "execution_count": 372,
     "metadata": {},
     "output_type": "execute_result"
    }
   ],
   "source": [
    "movie_ratings[['movie1','movie2']].applymap(movie_rat)"
   ]
  },
  {
   "cell_type": "code",
   "execution_count": 430,
   "id": "2235d12d",
   "metadata": {},
   "outputs": [
    {
     "data": {
      "text/html": [
       "<div>\n",
       "<style scoped>\n",
       "    .dataframe tbody tr th:only-of-type {\n",
       "        vertical-align: middle;\n",
       "    }\n",
       "\n",
       "    .dataframe tbody tr th {\n",
       "        vertical-align: top;\n",
       "    }\n",
       "\n",
       "    .dataframe thead th {\n",
       "        text-align: right;\n",
       "    }\n",
       "</style>\n",
       "<table border=\"1\" class=\"dataframe\">\n",
       "  <thead>\n",
       "    <tr style=\"text-align: right;\">\n",
       "      <th></th>\n",
       "      <th>movie1</th>\n",
       "      <th>movie2</th>\n",
       "      <th>Name</th>\n",
       "    </tr>\n",
       "  </thead>\n",
       "  <tbody>\n",
       "    <tr>\n",
       "      <th>a</th>\n",
       "      <td>5</td>\n",
       "      <td>4</td>\n",
       "      <td>x</td>\n",
       "    </tr>\n",
       "    <tr>\n",
       "      <th>b</th>\n",
       "      <td>4</td>\n",
       "      <td>5</td>\n",
       "      <td>y</td>\n",
       "    </tr>\n",
       "    <tr>\n",
       "      <th>c</th>\n",
       "      <td>3</td>\n",
       "      <td>2</td>\n",
       "      <td>z</td>\n",
       "    </tr>\n",
       "    <tr>\n",
       "      <th>d</th>\n",
       "      <td>3</td>\n",
       "      <td>3</td>\n",
       "      <td>m</td>\n",
       "    </tr>\n",
       "    <tr>\n",
       "      <th>e</th>\n",
       "      <td>2</td>\n",
       "      <td>4</td>\n",
       "      <td>n</td>\n",
       "    </tr>\n",
       "    <tr>\n",
       "      <th>f</th>\n",
       "      <td>1</td>\n",
       "      <td>2</td>\n",
       "      <td>o</td>\n",
       "    </tr>\n",
       "  </tbody>\n",
       "</table>\n",
       "</div>"
      ],
      "text/plain": [
       "   movie1  movie2 Name\n",
       "a       5       4    x\n",
       "b       4       5    y\n",
       "c       3       2    z\n",
       "d       3       3    m\n",
       "e       2       4    n\n",
       "f       1       2    o"
      ]
     },
     "execution_count": 430,
     "metadata": {},
     "output_type": "execute_result"
    }
   ],
   "source": [
    "movie_ratings"
   ]
  },
  {
   "cell_type": "code",
   "execution_count": 431,
   "id": "585adde6",
   "metadata": {},
   "outputs": [
    {
     "data": {
      "text/html": [
       "<div>\n",
       "<style scoped>\n",
       "    .dataframe tbody tr th:only-of-type {\n",
       "        vertical-align: middle;\n",
       "    }\n",
       "\n",
       "    .dataframe tbody tr th {\n",
       "        vertical-align: top;\n",
       "    }\n",
       "\n",
       "    .dataframe thead th {\n",
       "        text-align: right;\n",
       "    }\n",
       "</style>\n",
       "<table border=\"1\" class=\"dataframe\">\n",
       "  <thead>\n",
       "    <tr style=\"text-align: right;\">\n",
       "      <th></th>\n",
       "      <th>movie1</th>\n",
       "      <th>movie2</th>\n",
       "    </tr>\n",
       "  </thead>\n",
       "  <tbody>\n",
       "    <tr>\n",
       "      <th>a</th>\n",
       "      <td>5</td>\n",
       "      <td>4</td>\n",
       "    </tr>\n",
       "    <tr>\n",
       "      <th>b</th>\n",
       "      <td>4</td>\n",
       "      <td>5</td>\n",
       "    </tr>\n",
       "    <tr>\n",
       "      <th>c</th>\n",
       "      <td>3</td>\n",
       "      <td>2</td>\n",
       "    </tr>\n",
       "    <tr>\n",
       "      <th>d</th>\n",
       "      <td>3</td>\n",
       "      <td>3</td>\n",
       "    </tr>\n",
       "    <tr>\n",
       "      <th>e</th>\n",
       "      <td>2</td>\n",
       "      <td>4</td>\n",
       "    </tr>\n",
       "    <tr>\n",
       "      <th>f</th>\n",
       "      <td>1</td>\n",
       "      <td>2</td>\n",
       "    </tr>\n",
       "  </tbody>\n",
       "</table>\n",
       "</div>"
      ],
      "text/plain": [
       "   movie1  movie2\n",
       "a       5       4\n",
       "b       4       5\n",
       "c       3       2\n",
       "d       3       3\n",
       "e       2       4\n",
       "f       1       2"
      ]
     },
     "execution_count": 431,
     "metadata": {},
     "output_type": "execute_result"
    }
   ],
   "source": [
    "movie_ratings.drop(['Name'], axis = 1, inplace = True)\n",
    "movie_ratings"
   ]
  },
  {
   "cell_type": "code",
   "execution_count": 405,
   "id": "1c1143a4",
   "metadata": {},
   "outputs": [
    {
     "data": {
      "text/html": [
       "<div>\n",
       "<style scoped>\n",
       "    .dataframe tbody tr th:only-of-type {\n",
       "        vertical-align: middle;\n",
       "    }\n",
       "\n",
       "    .dataframe tbody tr th {\n",
       "        vertical-align: top;\n",
       "    }\n",
       "\n",
       "    .dataframe thead th {\n",
       "        text-align: right;\n",
       "    }\n",
       "</style>\n",
       "<table border=\"1\" class=\"dataframe\">\n",
       "  <thead>\n",
       "    <tr style=\"text-align: right;\">\n",
       "      <th></th>\n",
       "      <th>prod_id</th>\n",
       "      <th>year</th>\n",
       "      <th>sales</th>\n",
       "    </tr>\n",
       "  </thead>\n",
       "  <tbody>\n",
       "    <tr>\n",
       "      <th>0</th>\n",
       "      <td>101</td>\n",
       "      <td>2017</td>\n",
       "      <td>192</td>\n",
       "    </tr>\n",
       "    <tr>\n",
       "      <th>1</th>\n",
       "      <td>102</td>\n",
       "      <td>2018</td>\n",
       "      <td>321</td>\n",
       "    </tr>\n",
       "    <tr>\n",
       "      <th>2</th>\n",
       "      <td>103</td>\n",
       "      <td>2017</td>\n",
       "      <td>456</td>\n",
       "    </tr>\n",
       "    <tr>\n",
       "      <th>3</th>\n",
       "      <td>104</td>\n",
       "      <td>2018</td>\n",
       "      <td>383</td>\n",
       "    </tr>\n",
       "    <tr>\n",
       "      <th>4</th>\n",
       "      <td>105</td>\n",
       "      <td>2017</td>\n",
       "      <td>100</td>\n",
       "    </tr>\n",
       "    <tr>\n",
       "      <th>5</th>\n",
       "      <td>106</td>\n",
       "      <td>2018</td>\n",
       "      <td>898</td>\n",
       "    </tr>\n",
       "    <tr>\n",
       "      <th>6</th>\n",
       "      <td>107</td>\n",
       "      <td>2017</td>\n",
       "      <td>999</td>\n",
       "    </tr>\n",
       "    <tr>\n",
       "      <th>7</th>\n",
       "      <td>108</td>\n",
       "      <td>2018</td>\n",
       "      <td>125</td>\n",
       "    </tr>\n",
       "    <tr>\n",
       "      <th>8</th>\n",
       "      <td>109</td>\n",
       "      <td>2017</td>\n",
       "      <td>665</td>\n",
       "    </tr>\n",
       "    <tr>\n",
       "      <th>9</th>\n",
       "      <td>110</td>\n",
       "      <td>2018</td>\n",
       "      <td>330</td>\n",
       "    </tr>\n",
       "  </tbody>\n",
       "</table>\n",
       "</div>"
      ],
      "text/plain": [
       "   prod_id  year  sales\n",
       "0      101  2017    192\n",
       "1      102  2018    321\n",
       "2      103  2017    456\n",
       "3      104  2018    383\n",
       "4      105  2017    100\n",
       "5      106  2018    898\n",
       "6      107  2017    999\n",
       "7      108  2018    125\n",
       "8      109  2017    665\n",
       "9      110  2018    330"
      ]
     },
     "execution_count": 405,
     "metadata": {},
     "output_type": "execute_result"
    }
   ],
   "source": [
    "sales_data = pd.DataFrame({'prod_id':[101,102,103,104,105,106,107,108,109,110],\n",
    "                     'year':[2017,2018,2017,2018,2017,2018,2017,2018,2017,2018],\n",
    "                     'sales':[192,321,456,383,100,898,999,125,665,330]})\n",
    "sales_data"
   ]
  },
  {
   "cell_type": "code",
   "execution_count": 406,
   "id": "d28f572d",
   "metadata": {},
   "outputs": [
    {
     "data": {
      "text/plain": [
       "0    101\n",
       "1    102\n",
       "2    103\n",
       "3    104\n",
       "4    105\n",
       "5    106\n",
       "6    107\n",
       "7    108\n",
       "8    109\n",
       "9    110\n",
       "Name: prod_id, dtype: int64"
      ]
     },
     "execution_count": 406,
     "metadata": {},
     "output_type": "execute_result"
    }
   ],
   "source": [
    "sales_data['prod_id']"
   ]
  },
  {
   "cell_type": "code",
   "execution_count": 407,
   "id": "e06908c1",
   "metadata": {},
   "outputs": [
    {
     "data": {
      "text/plain": [
       "0    101\n",
       "1    102\n",
       "2    103\n",
       "3    104\n",
       "4    105\n",
       "5    106\n",
       "6    107\n",
       "7    108\n",
       "8    109\n",
       "9    110\n",
       "Name: prod_id, dtype: int64"
      ]
     },
     "execution_count": 407,
     "metadata": {},
     "output_type": "execute_result"
    }
   ],
   "source": [
    "sales_data.prod_id"
   ]
  },
  {
   "cell_type": "code",
   "execution_count": 408,
   "id": "812ec06e",
   "metadata": {},
   "outputs": [
    {
     "data": {
      "text/html": [
       "<div>\n",
       "<style scoped>\n",
       "    .dataframe tbody tr th:only-of-type {\n",
       "        vertical-align: middle;\n",
       "    }\n",
       "\n",
       "    .dataframe tbody tr th {\n",
       "        vertical-align: top;\n",
       "    }\n",
       "\n",
       "    .dataframe thead th {\n",
       "        text-align: right;\n",
       "    }\n",
       "</style>\n",
       "<table border=\"1\" class=\"dataframe\">\n",
       "  <thead>\n",
       "    <tr style=\"text-align: right;\">\n",
       "      <th></th>\n",
       "      <th>prod_id</th>\n",
       "      <th>sales</th>\n",
       "    </tr>\n",
       "  </thead>\n",
       "  <tbody>\n",
       "    <tr>\n",
       "      <th>0</th>\n",
       "      <td>101</td>\n",
       "      <td>192</td>\n",
       "    </tr>\n",
       "    <tr>\n",
       "      <th>1</th>\n",
       "      <td>102</td>\n",
       "      <td>321</td>\n",
       "    </tr>\n",
       "    <tr>\n",
       "      <th>2</th>\n",
       "      <td>103</td>\n",
       "      <td>456</td>\n",
       "    </tr>\n",
       "    <tr>\n",
       "      <th>3</th>\n",
       "      <td>104</td>\n",
       "      <td>383</td>\n",
       "    </tr>\n",
       "    <tr>\n",
       "      <th>4</th>\n",
       "      <td>105</td>\n",
       "      <td>100</td>\n",
       "    </tr>\n",
       "    <tr>\n",
       "      <th>5</th>\n",
       "      <td>106</td>\n",
       "      <td>898</td>\n",
       "    </tr>\n",
       "    <tr>\n",
       "      <th>6</th>\n",
       "      <td>107</td>\n",
       "      <td>999</td>\n",
       "    </tr>\n",
       "    <tr>\n",
       "      <th>7</th>\n",
       "      <td>108</td>\n",
       "      <td>125</td>\n",
       "    </tr>\n",
       "    <tr>\n",
       "      <th>8</th>\n",
       "      <td>109</td>\n",
       "      <td>665</td>\n",
       "    </tr>\n",
       "    <tr>\n",
       "      <th>9</th>\n",
       "      <td>110</td>\n",
       "      <td>330</td>\n",
       "    </tr>\n",
       "  </tbody>\n",
       "</table>\n",
       "</div>"
      ],
      "text/plain": [
       "   prod_id  sales\n",
       "0      101    192\n",
       "1      102    321\n",
       "2      103    456\n",
       "3      104    383\n",
       "4      105    100\n",
       "5      106    898\n",
       "6      107    999\n",
       "7      108    125\n",
       "8      109    665\n",
       "9      110    330"
      ]
     },
     "execution_count": 408,
     "metadata": {},
     "output_type": "execute_result"
    }
   ],
   "source": [
    "sales_data[['prod_id','sales']]"
   ]
  },
  {
   "cell_type": "code",
   "execution_count": 409,
   "id": "f5065b70",
   "metadata": {},
   "outputs": [],
   "source": [
    "sales_data.prod_id = sales_data.prod_id.astype('str')"
   ]
  },
  {
   "cell_type": "code",
   "execution_count": 410,
   "id": "148fffe7",
   "metadata": {},
   "outputs": [
    {
     "data": {
      "text/html": [
       "<div>\n",
       "<style scoped>\n",
       "    .dataframe tbody tr th:only-of-type {\n",
       "        vertical-align: middle;\n",
       "    }\n",
       "\n",
       "    .dataframe tbody tr th {\n",
       "        vertical-align: top;\n",
       "    }\n",
       "\n",
       "    .dataframe thead th {\n",
       "        text-align: right;\n",
       "    }\n",
       "</style>\n",
       "<table border=\"1\" class=\"dataframe\">\n",
       "  <thead>\n",
       "    <tr style=\"text-align: right;\">\n",
       "      <th></th>\n",
       "      <th>prod_id</th>\n",
       "      <th>year</th>\n",
       "      <th>sales</th>\n",
       "    </tr>\n",
       "  </thead>\n",
       "  <tbody>\n",
       "    <tr>\n",
       "      <th>0</th>\n",
       "      <td>101</td>\n",
       "      <td>2017</td>\n",
       "      <td>192</td>\n",
       "    </tr>\n",
       "    <tr>\n",
       "      <th>1</th>\n",
       "      <td>102</td>\n",
       "      <td>2018</td>\n",
       "      <td>321</td>\n",
       "    </tr>\n",
       "    <tr>\n",
       "      <th>2</th>\n",
       "      <td>103</td>\n",
       "      <td>2017</td>\n",
       "      <td>456</td>\n",
       "    </tr>\n",
       "    <tr>\n",
       "      <th>3</th>\n",
       "      <td>104</td>\n",
       "      <td>2018</td>\n",
       "      <td>383</td>\n",
       "    </tr>\n",
       "    <tr>\n",
       "      <th>4</th>\n",
       "      <td>105</td>\n",
       "      <td>2017</td>\n",
       "      <td>100</td>\n",
       "    </tr>\n",
       "  </tbody>\n",
       "</table>\n",
       "</div>"
      ],
      "text/plain": [
       "  prod_id  year  sales\n",
       "0     101  2017    192\n",
       "1     102  2018    321\n",
       "2     103  2017    456\n",
       "3     104  2018    383\n",
       "4     105  2017    100"
      ]
     },
     "execution_count": 410,
     "metadata": {},
     "output_type": "execute_result"
    }
   ],
   "source": [
    "sales_data.head()"
   ]
  },
  {
   "cell_type": "code",
   "execution_count": 411,
   "id": "9ef767d2",
   "metadata": {},
   "outputs": [
    {
     "data": {
      "text/html": [
       "<div>\n",
       "<style scoped>\n",
       "    .dataframe tbody tr th:only-of-type {\n",
       "        vertical-align: middle;\n",
       "    }\n",
       "\n",
       "    .dataframe tbody tr th {\n",
       "        vertical-align: top;\n",
       "    }\n",
       "\n",
       "    .dataframe thead th {\n",
       "        text-align: right;\n",
       "    }\n",
       "</style>\n",
       "<table border=\"1\" class=\"dataframe\">\n",
       "  <thead>\n",
       "    <tr style=\"text-align: right;\">\n",
       "      <th></th>\n",
       "      <th>prod_id</th>\n",
       "      <th>year</th>\n",
       "      <th>sales</th>\n",
       "    </tr>\n",
       "  </thead>\n",
       "  <tbody>\n",
       "    <tr>\n",
       "      <th>5</th>\n",
       "      <td>106</td>\n",
       "      <td>2018</td>\n",
       "      <td>898</td>\n",
       "    </tr>\n",
       "    <tr>\n",
       "      <th>6</th>\n",
       "      <td>107</td>\n",
       "      <td>2017</td>\n",
       "      <td>999</td>\n",
       "    </tr>\n",
       "    <tr>\n",
       "      <th>7</th>\n",
       "      <td>108</td>\n",
       "      <td>2018</td>\n",
       "      <td>125</td>\n",
       "    </tr>\n",
       "    <tr>\n",
       "      <th>8</th>\n",
       "      <td>109</td>\n",
       "      <td>2017</td>\n",
       "      <td>665</td>\n",
       "    </tr>\n",
       "    <tr>\n",
       "      <th>9</th>\n",
       "      <td>110</td>\n",
       "      <td>2018</td>\n",
       "      <td>330</td>\n",
       "    </tr>\n",
       "  </tbody>\n",
       "</table>\n",
       "</div>"
      ],
      "text/plain": [
       "  prod_id  year  sales\n",
       "5     106  2018    898\n",
       "6     107  2017    999\n",
       "7     108  2018    125\n",
       "8     109  2017    665\n",
       "9     110  2018    330"
      ]
     },
     "execution_count": 411,
     "metadata": {},
     "output_type": "execute_result"
    }
   ],
   "source": [
    "sales_data.tail()"
   ]
  },
  {
   "cell_type": "code",
   "execution_count": 412,
   "id": "d47ef5d3",
   "metadata": {},
   "outputs": [
    {
     "data": {
      "text/html": [
       "<div>\n",
       "<style scoped>\n",
       "    .dataframe tbody tr th:only-of-type {\n",
       "        vertical-align: middle;\n",
       "    }\n",
       "\n",
       "    .dataframe tbody tr th {\n",
       "        vertical-align: top;\n",
       "    }\n",
       "\n",
       "    .dataframe thead th {\n",
       "        text-align: right;\n",
       "    }\n",
       "</style>\n",
       "<table border=\"1\" class=\"dataframe\">\n",
       "  <thead>\n",
       "    <tr style=\"text-align: right;\">\n",
       "      <th></th>\n",
       "      <th>year</th>\n",
       "      <th>sales</th>\n",
       "    </tr>\n",
       "  </thead>\n",
       "  <tbody>\n",
       "    <tr>\n",
       "      <th>count</th>\n",
       "      <td>10.000000</td>\n",
       "      <td>10.000000</td>\n",
       "    </tr>\n",
       "    <tr>\n",
       "      <th>mean</th>\n",
       "      <td>2017.500000</td>\n",
       "      <td>446.900000</td>\n",
       "    </tr>\n",
       "    <tr>\n",
       "      <th>std</th>\n",
       "      <td>0.527046</td>\n",
       "      <td>312.425796</td>\n",
       "    </tr>\n",
       "    <tr>\n",
       "      <th>min</th>\n",
       "      <td>2017.000000</td>\n",
       "      <td>100.000000</td>\n",
       "    </tr>\n",
       "    <tr>\n",
       "      <th>25%</th>\n",
       "      <td>2017.000000</td>\n",
       "      <td>224.250000</td>\n",
       "    </tr>\n",
       "    <tr>\n",
       "      <th>50%</th>\n",
       "      <td>2017.500000</td>\n",
       "      <td>356.500000</td>\n",
       "    </tr>\n",
       "    <tr>\n",
       "      <th>75%</th>\n",
       "      <td>2018.000000</td>\n",
       "      <td>612.750000</td>\n",
       "    </tr>\n",
       "    <tr>\n",
       "      <th>max</th>\n",
       "      <td>2018.000000</td>\n",
       "      <td>999.000000</td>\n",
       "    </tr>\n",
       "  </tbody>\n",
       "</table>\n",
       "</div>"
      ],
      "text/plain": [
       "              year       sales\n",
       "count    10.000000   10.000000\n",
       "mean   2017.500000  446.900000\n",
       "std       0.527046  312.425796\n",
       "min    2017.000000  100.000000\n",
       "25%    2017.000000  224.250000\n",
       "50%    2017.500000  356.500000\n",
       "75%    2018.000000  612.750000\n",
       "max    2018.000000  999.000000"
      ]
     },
     "execution_count": 412,
     "metadata": {},
     "output_type": "execute_result"
    }
   ],
   "source": [
    "sales_data.describe()"
   ]
  },
  {
   "cell_type": "code",
   "execution_count": 413,
   "id": "88b9ef1d",
   "metadata": {},
   "outputs": [
    {
     "name": "stdout",
     "output_type": "stream",
     "text": [
      "<class 'pandas.core.frame.DataFrame'>\n",
      "RangeIndex: 10 entries, 0 to 9\n",
      "Data columns (total 3 columns):\n",
      " #   Column   Non-Null Count  Dtype \n",
      "---  ------   --------------  ----- \n",
      " 0   prod_id  10 non-null     object\n",
      " 1   year     10 non-null     int64 \n",
      " 2   sales    10 non-null     int64 \n",
      "dtypes: int64(2), object(1)\n",
      "memory usage: 368.0+ bytes\n"
     ]
    }
   ],
   "source": [
    "sales_data.info()"
   ]
  },
  {
   "cell_type": "code",
   "execution_count": 414,
   "id": "9a79ca6e",
   "metadata": {},
   "outputs": [
    {
     "name": "stdout",
     "output_type": "stream",
     "text": [
      "446.9\n",
      "356.5\n",
      "0    100\n",
      "1    125\n",
      "2    192\n",
      "3    321\n",
      "4    330\n",
      "5    383\n",
      "6    456\n",
      "7    665\n",
      "8    898\n",
      "9    999\n",
      "dtype: int64\n",
      "10\n",
      "4469\n",
      "999\n",
      "100\n",
      "312.42579563438386\n"
     ]
    }
   ],
   "source": [
    "print(sales_data['sales'].mean())\n",
    "print(sales_data['sales'].median())\n",
    "print(sales_data['sales'].mode())\n",
    "print(sales_data['sales'].count())\n",
    "print(sales_data['sales'].sum())\n",
    "print(sales_data['sales'].max())\n",
    "print(sales_data['sales'].min())\n",
    "print(sales_data['sales'].std())"
   ]
  },
  {
   "cell_type": "code",
   "execution_count": 415,
   "id": "e7cbbc42",
   "metadata": {},
   "outputs": [
    {
     "data": {
      "text/plain": [
       "year\n",
       "2017    2412\n",
       "2018    2057\n",
       "Name: sales, dtype: int64"
      ]
     },
     "execution_count": 415,
     "metadata": {},
     "output_type": "execute_result"
    }
   ],
   "source": [
    "sales_data.groupby(['year']).sales.sum()"
   ]
  },
  {
   "cell_type": "code",
   "execution_count": 416,
   "id": "3454ccf8",
   "metadata": {},
   "outputs": [
    {
     "data": {
      "text/plain": [
       "year\n",
       "2017    482.4\n",
       "2018    411.4\n",
       "Name: sales, dtype: float64"
      ]
     },
     "execution_count": 416,
     "metadata": {},
     "output_type": "execute_result"
    }
   ],
   "source": [
    "sales_data.groupby(['year']).sales.mean()"
   ]
  },
  {
   "cell_type": "code",
   "execution_count": 417,
   "id": "ad1f43e4",
   "metadata": {},
   "outputs": [
    {
     "data": {
      "text/plain": [
       "year\n",
       "2017    5\n",
       "2018    5\n",
       "Name: sales, dtype: int64"
      ]
     },
     "execution_count": 417,
     "metadata": {},
     "output_type": "execute_result"
    }
   ],
   "source": [
    "sales_data.groupby(['year']).sales.count()"
   ]
  },
  {
   "cell_type": "code",
   "execution_count": 423,
   "id": "e57762f0",
   "metadata": {},
   "outputs": [
    {
     "data": {
      "text/html": [
       "<div>\n",
       "<style scoped>\n",
       "    .dataframe tbody tr th:only-of-type {\n",
       "        vertical-align: middle;\n",
       "    }\n",
       "\n",
       "    .dataframe tbody tr th {\n",
       "        vertical-align: top;\n",
       "    }\n",
       "\n",
       "    .dataframe thead th {\n",
       "        text-align: right;\n",
       "    }\n",
       "</style>\n",
       "<table border=\"1\" class=\"dataframe\">\n",
       "  <thead>\n",
       "    <tr style=\"text-align: right;\">\n",
       "      <th></th>\n",
       "      <th>prod_id</th>\n",
       "      <th>year</th>\n",
       "      <th>sales</th>\n",
       "    </tr>\n",
       "  </thead>\n",
       "  <tbody>\n",
       "    <tr>\n",
       "      <th>0</th>\n",
       "      <td>107</td>\n",
       "      <td>2017</td>\n",
       "      <td>999</td>\n",
       "    </tr>\n",
       "    <tr>\n",
       "      <th>1</th>\n",
       "      <td>106</td>\n",
       "      <td>2018</td>\n",
       "      <td>898</td>\n",
       "    </tr>\n",
       "    <tr>\n",
       "      <th>2</th>\n",
       "      <td>109</td>\n",
       "      <td>2017</td>\n",
       "      <td>665</td>\n",
       "    </tr>\n",
       "    <tr>\n",
       "      <th>3</th>\n",
       "      <td>103</td>\n",
       "      <td>2017</td>\n",
       "      <td>456</td>\n",
       "    </tr>\n",
       "    <tr>\n",
       "      <th>4</th>\n",
       "      <td>104</td>\n",
       "      <td>2018</td>\n",
       "      <td>383</td>\n",
       "    </tr>\n",
       "    <tr>\n",
       "      <th>5</th>\n",
       "      <td>110</td>\n",
       "      <td>2018</td>\n",
       "      <td>330</td>\n",
       "    </tr>\n",
       "    <tr>\n",
       "      <th>6</th>\n",
       "      <td>102</td>\n",
       "      <td>2018</td>\n",
       "      <td>321</td>\n",
       "    </tr>\n",
       "    <tr>\n",
       "      <th>7</th>\n",
       "      <td>101</td>\n",
       "      <td>2017</td>\n",
       "      <td>192</td>\n",
       "    </tr>\n",
       "    <tr>\n",
       "      <th>8</th>\n",
       "      <td>108</td>\n",
       "      <td>2018</td>\n",
       "      <td>125</td>\n",
       "    </tr>\n",
       "    <tr>\n",
       "      <th>9</th>\n",
       "      <td>105</td>\n",
       "      <td>2017</td>\n",
       "      <td>100</td>\n",
       "    </tr>\n",
       "  </tbody>\n",
       "</table>\n",
       "</div>"
      ],
      "text/plain": [
       "  prod_id  year  sales\n",
       "0     107  2017    999\n",
       "1     106  2018    898\n",
       "2     109  2017    665\n",
       "3     103  2017    456\n",
       "4     104  2018    383\n",
       "5     110  2018    330\n",
       "6     102  2018    321\n",
       "7     101  2017    192\n",
       "8     108  2018    125\n",
       "9     105  2017    100"
      ]
     },
     "execution_count": 423,
     "metadata": {},
     "output_type": "execute_result"
    }
   ],
   "source": [
    "sales_data.sort_values('sales', ascending = False, inplace = True)\n",
    "sales_data.reset_index(drop = True)"
   ]
  },
  {
   "cell_type": "code",
   "execution_count": 424,
   "id": "f16a8931",
   "metadata": {},
   "outputs": [
    {
     "data": {
      "text/plain": [
       "2017    5\n",
       "2018    5\n",
       "Name: year, dtype: int64"
      ]
     },
     "execution_count": 424,
     "metadata": {},
     "output_type": "execute_result"
    }
   ],
   "source": [
    "sales_data['year'].value_counts()"
   ]
  },
  {
   "cell_type": "code",
   "execution_count": null,
   "id": "c8b3775e",
   "metadata": {},
   "outputs": [],
   "source": []
  },
  {
   "cell_type": "code",
   "execution_count": null,
   "id": "c52b85ef",
   "metadata": {},
   "outputs": [],
   "source": []
  },
  {
   "cell_type": "code",
   "execution_count": null,
   "id": "2e650583",
   "metadata": {},
   "outputs": [],
   "source": []
  },
  {
   "cell_type": "code",
   "execution_count": null,
   "id": "2e732820",
   "metadata": {},
   "outputs": [],
   "source": []
  }
 ],
 "metadata": {
  "kernelspec": {
   "display_name": "Python 3 (ipykernel)",
   "language": "python",
   "name": "python3"
  },
  "language_info": {
   "codemirror_mode": {
    "name": "ipython",
    "version": 3
   },
   "file_extension": ".py",
   "mimetype": "text/x-python",
   "name": "python",
   "nbconvert_exporter": "python",
   "pygments_lexer": "ipython3",
   "version": "3.9.7"
  }
 },
 "nbformat": 4,
 "nbformat_minor": 5
}
