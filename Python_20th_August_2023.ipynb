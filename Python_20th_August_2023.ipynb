{
 "cells": [
  {
   "cell_type": "code",
   "execution_count": 1,
   "id": "ad6cc839",
   "metadata": {},
   "outputs": [
    {
     "name": "stdout",
     "output_type": "stream",
     "text": [
      "Hello world\n"
     ]
    }
   ],
   "source": [
    "#First program\n",
    "print ('Hello world')"
   ]
  },
  {
   "cell_type": "code",
   "execution_count": 2,
   "id": "a96bba30",
   "metadata": {},
   "outputs": [
    {
     "data": {
      "text/plain": [
       "'/Users/mht/Desktop/Data Science/Python Projects and Data Set'"
      ]
     },
     "execution_count": 2,
     "metadata": {},
     "output_type": "execute_result"
    }
   ],
   "source": [
    "import os\n",
    "os.getcwd()"
   ]
  },
  {
   "cell_type": "code",
   "execution_count": 4,
   "id": "36e2ba02",
   "metadata": {},
   "outputs": [
    {
     "name": "stdout",
     "output_type": "stream",
     "text": [
      "macOS-10.16-x86_64-i386-64bit\n",
      "Darwin Kernel Version 21.6.0: Mon Dec 19 20:44:01 PST 2022; root:xnu-8020.240.18~2/RELEASE_X86_64\n",
      "21.6.0\n",
      "Darwin\n"
     ]
    }
   ],
   "source": [
    "import platform\n",
    "print(platform.platform())\n",
    "print(platform.version())\n",
    "print(platform.release())\n",
    "print(platform.system())"
   ]
  },
  {
   "cell_type": "code",
   "execution_count": 5,
   "id": "25a4b1bb",
   "metadata": {},
   "outputs": [
    {
     "name": "stdout",
     "output_type": "stream",
     "text": [
      "14\n",
      "40\n",
      "2.5\n",
      "2\n"
     ]
    }
   ],
   "source": [
    "#Airthmetic Operation\n",
    "print(10 + 4)\n",
    "print(10 * 4)\n",
    "print(10 / 4)\n",
    "print(10 % 4)"
   ]
  },
  {
   "cell_type": "code",
   "execution_count": 6,
   "id": "77b663ab",
   "metadata": {},
   "outputs": [
    {
     "name": "stdout",
     "output_type": "stream",
     "text": [
      "10\n",
      "<class 'int'>\n",
      "0x7fee80021a50\n"
     ]
    }
   ],
   "source": [
    "#Data Types 1. Integer\n",
    "a = 10\n",
    "a\n",
    "print(a)\n",
    "print(type(a))\n",
    "print(hex(id(a)))"
   ]
  },
  {
   "cell_type": "code",
   "execution_count": 7,
   "id": "d20f5b4c",
   "metadata": {},
   "outputs": [
    {
     "name": "stdout",
     "output_type": "stream",
     "text": [
      "3.4\n",
      "<class 'float'>\n",
      "0x7fee84fe9a10\n"
     ]
    }
   ],
   "source": [
    "#2. Float\n",
    "b = 3.4\n",
    "print(b)\n",
    "print(type(b))\n",
    "print(hex(id(b)))"
   ]
  },
  {
   "cell_type": "code",
   "execution_count": 8,
   "id": "4b04b263",
   "metadata": {},
   "outputs": [
    {
     "name": "stdout",
     "output_type": "stream",
     "text": [
      "Hello\n",
      "<class 'str'>\n",
      "0x7fee84ef2ab0\n"
     ]
    }
   ],
   "source": [
    "#3. String\n",
    "c = \"Hello\"\n",
    "print(c)\n",
    "print(type(c))\n",
    "print(hex(id(c)))"
   ]
  },
  {
   "cell_type": "code",
   "execution_count": 9,
   "id": "56161e90",
   "metadata": {},
   "outputs": [
    {
     "name": "stdout",
     "output_type": "stream",
     "text": [
      "True\n",
      "<class 'bool'>\n",
      "0x10965f530\n"
     ]
    }
   ],
   "source": [
    "#4. Bollean Data type\n",
    "d = True\n",
    "print(d)\n",
    "print(type(d))\n",
    "print(hex(id(d)))"
   ]
  },
  {
   "cell_type": "code",
   "execution_count": 10,
   "id": "35f4622d",
   "metadata": {},
   "outputs": [
    {
     "name": "stdout",
     "output_type": "stream",
     "text": [
      "None\n",
      "<class 'NoneType'>\n",
      "0x109672be0\n"
     ]
    }
   ],
   "source": [
    "#5. None Data Type\n",
    "e = None\n",
    "print(e)\n",
    "print(type(e))\n",
    "print(hex(id(e)))"
   ]
  },
  {
   "cell_type": "code",
   "execution_count": 61,
   "id": "f13a7ae7",
   "metadata": {},
   "outputs": [
    {
     "data": {
      "text/plain": [
       "(10, 20)"
      ]
     },
     "execution_count": 61,
     "metadata": {},
     "output_type": "execute_result"
    }
   ],
   "source": [
    "#Multiple Assignment\n",
    "g, h = 10, 20\n",
    "g, h"
   ]
  },
  {
   "cell_type": "code",
   "execution_count": 62,
   "id": "c3c7bb19",
   "metadata": {},
   "outputs": [
    {
     "name": "stdout",
     "output_type": "stream",
     "text": [
      "20 10\n"
     ]
    }
   ],
   "source": [
    "#Swapping of two numbers\n",
    "h,g = g,h\n",
    "print(g,h)"
   ]
  },
  {
   "cell_type": "code",
   "execution_count": 11,
   "id": "741c7299",
   "metadata": {},
   "outputs": [
    {
     "name": "stdout",
     "output_type": "stream",
     "text": [
      "(3, 4.5, 'Hello', True, None, (1, 2))\n"
     ]
    }
   ],
   "source": [
    "#Data Structure in Python 1. Tuple\n",
    "first_Tuple = (3, 4.5, 'Hello', True, None, (1,2))\n",
    "print(first_Tuple)"
   ]
  },
  {
   "cell_type": "code",
   "execution_count": 12,
   "id": "fdcf14eb",
   "metadata": {},
   "outputs": [
    {
     "name": "stdout",
     "output_type": "stream",
     "text": [
      "4.5\n",
      "(1, 2)\n",
      "(3, 4.5, 'Hello', True)\n",
      "(3, 'Hello')\n",
      "((1, 2), None, True, 'Hello', 4.5, 3)\n",
      "((1, 2), True, 4.5)\n"
     ]
    }
   ],
   "source": [
    "print(first_Tuple[1])\n",
    "print(first_Tuple[-1])\n",
    "print(first_Tuple[0:4])\n",
    "print(first_Tuple[0:4:2])\n",
    "print(first_Tuple[::-1])\n",
    "print(first_Tuple[::-2])"
   ]
  },
  {
   "cell_type": "code",
   "execution_count": 21,
   "id": "749fd338",
   "metadata": {},
   "outputs": [
    {
     "name": "stdout",
     "output_type": "stream",
     "text": [
      "[3, 4.5, 'Hello', True, None, (1, 2), [1, 2, 3]]\n"
     ]
    }
   ],
   "source": [
    "#2. List\n",
    "first_list = [3, 4.5, 'Hello', True, None, (1,2), [1,2,3]]\n",
    "print(first_list)"
   ]
  },
  {
   "cell_type": "code",
   "execution_count": 22,
   "id": "214b0e6c",
   "metadata": {},
   "outputs": [
    {
     "name": "stdout",
     "output_type": "stream",
     "text": [
      "3\n",
      "[3, 4.5, 'Hello']\n",
      "[3, 'Hello']\n",
      "[1, 2, 3]\n",
      "[None, (1, 2), [1, 2, 3]]\n",
      "[[1, 2, 3], (1, 2), None, True, 'Hello', 4.5, 3]\n"
     ]
    }
   ],
   "source": [
    "#Data Extraction\n",
    "print(first_list[0])\n",
    "print(first_list[0:3])\n",
    "print(first_list[0:3:2])\n",
    "print(first_list[-1])\n",
    "print(first_list[4:7])\n",
    "print(first_list[::-1])"
   ]
  },
  {
   "cell_type": "code",
   "execution_count": 23,
   "id": "c48d0cb3",
   "metadata": {},
   "outputs": [
    {
     "name": "stdout",
     "output_type": "stream",
     "text": [
      "[3, 4.5, 'Hello', True, None, (1, 2), [1, 2, 3], [3]]\n",
      "[3, 4.5, 'Hello', True, None, (1, 2), [1, 2, 3], [3], 3]\n",
      "[3, 4.5, 'Hello', True, None, (1, 2), [1, 2, 3], [3], 3, True]\n",
      "[3, 4.5, 'Hello', True, None, (1, 2), [1, 2, 3], [3], 3, True, None]\n",
      "[3, 4.5, 'Hello', True, None, (1, 2), [1, 2, 3], [3], 3, True, None, 'John']\n"
     ]
    }
   ],
   "source": [
    "first_list.append([3])\n",
    "print(first_list)\n",
    "first_list.append(3)\n",
    "print(first_list)\n",
    "first_list.append(True)\n",
    "print(first_list)\n",
    "first_list.append(None)\n",
    "print(first_list)\n",
    "first_list.append(\"John\")\n",
    "print(first_list)"
   ]
  },
  {
   "cell_type": "code",
   "execution_count": 24,
   "id": "3f2c192c",
   "metadata": {},
   "outputs": [
    {
     "name": "stdout",
     "output_type": "stream",
     "text": [
      "[3, 4.5, 'Hello', True, None, (1, 2), [1, 2, 3], [3], 3, True, None]\n",
      "[3, 4.5, 'Hello', None, (1, 2), [1, 2, 3], [3], 3, True, None]\n",
      "[3, 5, 4.5, 'Hello', None, (1, 2), [1, 2, 3], [3], 3, True, None]\n"
     ]
    }
   ],
   "source": [
    "first_list.pop(-1)\n",
    "print(first_list)\n",
    "first_list.remove(True)\n",
    "print(first_list)\n",
    "first_list.insert(1, 5)\n",
    "print(first_list)"
   ]
  },
  {
   "cell_type": "code",
   "execution_count": 25,
   "id": "0341da83",
   "metadata": {},
   "outputs": [
    {
     "name": "stdout",
     "output_type": "stream",
     "text": [
      "{1, 2, 3, 4, 5, 6}\n",
      "{5, 6, 7, 8, 9, 10}\n"
     ]
    }
   ],
   "source": [
    "#3. Sets\n",
    "set_1 = {1,2,3,2,3,4,5,6}\n",
    "set_2 = {5,6,6,7,8,9,10}\n",
    "print(set_1)\n",
    "print(set_2)"
   ]
  },
  {
   "cell_type": "code",
   "execution_count": 26,
   "id": "13c686bf",
   "metadata": {
    "scrolled": true
   },
   "outputs": [
    {
     "name": "stdout",
     "output_type": "stream",
     "text": [
      "{1, 2, 3, 4, 5, 6, 7, 8, 9, 10}\n",
      "{5, 6}\n",
      "{1, 2, 3, 4}\n",
      "{8, 9, 10, 7}\n"
     ]
    }
   ],
   "source": [
    "print(set_1 | set_2)\n",
    "print(set_1 & set_2)\n",
    "print(set_1 - set_2)\n",
    "print(set_2 - set_1)"
   ]
  },
  {
   "cell_type": "code",
   "execution_count": 27,
   "id": "83d6eda3",
   "metadata": {},
   "outputs": [
    {
     "ename": "TypeError",
     "evalue": "set.add() takes exactly one argument (2 given)",
     "output_type": "error",
     "traceback": [
      "\u001b[0;31m---------------------------------------------------------------------------\u001b[0m",
      "\u001b[0;31mTypeError\u001b[0m                                 Traceback (most recent call last)",
      "Input \u001b[0;32mIn [27]\u001b[0m, in \u001b[0;36m<cell line: 1>\u001b[0;34m()\u001b[0m\n\u001b[0;32m----> 1\u001b[0m \u001b[43mset_1\u001b[49m\u001b[38;5;241;43m.\u001b[39;49m\u001b[43madd\u001b[49m\u001b[43m(\u001b[49m\u001b[38;5;241;43m11\u001b[39;49m\u001b[43m,\u001b[49m\u001b[38;5;241;43m12\u001b[39;49m\u001b[43m)\u001b[49m\n\u001b[1;32m      2\u001b[0m \u001b[38;5;28mprint\u001b[39m(set_1)\n\u001b[1;32m      3\u001b[0m set_2\u001b[38;5;241m.\u001b[39madd(\u001b[38;5;241m12\u001b[39m,\u001b[38;5;241m13\u001b[39m)\n",
      "\u001b[0;31mTypeError\u001b[0m: set.add() takes exactly one argument (2 given)"
     ]
    }
   ],
   "source": [
    "#Note\n",
    "set_1.add(11,12)\n",
    "print(set_1)\n",
    "set_2.add(12,13)\n",
    "print(set_2)"
   ]
  },
  {
   "cell_type": "code",
   "execution_count": 28,
   "id": "75912bc5",
   "metadata": {},
   "outputs": [
    {
     "name": "stdout",
     "output_type": "stream",
     "text": [
      "{1, 2, 3, 4, 5, 6, 12}\n",
      "{5, 6, 7, 8, 9, 10, 12}\n"
     ]
    }
   ],
   "source": [
    "#Adding an element to set.\n",
    "set_1.add(12)\n",
    "print(set_1)\n",
    "set_2.add(12)\n",
    "print(set_2)"
   ]
  },
  {
   "cell_type": "code",
   "execution_count": 29,
   "id": "858736b3",
   "metadata": {},
   "outputs": [
    {
     "name": "stdout",
     "output_type": "stream",
     "text": [
      "{1, 2, 3, 4, 5, 6}\n",
      "{5, 6, 7, 8, 9, 12}\n"
     ]
    }
   ],
   "source": [
    "#Removing an element to set.\n",
    "set_1.remove(12)\n",
    "print(set_1)\n",
    "set_2.remove(10)\n",
    "print(set_2)"
   ]
  },
  {
   "cell_type": "code",
   "execution_count": 30,
   "id": "e25a794b",
   "metadata": {},
   "outputs": [
    {
     "name": "stdout",
     "output_type": "stream",
     "text": [
      "{'a': 500, 'b': 800}\n"
     ]
    }
   ],
   "source": [
    "#4. Dictionary\n",
    "first_dict = {'a': 500, 'b': 800}\n",
    "print(first_dict)"
   ]
  },
  {
   "cell_type": "code",
   "execution_count": 31,
   "id": "ef968423",
   "metadata": {},
   "outputs": [
    {
     "name": "stdout",
     "output_type": "stream",
     "text": [
      "dict_keys(['a', 'b'])\n",
      "dict_values([500, 800])\n"
     ]
    }
   ],
   "source": [
    "print(first_dict.keys())\n",
    "print(first_dict.values())"
   ]
  },
  {
   "cell_type": "code",
   "execution_count": 32,
   "id": "b9fbc4d4",
   "metadata": {},
   "outputs": [
    {
     "name": "stdout",
     "output_type": "stream",
     "text": [
      "500\n",
      "800\n"
     ]
    }
   ],
   "source": [
    "print(first_dict['a'])\n",
    "print(first_dict['b'])"
   ]
  },
  {
   "cell_type": "code",
   "execution_count": 33,
   "id": "88c1177e",
   "metadata": {},
   "outputs": [
    {
     "name": "stdout",
     "output_type": "stream",
     "text": [
      "{'India': ['Jharkhand', 'Orissa', 'Delhi'], 'UK': ['London', 'Paris', 'France']}\n",
      "dict_keys(['India', 'UK'])\n",
      "dict_values([['Jharkhand', 'Orissa', 'Delhi'], ['London', 'Paris', 'France']])\n"
     ]
    }
   ],
   "source": [
    "second_dict = {'India': ['Jharkhand', 'Orissa', 'Delhi'], 'UK': ['London','Paris','France']}\n",
    "print(second_dict)\n",
    "print(second_dict.keys())\n",
    "print(second_dict.values())"
   ]
  },
  {
   "cell_type": "code",
   "execution_count": 34,
   "id": "ba4e654b",
   "metadata": {},
   "outputs": [
    {
     "name": "stdout",
     "output_type": "stream",
     "text": [
      "{'India': ['Jharkhand', 'Orissa', 'Delhi'], 'UK': ['London', 'Paris', 'France'], 'USA': ['New york', 'Californa', 'Texas']}\n"
     ]
    }
   ],
   "source": [
    "second_dict['USA'] = ['New york', 'Californa', 'Texas']\n",
    "print(second_dict)"
   ]
  },
  {
   "cell_type": "code",
   "execution_count": 35,
   "id": "5551b9eb",
   "metadata": {},
   "outputs": [
    {
     "name": "stdout",
     "output_type": "stream",
     "text": [
      "{'India': ['Jharkhand', 'Orissa', 'Delhi'], 'USA': ['New york', 'Californa', 'Texas']}\n"
     ]
    }
   ],
   "source": [
    "del second_dict['UK']\n",
    "print(second_dict)"
   ]
  },
  {
   "cell_type": "code",
   "execution_count": 37,
   "id": "dedf9ca2",
   "metadata": {},
   "outputs": [
    {
     "name": "stdout",
     "output_type": "stream",
     "text": [
      "{'India': {2020: 700, 2021: 800, 2022: 900}, 'USA': {2020: 10000, 2021: 1100, 2022: 1200}}\n",
      "dict_keys(['India', 'USA'])\n",
      "dict_values([{2020: 700, 2021: 800, 2022: 900}, {2020: 10000, 2021: 1100, 2022: 1200}])\n"
     ]
    }
   ],
   "source": [
    "#Nested Dictionary\n",
    "third_dict = {'India':{2020:700, 2021: 800, 2022: 900}, 'USA': {2020:10000, 2021: 1100, 2022: 1200}}\n",
    "print(third_dict)\n",
    "print(third_dict.keys())\n",
    "print(third_dict.values())"
   ]
  },
  {
   "cell_type": "code",
   "execution_count": 39,
   "id": "63938130",
   "metadata": {},
   "outputs": [
    {
     "name": "stdout",
     "output_type": "stream",
     "text": [
      "{2020: 700, 2021: 800, 2022: 900}\n",
      "800\n",
      "1200\n"
     ]
    }
   ],
   "source": [
    "print(third_dict['India'])\n",
    "print(third_dict['India'][2021])\n",
    "print(third_dict['USA'][2022])"
   ]
  },
  {
   "cell_type": "code",
   "execution_count": 40,
   "id": "17014001",
   "metadata": {},
   "outputs": [
    {
     "name": "stdout",
     "output_type": "stream",
     "text": [
      "Hello from first function\n"
     ]
    }
   ],
   "source": [
    "#Functions 1.First Function\n",
    "def first_fun():\n",
    "    print('Hello from first function')\n",
    "first_fun()"
   ]
  },
  {
   "cell_type": "code",
   "execution_count": 41,
   "id": "f4ee4a5f",
   "metadata": {},
   "outputs": [],
   "source": [
    "#2. Function that return no values\n",
    "def fun_null():\n",
    "    pass\n",
    "fun_null()"
   ]
  },
  {
   "cell_type": "code",
   "execution_count": 42,
   "id": "eb55d299",
   "metadata": {},
   "outputs": [
    {
     "name": "stdout",
     "output_type": "stream",
     "text": [
      "Hello from John\n"
     ]
    }
   ],
   "source": [
    "#3. Function that take arguments\n",
    "def secnd_fun(arg):\n",
    "    print('Hello from ' + arg)\n",
    "secnd_fun('John')"
   ]
  },
  {
   "cell_type": "code",
   "execution_count": 59,
   "id": "df91c100",
   "metadata": {},
   "outputs": [
    {
     "name": "stdout",
     "output_type": "stream",
     "text": [
      "200\n",
      "None\n",
      "200\n",
      "<class 'NoneType'>\n"
     ]
    }
   ],
   "source": [
    "#Area of rectangle\n",
    "def area_rectangle_fun(l,b):\n",
    "    print(l * b)\n",
    "print(area_rectangle_fun(10,20))\n",
    "print(type(area_rectangle_fun(10,20)))"
   ]
  },
  {
   "cell_type": "code",
   "execution_count": 60,
   "id": "7f033914",
   "metadata": {},
   "outputs": [
    {
     "name": "stdout",
     "output_type": "stream",
     "text": [
      "{'Area of rectangle is': 200}\n",
      "{'Area of rectangle is': 200}\n",
      "<class 'NoneType'>\n"
     ]
    }
   ],
   "source": [
    "def area_rectangle_fun_1(l,b):\n",
    "    print ({'Area of rectangle is': l * b})\n",
    "    \n",
    "area_rectangle_fun_1(10,20)\n",
    "print(type(area_rectangle_fun_1(10,20)))"
   ]
  },
  {
   "cell_type": "code",
   "execution_count": 55,
   "id": "0658ba7b",
   "metadata": {},
   "outputs": [
    {
     "name": "stdout",
     "output_type": "stream",
     "text": [
      "{'Area of rectangle is': 200}\n",
      "<class 'dict'>\n"
     ]
    }
   ],
   "source": [
    "def area_rectangle_fun_2(l,b):\n",
    "    return {'Area of rectangle is': l * b}\n",
    "print(area_rectangle_fun_2(10,20))\n",
    "print(type(area_rectangle_fun_2(10,20)))"
   ]
  },
  {
   "cell_type": "code",
   "execution_count": 68,
   "id": "82914084",
   "metadata": {},
   "outputs": [
    {
     "data": {
      "text/plain": [
       "2.0"
      ]
     },
     "execution_count": 68,
     "metadata": {},
     "output_type": "execute_result"
    }
   ],
   "source": [
    "#Division Function\n",
    "def div_fun(a,b):\n",
    "    try:\n",
    "        return a/b\n",
    "    except ZeroDivisionError:\n",
    "        print(\"Can't divide it by zero\")\n",
    "    except TypeError:\n",
    "        print(\"Can't divide it by string\")\n",
    "\n",
    "div_fun(20, 10)"
   ]
  },
  {
   "cell_type": "code",
   "execution_count": 72,
   "id": "20d5335c",
   "metadata": {},
   "outputs": [
    {
     "name": "stdout",
     "output_type": "stream",
     "text": [
      "Elegible to Vote\n",
      "None\n",
      "Not elegible to Vote\n",
      "None\n"
     ]
    }
   ],
   "source": [
    "#Can vote Function\n",
    "def can_vote(age):\n",
    "    if age >= 18:\n",
    "        print('Elegible to Vote')\n",
    "    else:\n",
    "        print('Not elegible to Vote')\n",
    "\n",
    "print(can_vote(18))\n",
    "print(can_vote(17))"
   ]
  },
  {
   "cell_type": "code",
   "execution_count": 74,
   "id": "bd2ba873",
   "metadata": {},
   "outputs": [],
   "source": [
    "#Grade function\n",
    "def grade_fun(marks):\n",
    "    if marks >= 90:\n",
    "        print('Grade A')\n",
    "    elif marks >= 80:\n",
    "        print('Grade B')\n",
    "    elif marks >= 70:\n",
    "        print('Grade C')\n",
    "    elif marks >= 60:\n",
    "        print('Grade D')\n",
    "    elif marks >= 50:\n",
    "        print('Grade E')\n",
    "    else:\n",
    "        print('Fail')"
   ]
  },
  {
   "cell_type": "code",
   "execution_count": 80,
   "id": "725a2cf0",
   "metadata": {},
   "outputs": [
    {
     "name": "stdout",
     "output_type": "stream",
     "text": [
      "Grade E\n"
     ]
    }
   ],
   "source": [
    "grade_fun(50)"
   ]
  },
  {
   "cell_type": "code",
   "execution_count": 90,
   "id": "38b2b23a",
   "metadata": {},
   "outputs": [],
   "source": [
    "#Sum function\n",
    "a = [1,2,3,4,5,6,7,8,9,11]"
   ]
  },
  {
   "cell_type": "code",
   "execution_count": 91,
   "id": "cea5c632",
   "metadata": {},
   "outputs": [
    {
     "data": {
      "text/plain": [
       "56"
      ]
     },
     "execution_count": 91,
     "metadata": {},
     "output_type": "execute_result"
    }
   ],
   "source": [
    "def sum_fun(a):\n",
    "    result = 0\n",
    "    for i in a:\n",
    "        result = result + i\n",
    "    return result\n",
    "sum_fun(a)"
   ]
  },
  {
   "cell_type": "code",
   "execution_count": 92,
   "id": "2875d1b4",
   "metadata": {},
   "outputs": [
    {
     "data": {
      "text/plain": [
       "[(0, 1),\n",
       " (1, 2),\n",
       " (2, 3),\n",
       " (3, 4),\n",
       " (4, 5),\n",
       " (5, 6),\n",
       " (6, 7),\n",
       " (7, 8),\n",
       " (8, 9),\n",
       " (9, 11)]"
      ]
     },
     "execution_count": 92,
     "metadata": {},
     "output_type": "execute_result"
    }
   ],
   "source": [
    "#Enumerate function\n",
    "list(enumerate(a))"
   ]
  },
  {
   "cell_type": "code",
   "execution_count": 93,
   "id": "400c12cb",
   "metadata": {},
   "outputs": [
    {
     "name": "stdout",
     "output_type": "stream",
     "text": [
      "0 1\n",
      "1 2\n",
      "2 3\n",
      "3 4\n",
      "4 5\n",
      "5 6\n",
      "6 7\n",
      "7 8\n",
      "8 9\n",
      "9 11\n"
     ]
    }
   ],
   "source": [
    "for i, j in enumerate(a):\n",
    "    print(i, j)"
   ]
  },
  {
   "cell_type": "code",
   "execution_count": 95,
   "id": "6481e874",
   "metadata": {},
   "outputs": [],
   "source": [
    "#Zip function\n",
    "a = [1,2,3,4]\n",
    "b = [12,13,14,15]"
   ]
  },
  {
   "cell_type": "code",
   "execution_count": 96,
   "id": "710d538c",
   "metadata": {},
   "outputs": [
    {
     "data": {
      "text/plain": [
       "[(1, 12), (2, 13), (3, 14), (4, 15)]"
      ]
     },
     "execution_count": 96,
     "metadata": {},
     "output_type": "execute_result"
    }
   ],
   "source": [
    "list(zip(a,b))"
   ]
  },
  {
   "cell_type": "code",
   "execution_count": 97,
   "id": "b8c53e43",
   "metadata": {},
   "outputs": [
    {
     "name": "stdout",
     "output_type": "stream",
     "text": [
      "12\n",
      "26\n",
      "42\n",
      "60\n"
     ]
    }
   ],
   "source": [
    "for i, j in zip(a,b):\n",
    "    print(i * j)"
   ]
  },
  {
   "cell_type": "markdown",
   "id": "f425ba2f",
   "metadata": {},
   "source": [
    "## Numpy"
   ]
  },
  {
   "cell_type": "code",
   "execution_count": 98,
   "id": "a3601bc8",
   "metadata": {},
   "outputs": [],
   "source": [
    "distance = [100,200,300,400,500]\n",
    "time = [10,20,30,40,50]"
   ]
  },
  {
   "cell_type": "code",
   "execution_count": 109,
   "id": "b1adabfd",
   "metadata": {},
   "outputs": [],
   "source": [
    "#speed = distance/time"
   ]
  },
  {
   "cell_type": "code",
   "execution_count": 100,
   "id": "c265cf90",
   "metadata": {},
   "outputs": [],
   "source": [
    "#Import nump library\n",
    "import numpy as np"
   ]
  },
  {
   "cell_type": "code",
   "execution_count": 101,
   "id": "ed7c1233",
   "metadata": {},
   "outputs": [
    {
     "name": "stdout",
     "output_type": "stream",
     "text": [
      "[100 200 300 400 500]\n",
      "<class 'numpy.ndarray'>\n",
      "[10 20 30 40 50]\n",
      "<class 'numpy.ndarray'>\n",
      "[10. 10. 10. 10. 10.]\n",
      "<class 'numpy.ndarray'>\n"
     ]
    }
   ],
   "source": [
    "np_distance = np.array(distance)\n",
    "print(np_distance)\n",
    "print(type(np_distance))\n",
    "np_time = np.array(time)\n",
    "print(np_time)\n",
    "print(type(np_time))\n",
    "speed = np_distance/np_time\n",
    "print(speed)\n",
    "print(type(speed))"
   ]
  },
  {
   "cell_type": "code",
   "execution_count": 107,
   "id": "c44ee854",
   "metadata": {},
   "outputs": [
    {
     "name": "stdout",
     "output_type": "stream",
     "text": [
      "[1 2 3 4 5]\n",
      "1\n",
      "(5,)\n",
      "5\n",
      "int64\n",
      "[[1 2 3]\n",
      " [4 5 6]]\n",
      "2\n",
      "(2, 3)\n",
      "6\n",
      "int64\n",
      "[[[ 1  2  3]\n",
      "  [ 4  5  6]]\n",
      "\n",
      " [[ 7  8  9]\n",
      "  [10 11 12]]]\n",
      "3\n",
      "(2, 2, 3)\n",
      "12\n",
      "int64\n"
     ]
    }
   ],
   "source": [
    "one_darray = np.array([1,2,3,4,5])\n",
    "two_darray = np.array([[1,2,3],[4,5,6]])\n",
    "three_darray = np.array([[[1,2,3],[4,5,6]],[[7,8,9],[10,11,12]]])\n",
    "print(one_darray)\n",
    "print(one_darray.ndim)\n",
    "print(one_darray.shape)\n",
    "print(one_darray.size)\n",
    "print(one_darray.dtype)\n",
    "print(two_darray)\n",
    "print(two_darray.ndim)\n",
    "print(two_darray.shape)\n",
    "print(two_darray.size)\n",
    "print(two_darray.dtype)\n",
    "print(three_darray)\n",
    "print(three_darray.ndim)\n",
    "print(three_darray.shape)\n",
    "print(three_darray.size)\n",
    "print(three_darray.dtype)"
   ]
  },
  {
   "cell_type": "code",
   "execution_count": 119,
   "id": "31eb71e5",
   "metadata": {},
   "outputs": [
    {
     "name": "stdout",
     "output_type": "stream",
     "text": [
      "2\n",
      "5\n",
      "[1 2 3]\n",
      "[1 3]\n",
      "[5 4 3 2 1]\n",
      "[5 3 1]\n"
     ]
    }
   ],
   "source": [
    "print(one_darray[1])\n",
    "print(one_darray[-1])\n",
    "print(one_darray[0:3])\n",
    "print(one_darray[0:3:2])\n",
    "print(one_darray[::-1])\n",
    "print(one_darray[::-2])"
   ]
  },
  {
   "cell_type": "code",
   "execution_count": 122,
   "id": "5027d5a2",
   "metadata": {},
   "outputs": [
    {
     "name": "stdout",
     "output_type": "stream",
     "text": [
      "[1 2 3]\n",
      "[4 5 6]\n",
      "[2 5]\n",
      "[3 6]\n",
      "2\n",
      "5\n"
     ]
    }
   ],
   "source": [
    "print(two_darray[0])\n",
    "print(two_darray[1])\n",
    "print(two_darray[:,1])\n",
    "print(two_darray[:,2])\n",
    "print(two_darray[0][1])\n",
    "print(two_darray[1][1])"
   ]
  },
  {
   "cell_type": "code",
   "execution_count": 124,
   "id": "b4a02c8b",
   "metadata": {},
   "outputs": [
    {
     "name": "stdout",
     "output_type": "stream",
     "text": [
      "[[1 2 3]\n",
      " [4 5 6]]\n",
      "[[ 7  8  9]\n",
      " [10 11 12]]\n",
      "2\n",
      "[2 5]\n",
      "[ 9 12]\n",
      "[4 5 6]\n",
      "[10 11 12]\n"
     ]
    }
   ],
   "source": [
    "print(three_darray[0])\n",
    "print(three_darray[1])\n",
    "print(three_darray[0][0][1])\n",
    "print(three_darray[0][:,1])\n",
    "print(three_darray[1][:,2])\n",
    "print(three_darray[0][1])\n",
    "print(three_darray[1][1])"
   ]
  },
  {
   "cell_type": "code",
   "execution_count": 125,
   "id": "a7d9a4d2",
   "metadata": {},
   "outputs": [
    {
     "name": "stdout",
     "output_type": "stream",
     "text": [
      "1.4142135623730951\n",
      "1\n",
      "5\n",
      "0\n",
      "4\n"
     ]
    }
   ],
   "source": [
    "print(one_darray.std())\n",
    "print(one_darray.min())\n",
    "print(one_darray.max())\n",
    "print(one_darray.argmin())\n",
    "print(one_darray.argmax())"
   ]
  },
  {
   "cell_type": "code",
   "execution_count": 127,
   "id": "4f3ac40f",
   "metadata": {},
   "outputs": [
    {
     "name": "stdout",
     "output_type": "stream",
     "text": [
      "3.2998316455372216\n",
      "1\n",
      "11\n",
      "0\n",
      "3\n"
     ]
    }
   ],
   "source": [
    "two_darray = np.array([[1,2,3],[11,5,6]])\n",
    "print(two_darray.std())\n",
    "print(two_darray.min())\n",
    "print(two_darray.max())\n",
    "print(two_darray.argmin())\n",
    "print(two_darray.argmax())"
   ]
  },
  {
   "cell_type": "code",
   "execution_count": 130,
   "id": "43fc4e7d",
   "metadata": {},
   "outputs": [
    {
     "name": "stdout",
     "output_type": "stream",
     "text": [
      "5.512611802847076\n",
      "1\n",
      "22\n",
      "0\n",
      "7\n"
     ]
    }
   ],
   "source": [
    "three_darray = np.array([[[1,2,3],[4,5,6]],[[7,22,9],[10,11,12]]])\n",
    "print(three_darray.std())\n",
    "print(three_darray.min())\n",
    "print(three_darray.max())\n",
    "print(three_darray.argmin())\n",
    "print(three_darray.argmax())"
   ]
  },
  {
   "cell_type": "code",
   "execution_count": 108,
   "id": "50a45fa4",
   "metadata": {},
   "outputs": [
    {
     "name": "stdout",
     "output_type": "stream",
     "text": [
      "['India' 'China' 'Pakistan' 'Bangladesh' 'Srilanka']\n",
      "1\n",
      "(5,)\n",
      "5\n",
      "<U10\n"
     ]
    }
   ],
   "source": [
    "asian_countries = np.array(['India','China', 'Pakistan','Bangladesh','Srilanka'])\n",
    "print(asian_countries)\n",
    "print(asian_countries.ndim)\n",
    "print(asian_countries.shape)\n",
    "print(asian_countries.size)\n",
    "print(asian_countries.dtype)"
   ]
  },
  {
   "cell_type": "code",
   "execution_count": 112,
   "id": "e047de40",
   "metadata": {},
   "outputs": [
    {
     "name": "stdout",
     "output_type": "stream",
     "text": [
      "[[1. 0. 0.]\n",
      " [0. 1. 0.]\n",
      " [0. 0. 1.]]\n",
      "[[1. 1. 1. 1.]\n",
      " [1. 1. 1. 1.]\n",
      " [1. 1. 1. 1.]\n",
      " [1. 1. 1. 1.]]\n",
      "[[6 6 6]\n",
      " [6 6 6]]\n",
      "[[0. 0.]\n",
      " [0. 0.]\n",
      " [0. 0.]]\n"
     ]
    }
   ],
   "source": [
    "print(np.identity(3))\n",
    "print(np.ones([4,4]))\n",
    "print(np.full([2,3],6))\n",
    "print(np.zeros([3,2]))"
   ]
  },
  {
   "cell_type": "code",
   "execution_count": 114,
   "id": "d43f0acb",
   "metadata": {},
   "outputs": [
    {
     "name": "stdout",
     "output_type": "stream",
     "text": [
      "[ 0.54030231  0.0707372  -0.80114362 -0.9899925 ]\n",
      "[ 2.71828183  4.48168907 12.18249396 20.08553692]\n",
      "[1. 1. 2. 3.]\n",
      "[1. 2. 3. 3.]\n"
     ]
    }
   ],
   "source": [
    "a = [1,1.5,2.5,3]\n",
    "print(np.cos(a))\n",
    "print(np.exp(a))\n",
    "print(np.floor(a))\n",
    "print(np.ceil(a))"
   ]
  },
  {
   "cell_type": "code",
   "execution_count": 131,
   "id": "9368ae11",
   "metadata": {},
   "outputs": [
    {
     "name": "stdout",
     "output_type": "stream",
     "text": [
      "[[ 1  2  3]\n",
      " [11  5  6]]\n",
      "[[ 1  2  3]\n",
      " [11  5  6]]\n",
      "0x7fee879ca1b0\n",
      "0x7fee879ca1b0\n"
     ]
    }
   ],
   "source": [
    "#Simple assignment\n",
    "x = two_darray\n",
    "print(x)\n",
    "print(two_darray)\n",
    "print(hex(id(x)))\n",
    "print(hex(id(two_darray)))"
   ]
  },
  {
   "cell_type": "code",
   "execution_count": 132,
   "id": "37283094",
   "metadata": {},
   "outputs": [
    {
     "name": "stdout",
     "output_type": "stream",
     "text": [
      "[[ 0  2  3]\n",
      " [11  5  6]]\n",
      "[[ 0  2  3]\n",
      " [11  5  6]]\n"
     ]
    }
   ],
   "source": [
    "x[0][0] = 0\n",
    "print(x)\n",
    "print(two_darray)"
   ]
  },
  {
   "cell_type": "code",
   "execution_count": 134,
   "id": "480daedb",
   "metadata": {},
   "outputs": [
    {
     "name": "stdout",
     "output_type": "stream",
     "text": [
      "[[ 0  2  3]\n",
      " [11  5  6]]\n",
      "[[ 0  2  3]\n",
      " [11  5  6]]\n",
      "0x7fee88644450\n",
      "0x7fee879ca1b0\n"
     ]
    }
   ],
   "source": [
    "#Swallow copy\n",
    "y = two_darray.view()\n",
    "print(y)\n",
    "print(two_darray)\n",
    "print(hex(id(y)))\n",
    "print(hex(id(two_darray)))"
   ]
  },
  {
   "cell_type": "code",
   "execution_count": 135,
   "id": "48f95803",
   "metadata": {},
   "outputs": [
    {
     "name": "stdout",
     "output_type": "stream",
     "text": [
      "[[ 1  2  3]\n",
      " [11  5  6]]\n",
      "[[ 1  2  3]\n",
      " [11  5  6]]\n"
     ]
    }
   ],
   "source": [
    "y[0][0] = 1\n",
    "print(y)\n",
    "print(two_darray)"
   ]
  },
  {
   "cell_type": "code",
   "execution_count": 136,
   "id": "c3674a46",
   "metadata": {},
   "outputs": [
    {
     "name": "stdout",
     "output_type": "stream",
     "text": [
      "[[ 1  2  3]\n",
      " [11  5  6]]\n",
      "[[ 1  2  3]\n",
      " [11  5  6]]\n",
      "0x7fee8865cd50\n",
      "0x7fee879ca1b0\n"
     ]
    }
   ],
   "source": [
    "#Deep copy ~ Initial data remains same.\n",
    "z = two_darray.copy()\n",
    "print(z)\n",
    "print(two_darray)\n",
    "print(hex(id(z)))\n",
    "print(hex(id(two_darray)))"
   ]
  },
  {
   "cell_type": "code",
   "execution_count": 137,
   "id": "596ca571",
   "metadata": {},
   "outputs": [
    {
     "name": "stdout",
     "output_type": "stream",
     "text": [
      "[[ 0  2  3]\n",
      " [11  5  6]]\n",
      "[[ 1  2  3]\n",
      " [11  5  6]]\n"
     ]
    }
   ],
   "source": [
    "z[0][0] = 0\n",
    "print(z)\n",
    "print(two_darray)"
   ]
  },
  {
   "cell_type": "code",
   "execution_count": 141,
   "id": "cb8eaa32",
   "metadata": {},
   "outputs": [
    {
     "name": "stdout",
     "output_type": "stream",
     "text": [
      "[ 1  2  3 11  5  6]\n",
      "<class 'numpy.ndarray'>\n",
      "[ 1  2  3 11  5  6]\n",
      "<class 'numpy.ndarray'>\n",
      "[[ 1  2  3]\n",
      " [11  5  6]]\n"
     ]
    }
   ],
   "source": [
    "print(two_darray.ravel())\n",
    "print(type(two_darray.ravel()))\n",
    "print(two_darray.flatten())\n",
    "print(type(two_darray.flatten()))\n",
    "print(two_darray)"
   ]
  },
  {
   "cell_type": "code",
   "execution_count": 146,
   "id": "fe1adf70",
   "metadata": {},
   "outputs": [
    {
     "name": "stdout",
     "output_type": "stream",
     "text": [
      "[ 1  2  3 11  5  6]\n"
     ]
    }
   ],
   "source": [
    "s = two_darray.ravel()\n",
    "print(s)"
   ]
  },
  {
   "cell_type": "code",
   "execution_count": 143,
   "id": "b0782a08",
   "metadata": {},
   "outputs": [
    {
     "name": "stdout",
     "output_type": "stream",
     "text": [
      "[[ 1  2  3]\n",
      " [11  5  6]]\n",
      "[[ 1  2]\n",
      " [ 3 11]\n",
      " [ 5  6]]\n",
      "[ 1  2  3 11  5  6]\n"
     ]
    }
   ],
   "source": [
    "print(s.reshape(2,3))\n",
    "print(s.reshape(3,2))\n",
    "print(s)"
   ]
  },
  {
   "cell_type": "code",
   "execution_count": 162,
   "id": "37939a92",
   "metadata": {},
   "outputs": [
    {
     "data": {
      "text/plain": [
       "array([[ 1,  2],\n",
       "       [ 3, 11],\n",
       "       [ 5,  6]])"
      ]
     },
     "execution_count": 162,
     "metadata": {},
     "output_type": "execute_result"
    }
   ],
   "source": [
    "#Resize changes the original data.\n",
    "s.resize(3,2)\n",
    "s"
   ]
  },
  {
   "cell_type": "code",
   "execution_count": 159,
   "id": "629c8a2d",
   "metadata": {},
   "outputs": [
    {
     "name": "stdout",
     "output_type": "stream",
     "text": [
      "[array([[1, 2]]), array([[ 3, 11]]), array([[5, 6]])]\n",
      "<class 'list'>\n",
      "[[ 1  2]\n",
      " [ 3 11]\n",
      " [ 5  6]]\n"
     ]
    }
   ],
   "source": [
    "print(np.split(s,3))\n",
    "print(type(np.split(s,3)))\n",
    "print(s)"
   ]
  },
  {
   "cell_type": "code",
   "execution_count": 163,
   "id": "3ae8f6cb",
   "metadata": {},
   "outputs": [
    {
     "name": "stdout",
     "output_type": "stream",
     "text": [
      "[array([[1],\n",
      "       [3],\n",
      "       [5]]), array([[ 2],\n",
      "       [11],\n",
      "       [ 6]])]\n",
      "<class 'list'>\n",
      "[[ 1  2]\n",
      " [ 3 11]\n",
      " [ 5  6]]\n"
     ]
    }
   ],
   "source": [
    "print(np.hsplit(s,2))\n",
    "print(type(np.hsplit(s,2)))\n",
    "print(s)"
   ]
  },
  {
   "cell_type": "code",
   "execution_count": 165,
   "id": "9003a1d5",
   "metadata": {},
   "outputs": [
    {
     "name": "stdout",
     "output_type": "stream",
     "text": [
      "[[[ 1  2]\n",
      "  [ 3 11]\n",
      "  [ 5  6]]\n",
      "\n",
      " [[ 1  2]\n",
      "  [ 3 11]\n",
      "  [ 5  6]]]\n",
      "<class 'numpy.ndarray'>\n"
     ]
    }
   ],
   "source": [
    "print(np.stack([s,s]))\n",
    "print(type(np.stack([s,s])))"
   ]
  },
  {
   "cell_type": "code",
   "execution_count": 166,
   "id": "c364fb9d",
   "metadata": {},
   "outputs": [
    {
     "name": "stdout",
     "output_type": "stream",
     "text": [
      "[[ 1  2  1  2]\n",
      " [ 3 11  3 11]\n",
      " [ 5  6  5  6]]\n",
      "<class 'numpy.ndarray'>\n"
     ]
    }
   ],
   "source": [
    "print(np.hstack([s,s]))\n",
    "print(type(np.hstack([s,s])))"
   ]
  },
  {
   "cell_type": "code",
   "execution_count": 167,
   "id": "706832a0",
   "metadata": {},
   "outputs": [
    {
     "name": "stdout",
     "output_type": "stream",
     "text": [
      "[[1 2 3]\n",
      " [4 5 6]\n",
      " [7 8 9]]\n",
      "[1 2 3]\n"
     ]
    }
   ],
   "source": [
    "#Matrix operation\n",
    "A = np.array([[1,2,3],[4,5,6],[7,8,9]])\n",
    "B = np.array([1,2,3])\n",
    "print(A)\n",
    "print(B)"
   ]
  },
  {
   "cell_type": "code",
   "execution_count": 168,
   "id": "b5ac6ec8",
   "metadata": {},
   "outputs": [
    {
     "name": "stdout",
     "output_type": "stream",
     "text": [
      "-9.51619735392994e-16\n",
      "[[ 3.15251974e+15 -6.30503948e+15  3.15251974e+15]\n",
      " [-6.30503948e+15  1.26100790e+16 -6.30503948e+15]\n",
      " [ 3.15251974e+15 -6.30503948e+15  3.15251974e+15]]\n",
      "15\n",
      "[[1 4 7]\n",
      " [2 5 8]\n",
      " [3 6 9]]\n",
      "[-0.23333333  0.46666667  0.1       ]\n",
      "[14 32 50]\n",
      "[ 1.61168440e+01 -1.11684397e+00 -3.38433605e-16]\n",
      "(array([ 1.61168440e+01, -1.11684397e+00, -3.38433605e-16]), array([[-0.23197069, -0.78583024,  0.40824829],\n",
      "       [-0.52532209, -0.08675134, -0.81649658],\n",
      "       [-0.8186735 ,  0.61232756,  0.40824829]]))\n"
     ]
    }
   ],
   "source": [
    "print(np.linalg.det(A))\n",
    "print(np.linalg.inv(A))\n",
    "print(np.trace(A))\n",
    "print(np.transpose(A))\n",
    "print(np.linalg.solve(A,B))\n",
    "print(np.dot(A,B))\n",
    "print(np.linalg.eigvals(A))\n",
    "print(np.linalg.eig(A))"
   ]
  },
  {
   "cell_type": "code",
   "execution_count": 169,
   "id": "bdfc0f3f",
   "metadata": {},
   "outputs": [],
   "source": [
    "#ScipY\n",
    "from scipy.integrate import quad"
   ]
  },
  {
   "cell_type": "code",
   "execution_count": 181,
   "id": "00f0354a",
   "metadata": {},
   "outputs": [],
   "source": [
    "def fun_1(x):\n",
    "    return x**2"
   ]
  },
  {
   "cell_type": "code",
   "execution_count": 171,
   "id": "296f65ef",
   "metadata": {},
   "outputs": [
    {
     "data": {
      "text/plain": [
       "(0.33333333333333337, 3.700743415417189e-15)"
      ]
     },
     "execution_count": 171,
     "metadata": {},
     "output_type": "execute_result"
    }
   ],
   "source": [
    "quad(fun_1,0,1)"
   ]
  },
  {
   "cell_type": "code",
   "execution_count": 173,
   "id": "f7ff1b0d",
   "metadata": {},
   "outputs": [],
   "source": [
    "#Second function\n",
    "def fun_2(x,a):\n",
    "    return x**2 + a"
   ]
  },
  {
   "cell_type": "code",
   "execution_count": 174,
   "id": "0e8ce300",
   "metadata": {},
   "outputs": [
    {
     "data": {
      "text/plain": [
       "(1.3333333333333333, 1.4802973661668752e-14)"
      ]
     },
     "execution_count": 174,
     "metadata": {},
     "output_type": "execute_result"
    }
   ],
   "source": [
    "quad(fun_2,0,1, args = 1)"
   ]
  },
  {
   "cell_type": "code",
   "execution_count": 176,
   "id": "436d16cc",
   "metadata": {},
   "outputs": [],
   "source": [
    "from scipy.integrate import dblquad"
   ]
  },
  {
   "cell_type": "code",
   "execution_count": 175,
   "id": "ed0b5ae8",
   "metadata": {},
   "outputs": [],
   "source": [
    "def fun_3(x,y,a,b):\n",
    "    return x**a + y**b"
   ]
  },
  {
   "cell_type": "code",
   "execution_count": 178,
   "id": "c2fade7a",
   "metadata": {},
   "outputs": [
    {
     "data": {
      "text/plain": [
       "(0.8333333333333333, 1.6605182541030206e-14)"
      ]
     },
     "execution_count": 178,
     "metadata": {},
     "output_type": "execute_result"
    }
   ],
   "source": [
    "dblquad(fun_3,0,1,0,1, args = (1,2))"
   ]
  },
  {
   "cell_type": "code",
   "execution_count": 180,
   "id": "9ee8460f",
   "metadata": {},
   "outputs": [],
   "source": [
    "from scipy.optimize import minimize\n",
    "from scipy.optimize import root"
   ]
  },
  {
   "cell_type": "code",
   "execution_count": 182,
   "id": "f2cefba3",
   "metadata": {},
   "outputs": [
    {
     "data": {
      "text/plain": [
       "      fun: 5.5507930986288555e-17\n",
       " hess_inv: array([[0.5]])\n",
       "      jac: array([4.32220232e-13])\n",
       "  message: 'Optimization terminated successfully.'\n",
       "     nfev: 6\n",
       "      nit: 2\n",
       "     njev: 3\n",
       "   status: 0\n",
       "  success: True\n",
       "        x: array([-7.45036449e-09])"
      ]
     },
     "execution_count": 182,
     "metadata": {},
     "output_type": "execute_result"
    }
   ],
   "source": [
    "minimize(fun_1, 1)"
   ]
  },
  {
   "cell_type": "code",
   "execution_count": 184,
   "id": "a8f2e0b8",
   "metadata": {},
   "outputs": [
    {
     "data": {
      "text/plain": [
       "5.5507930986288555e-17"
      ]
     },
     "execution_count": 184,
     "metadata": {},
     "output_type": "execute_result"
    }
   ],
   "source": [
    "minimize(fun_1, 1).fun"
   ]
  },
  {
   "cell_type": "code",
   "execution_count": 185,
   "id": "60622dc5",
   "metadata": {},
   "outputs": [
    {
     "data": {
      "text/plain": [
       "array([5.68105383e-84])"
      ]
     },
     "execution_count": 185,
     "metadata": {},
     "output_type": "execute_result"
    }
   ],
   "source": [
    "root(fun_1,1).x"
   ]
  },
  {
   "cell_type": "code",
   "execution_count": 187,
   "id": "e6ff7e98",
   "metadata": {},
   "outputs": [],
   "source": [
    "from scipy.stats import norm"
   ]
  },
  {
   "cell_type": "code",
   "execution_count": 193,
   "id": "338e54b9",
   "metadata": {},
   "outputs": [
    {
     "data": {
      "text/plain": [
       "array([ 1.07869736,  0.27503626,  0.67107638, -0.13397125, -1.21534617,\n",
       "        0.4030969 , -1.04671841, -1.19301219,  0.26085536,  0.56136083])"
      ]
     },
     "execution_count": 193,
     "metadata": {},
     "output_type": "execute_result"
    }
   ],
   "source": [
    "norm.rvs(size = 10, loc = 0, scale = 1)"
   ]
  },
  {
   "cell_type": "code",
   "execution_count": 190,
   "id": "7da53085",
   "metadata": {},
   "outputs": [
    {
     "data": {
      "text/plain": [
       "7.69459862670642e-23"
      ]
     },
     "execution_count": 190,
     "metadata": {},
     "output_type": "execute_result"
    }
   ],
   "source": [
    "norm.pdf(10, loc = 0, scale = 1)"
   ]
  },
  {
   "cell_type": "code",
   "execution_count": 191,
   "id": "1413dc2f",
   "metadata": {},
   "outputs": [
    {
     "data": {
      "text/plain": [
       "1.0"
      ]
     },
     "execution_count": 191,
     "metadata": {},
     "output_type": "execute_result"
    }
   ],
   "source": [
    "norm.cdf(10, loc = 0, scale = 1)"
   ]
  },
  {
   "cell_type": "markdown",
   "id": "2e02dc30",
   "metadata": {},
   "source": [
    "# Matplotlib"
   ]
  },
  {
   "cell_type": "code",
   "execution_count": 213,
   "id": "01b35c7a",
   "metadata": {},
   "outputs": [],
   "source": [
    "import matplotlib.pyplot as plt\n",
    "%matplotlib inline"
   ]
  },
  {
   "cell_type": "code",
   "execution_count": 235,
   "id": "5b821634",
   "metadata": {},
   "outputs": [
    {
     "data": {
      "text/plain": [
       "array([0.28747738, 0.21106091, 0.45797622, 0.99361023, 0.11404688,\n",
       "       0.50911675, 0.76513586, 0.98440631, 0.4322642 , 0.47109696])"
      ]
     },
     "execution_count": 235,
     "metadata": {},
     "output_type": "execute_result"
    }
   ],
   "source": [
    "a = np.random.random(10)\n",
    "a"
   ]
  },
  {
   "cell_type": "code",
   "execution_count": 236,
   "id": "143cae3f",
   "metadata": {},
   "outputs": [
    {
     "data": {
      "image/png": "[encoded data removed]",
      "text/plain": [
       "<Figure size 720x288 with 1 Axes>"
      ]
     },
     "metadata": {
      "needs_background": "light"
     },
     "output_type": "display_data"
    }
   ],
   "source": [
    "plt.figure(figsize = (10,4))\n",
    "plt.plot(a, 'g', linewidth = 2, linestyle = '--', label = 'plot')\n",
    "plt.xlabel('X-axis')\n",
    "plt.ylabel('Y-axis')\n",
    "plt.title('First Plot')\n",
    "plt.legend()\n",
    "plt.show()"
   ]
  },
  {
   "cell_type": "code",
   "execution_count": 237,
   "id": "76d684e6",
   "metadata": {},
   "outputs": [
    {
     "data": {
      "image/png": "[encoded data removed]",
      "text/plain": [
       "<Figure size 432x288 with 1 Axes>"
      ]
     },
     "metadata": {
      "needs_background": "light"
     },
     "output_type": "display_data"
    }
   ],
   "source": [
    "b = [1,2,3,4,5]\n",
    "plt.plot(list('abcde'),b)\n",
    "plt.show()"
   ]
  },
  {
   "cell_type": "code",
   "execution_count": 217,
   "id": "3abdc7ee",
   "metadata": {},
   "outputs": [
    {
     "data": {
      "image/png": "[encoded data removed]",
      "text/plain": [
       "<Figure size 432x288 with 1 Axes>"
      ]
     },
     "metadata": {
      "needs_background": "light"
     },
     "output_type": "display_data"
    }
   ],
   "source": [
    "plt.plot(a,'g', linewidth = 2)\n",
    "plt.show()"
   ]
  },
  {
   "cell_type": "code",
   "execution_count": 225,
   "id": "866a3484",
   "metadata": {},
   "outputs": [
    {
     "data": {
      "image/png": "[encoded data removed]",
      "text/plain": [
       "<Figure size 432x288 with 1 Axes>"
      ]
     },
     "metadata": {
      "needs_background": "light"
     },
     "output_type": "display_data"
    }
   ],
   "source": [
    "b = np.random.random(500)\n",
    "plt.hist(b, color = 'g', bins = 100)\n",
    "plt.show()"
   ]
  },
  {
   "cell_type": "code",
   "execution_count": 231,
   "id": "2ab8ee0c",
   "metadata": {},
   "outputs": [
    {
     "data": {
      "image/png": "[encoded data removed]",
      "text/plain": [
       "<Figure size 432x288 with 1 Axes>"
      ]
     },
     "metadata": {},
     "output_type": "display_data"
    }
   ],
   "source": [
    "plt.pie(range(1,11), labels = range(1,11))\n",
    "plt.show()"
   ]
  },
  {
   "cell_type": "code",
   "execution_count": 232,
   "id": "77e7f0ed",
   "metadata": {},
   "outputs": [
    {
     "data": {
      "image/png": "[encoded data removed]",
      "text/plain": [
       "<Figure size 432x288 with 1 Axes>"
      ]
     },
     "metadata": {
      "needs_background": "light"
     },
     "output_type": "display_data"
    }
   ],
   "source": [
    "plt.boxplot(b,)\n",
    "plt.show()"
   ]
  },
  {
   "cell_type": "code",
   "execution_count": 233,
   "id": "e40e0154",
   "metadata": {},
   "outputs": [
    {
     "data": {
      "image/png": "[encoded data removed]",
      "text/plain": [
       "<Figure size 432x288 with 1 Axes>"
      ]
     },
     "metadata": {
      "needs_background": "light"
     },
     "output_type": "display_data"
    }
   ],
   "source": [
    "a = np.random.random(500)\n",
    "b = np.random.random(500)\n",
    "plt.scatter(a,b, )\n",
    "plt.show()"
   ]
  },
  {
   "cell_type": "code",
   "execution_count": 251,
   "id": "8e9d3e3a",
   "metadata": {},
   "outputs": [
    {
     "data": {
      "image/png": "[encoded data removed]",
      "text/plain": [
       "<Figure size 720x432 with 1 Axes>"
      ]
     },
     "metadata": {
      "needs_background": "light"
     },
     "output_type": "display_data"
    }
   ],
   "source": [
    "sales = [110,20,140,100,280,80,250,240,210,80]\n",
    "date = [1,4,6,8,9,15,18,20,25,30] \n",
    "plt.figure(figsize = (10,6))\n",
    "plt.plot(date, sales, color = 'g', label = 'Sales', linewidth = 2, linestyle = '--', alpha = 0.7)\n",
    "plt.xlabel('Date of the month')\n",
    "plt.ylabel('Sales')\n",
    "plt.title('Sales plot of the month')\n",
    "plt.legend()\n",
    "plt.show()"
   ]
  },
  {
   "cell_type": "code",
   "execution_count": 252,
   "id": "8adb2eaa",
   "metadata": {},
   "outputs": [
    {
     "data": {
      "image/png": "[encoded data removed]",
      "text/plain": [
       "<Figure size 720x432 with 1 Axes>"
      ]
     },
     "metadata": {
      "needs_background": "light"
     },
     "output_type": "display_data"
    }
   ],
   "source": [
    "sales = [110,20,140,100,200,80,250,300,210,80]\n",
    "date = [1,4,6,8,9,15,18,20,25,30] \n",
    "plt.figure(figsize = (10,6))\n",
    "plt.scatter(date, sales, color = 'g', label = 'Sales', linewidth = 4, linestyle = '--', alpha = 0.7)\n",
    "plt.xlabel('Date of the month')\n",
    "plt.ylabel('Sales')\n",
    "plt.title('Sales plot of the month')\n",
    "plt.legend()\n",
    "plt.show()"
   ]
  },
  {
   "cell_type": "code",
   "execution_count": 254,
   "id": "68cd57a5",
   "metadata": {},
   "outputs": [],
   "source": [
    "import numpy as np\n",
    "import pandas as pd\n",
    "import seaborn as sns\n",
    "import matplotlib.pyplot as plt\n",
    "%matplotlib inline"
   ]
  },
  {
   "cell_type": "code",
   "execution_count": 255,
   "id": "57b4c62d",
   "metadata": {},
   "outputs": [],
   "source": [
    "tips = sns.load_dataset('tips')"
   ]
  },
  {
   "cell_type": "code",
   "execution_count": 256,
   "id": "a8e0ba72",
   "metadata": {},
   "outputs": [
    {
     "data": {
      "text/html": [
       "<div>\n",
       "<style scoped>\n",
       "    .dataframe tbody tr th:only-of-type {\n",
       "        vertical-align: middle;\n",
       "    }\n",
       "\n",
       "    .dataframe tbody tr th {\n",
       "        vertical-align: top;\n",
       "    }\n",
       "\n",
       "    .dataframe thead th {\n",
       "        text-align: right;\n",
       "    }\n",
       "</style>\n",
       "<table border=\"1\" class=\"dataframe\">\n",
       "  <thead>\n",
       "    <tr style=\"text-align: right;\">\n",
       "      <th></th>\n",
       "      <th>total_bill</th>\n",
       "      <th>tip</th>\n",
       "      <th>sex</th>\n",
       "      <th>smoker</th>\n",
       "      <th>day</th>\n",
       "      <th>time</th>\n",
       "      <th>size</th>\n",
       "    </tr>\n",
       "  </thead>\n",
       "  <tbody>\n",
       "    <tr>\n",
       "      <th>0</th>\n",
       "      <td>16.99</td>\n",
       "      <td>1.01</td>\n",
       "      <td>Female</td>\n",
       "      <td>No</td>\n",
       "      <td>Sun</td>\n",
       "      <td>Dinner</td>\n",
       "      <td>2</td>\n",
       "    </tr>\n",
       "    <tr>\n",
       "      <th>1</th>\n",
       "      <td>10.34</td>\n",
       "      <td>1.66</td>\n",
       "      <td>Male</td>\n",
       "      <td>No</td>\n",
       "      <td>Sun</td>\n",
       "      <td>Dinner</td>\n",
       "      <td>3</td>\n",
       "    </tr>\n",
       "    <tr>\n",
       "      <th>2</th>\n",
       "      <td>21.01</td>\n",
       "      <td>3.50</td>\n",
       "      <td>Male</td>\n",
       "      <td>No</td>\n",
       "      <td>Sun</td>\n",
       "      <td>Dinner</td>\n",
       "      <td>3</td>\n",
       "    </tr>\n",
       "    <tr>\n",
       "      <th>3</th>\n",
       "      <td>23.68</td>\n",
       "      <td>3.31</td>\n",
       "      <td>Male</td>\n",
       "      <td>No</td>\n",
       "      <td>Sun</td>\n",
       "      <td>Dinner</td>\n",
       "      <td>2</td>\n",
       "    </tr>\n",
       "    <tr>\n",
       "      <th>4</th>\n",
       "      <td>24.59</td>\n",
       "      <td>3.61</td>\n",
       "      <td>Female</td>\n",
       "      <td>No</td>\n",
       "      <td>Sun</td>\n",
       "      <td>Dinner</td>\n",
       "      <td>4</td>\n",
       "    </tr>\n",
       "    <tr>\n",
       "      <th>...</th>\n",
       "      <td>...</td>\n",
       "      <td>...</td>\n",
       "      <td>...</td>\n",
       "      <td>...</td>\n",
       "      <td>...</td>\n",
       "      <td>...</td>\n",
       "      <td>...</td>\n",
       "    </tr>\n",
       "    <tr>\n",
       "      <th>239</th>\n",
       "      <td>29.03</td>\n",
       "      <td>5.92</td>\n",
       "      <td>Male</td>\n",
       "      <td>No</td>\n",
       "      <td>Sat</td>\n",
       "      <td>Dinner</td>\n",
       "      <td>3</td>\n",
       "    </tr>\n",
       "    <tr>\n",
       "      <th>240</th>\n",
       "      <td>27.18</td>\n",
       "      <td>2.00</td>\n",
       "      <td>Female</td>\n",
       "      <td>Yes</td>\n",
       "      <td>Sat</td>\n",
       "      <td>Dinner</td>\n",
       "      <td>2</td>\n",
       "    </tr>\n",
       "    <tr>\n",
       "      <th>241</th>\n",
       "      <td>22.67</td>\n",
       "      <td>2.00</td>\n",
       "      <td>Male</td>\n",
       "      <td>Yes</td>\n",
       "      <td>Sat</td>\n",
       "      <td>Dinner</td>\n",
       "      <td>2</td>\n",
       "    </tr>\n",
       "    <tr>\n",
       "      <th>242</th>\n",
       "      <td>17.82</td>\n",
       "      <td>1.75</td>\n",
       "      <td>Male</td>\n",
       "      <td>No</td>\n",
       "      <td>Sat</td>\n",
       "      <td>Dinner</td>\n",
       "      <td>2</td>\n",
       "    </tr>\n",
       "    <tr>\n",
       "      <th>243</th>\n",
       "      <td>18.78</td>\n",
       "      <td>3.00</td>\n",
       "      <td>Female</td>\n",
       "      <td>No</td>\n",
       "      <td>Thur</td>\n",
       "      <td>Dinner</td>\n",
       "      <td>2</td>\n",
       "    </tr>\n",
       "  </tbody>\n",
       "</table>\n",
       "<p>244 rows × 7 columns</p>\n",
       "</div>"
      ],
      "text/plain": [
       "     total_bill   tip     sex smoker   day    time  size\n",
       "0         16.99  1.01  Female     No   Sun  Dinner     2\n",
       "1         10.34  1.66    Male     No   Sun  Dinner     3\n",
       "2         21.01  3.50    Male     No   Sun  Dinner     3\n",
       "3         23.68  3.31    Male     No   Sun  Dinner     2\n",
       "4         24.59  3.61  Female     No   Sun  Dinner     4\n",
       "..          ...   ...     ...    ...   ...     ...   ...\n",
       "239       29.03  5.92    Male     No   Sat  Dinner     3\n",
       "240       27.18  2.00  Female    Yes   Sat  Dinner     2\n",
       "241       22.67  2.00    Male    Yes   Sat  Dinner     2\n",
       "242       17.82  1.75    Male     No   Sat  Dinner     2\n",
       "243       18.78  3.00  Female     No  Thur  Dinner     2\n",
       "\n",
       "[244 rows x 7 columns]"
      ]
     },
     "execution_count": 256,
     "metadata": {},
     "output_type": "execute_result"
    }
   ],
   "source": [
    "tips"
   ]
  },
  {
   "cell_type": "code",
   "execution_count": 257,
   "id": "9e238c91",
   "metadata": {},
   "outputs": [
    {
     "data": {
      "text/plain": [
       "<AxesSubplot:xlabel='sex', ylabel='total_bill'>"
      ]
     },
     "execution_count": 257,
     "metadata": {},
     "output_type": "execute_result"
    },
    {
     "data": {
      "image/png": "[encoded data removed]",
      "text/plain": [
       "<Figure size 432x288 with 1 Axes>"
      ]
     },
     "metadata": {
      "needs_background": "light"
     },
     "output_type": "display_data"
    }
   ],
   "source": [
    "sns.barplot(x = 'sex', y = 'total_bill', data = tips)"
   ]
  },
  {
   "cell_type": "code",
   "execution_count": 259,
   "id": "e458fbdf",
   "metadata": {},
   "outputs": [
    {
     "data": {
      "text/plain": [
       "<AxesSubplot:xlabel='sex', ylabel='count'>"
      ]
     },
     "execution_count": 259,
     "metadata": {},
     "output_type": "execute_result"
    },
    {
     "data": {
      "image/png": "[encoded data removed]",
      "text/plain": [
       "<Figure size 432x288 with 1 Axes>"
      ]
     },
     "metadata": {
      "needs_background": "light"
     },
     "output_type": "display_data"
    }
   ],
   "source": [
    "sns.countplot(x = 'sex', data = tips)"
   ]
  },
  {
   "cell_type": "markdown",
   "id": "f48d8823",
   "metadata": {},
   "source": [
    "## Pandas"
   ]
  },
  {
   "cell_type": "code",
   "execution_count": 316,
   "id": "e8b1ae46",
   "metadata": {},
   "outputs": [],
   "source": [
    "import pandas as pd"
   ]
  },
  {
   "cell_type": "code",
   "execution_count": 317,
   "id": "89639f23",
   "metadata": {},
   "outputs": [
    {
     "name": "stdout",
     "output_type": "stream",
     "text": [
      "0    a\n",
      "1    b\n",
      "2    c\n",
      "3    d\n",
      "4    e\n",
      "dtype: object\n"
     ]
    }
   ],
   "source": [
    "first_Series = pd.Series(data = list('abcde'))\n",
    "print(first_Series)"
   ]
  },
  {
   "cell_type": "code",
   "execution_count": 319,
   "id": "ad36e9a2",
   "metadata": {},
   "outputs": [
    {
     "name": "stdout",
     "output_type": "stream",
     "text": [
      "A    a\n",
      "B    b\n",
      "C    c\n",
      "D    d\n",
      "E    e\n",
      "dtype: object\n"
     ]
    }
   ],
   "source": [
    "Second_Series = pd.Series(data = list('abcde'), index = list('ABCDE'))\n",
    "print(Second_Series)"
   ]
  },
  {
   "cell_type": "code",
   "execution_count": 320,
   "id": "8bd95e3d",
   "metadata": {},
   "outputs": [
    {
     "name": "stdout",
     "output_type": "stream",
     "text": [
      "0      Delhi\n",
      "1     Mumbai\n",
      "2    Chennai\n",
      "dtype: object\n"
     ]
    }
   ],
   "source": [
    "third_series = pd.Series(data = ['Delhi', 'Mumbai', 'Chennai'])\n",
    "print(third_series)"
   ]
  },
  {
   "cell_type": "code",
   "execution_count": 321,
   "id": "3a999a10",
   "metadata": {},
   "outputs": [
    {
     "name": "stdout",
     "output_type": "stream",
     "text": [
      "1      Delhi\n",
      "2     Mumbai\n",
      "3    Chennai\n",
      "4    kolkata\n",
      "dtype: object\n"
     ]
    }
   ],
   "source": [
    "city_array = np.array(['Delhi', 'Mumbai', 'Chennai', 'kolkata'])\n",
    "fourth_series = pd.Series(data = city_array, index = range(1,5))\n",
    "print(fourth_series)"
   ]
  },
  {
   "cell_type": "code",
   "execution_count": 322,
   "id": "2155e742",
   "metadata": {},
   "outputs": [
    {
     "name": "stdout",
     "output_type": "stream",
     "text": [
      "India    [Delhi, Mumbai, Chennai, kolkata]\n",
      "UK               [London, Paris, New York]\n",
      "dtype: object\n"
     ]
    }
   ],
   "source": [
    "city_dict = {'India':['Delhi', 'Mumbai', 'Chennai', 'kolkata'], 'UK':['London','Paris','New York']}\n",
    "fifth_series = pd.Series(data = city_dict)\n",
    "print(fifth_series)"
   ]
  },
  {
   "cell_type": "code",
   "execution_count": 323,
   "id": "a3122a1a",
   "metadata": {},
   "outputs": [
    {
     "name": "stdout",
     "output_type": "stream",
     "text": [
      "India      {2022: 800, 2023: 900}\n",
      "USA      {2022: 1000, 2023: 1200}\n",
      "dtype: object\n"
     ]
    }
   ],
   "source": [
    "gdp_dict = {'India':{2022:800,2023:900}, 'USA':{2022:1000,2023:1200}}\n",
    "sixth_series = pd.Series(data = gdp_dict)\n",
    "print(sixth_series)"
   ]
  },
  {
   "cell_type": "code",
   "execution_count": 324,
   "id": "a0d4d048",
   "metadata": {},
   "outputs": [
    {
     "name": "stdout",
     "output_type": "stream",
     "text": [
      "1     5\n",
      "2     5\n",
      "3     5\n",
      "4     5\n",
      "5     5\n",
      "6     5\n",
      "7     5\n",
      "8     5\n",
      "9     5\n",
      "10    5\n",
      "dtype: int64\n"
     ]
    }
   ],
   "source": [
    "sevent_series = pd.Series(data = 5, index = range(1,11))\n",
    "print(sevent_series)"
   ]
  },
  {
   "cell_type": "code",
   "execution_count": 325,
   "id": "bf55ebfc",
   "metadata": {},
   "outputs": [
    {
     "data": {
      "text/plain": [
       "1    5\n",
       "2    5\n",
       "3    5\n",
       "4    5\n",
       "5    5\n",
       "dtype: int64"
      ]
     },
     "execution_count": 325,
     "metadata": {},
     "output_type": "execute_result"
    }
   ],
   "source": [
    "sevent_series.iloc[0:5]"
   ]
  },
  {
   "cell_type": "code",
   "execution_count": 331,
   "id": "73d2b652",
   "metadata": {},
   "outputs": [
    {
     "data": {
      "text/plain": [
       "'/Users/mht/Desktop/Data Science/Python Projects and Data Set'"
      ]
     },
     "execution_count": 331,
     "metadata": {},
     "output_type": "execute_result"
    }
   ],
   "source": [
    "import os\n",
    "os.getcwd()"
   ]
  },
  {
   "cell_type": "code",
   "execution_count": 332,
   "id": "dd4a9c03",
   "metadata": {},
   "outputs": [
    {
     "name": "stdout",
     "output_type": "stream",
     "text": [
      "  HostCity  Year  No_of_Participants\n",
      "0   London  2012                 205\n",
      "1  Beijing  2008                 204\n",
      "2   Athens  2004                 201\n",
      "3   Sydney  2000                 200\n",
      "4  Atlanta  1996                 197\n"
     ]
    }
   ],
   "source": [
    "olympic_data_set = pd.DataFrame({'HostCity':np.array(['London','Beijing','Athens','Sydney','Atlanta']),\n",
    "                       'Year':[2012,2008,2004,2000,1996],\n",
    "                       'No_of_Participants':np.array([205,204,201,200,197])})\n",
    "print(olympic_data_set)"
   ]
  },
  {
   "cell_type": "code",
   "execution_count": 333,
   "id": "6122d048",
   "metadata": {},
   "outputs": [
    {
     "data": {
      "text/html": [
       "<div>\n",
       "<style scoped>\n",
       "    .dataframe tbody tr th:only-of-type {\n",
       "        vertical-align: middle;\n",
       "    }\n",
       "\n",
       "    .dataframe tbody tr th {\n",
       "        vertical-align: top;\n",
       "    }\n",
       "\n",
       "    .dataframe thead th {\n",
       "        text-align: right;\n",
       "    }\n",
       "</style>\n",
       "<table border=\"1\" class=\"dataframe\">\n",
       "  <thead>\n",
       "    <tr style=\"text-align: right;\">\n",
       "      <th></th>\n",
       "      <th>HostCity</th>\n",
       "      <th>Year</th>\n",
       "      <th>No_of_Participants</th>\n",
       "    </tr>\n",
       "  </thead>\n",
       "  <tbody>\n",
       "    <tr>\n",
       "      <th>0</th>\n",
       "      <td>London</td>\n",
       "      <td>2012</td>\n",
       "      <td>205</td>\n",
       "    </tr>\n",
       "    <tr>\n",
       "      <th>1</th>\n",
       "      <td>Beijing</td>\n",
       "      <td>2008</td>\n",
       "      <td>204</td>\n",
       "    </tr>\n",
       "    <tr>\n",
       "      <th>2</th>\n",
       "      <td>Athens</td>\n",
       "      <td>2004</td>\n",
       "      <td>201</td>\n",
       "    </tr>\n",
       "    <tr>\n",
       "      <th>3</th>\n",
       "      <td>Sydney</td>\n",
       "      <td>2000</td>\n",
       "      <td>200</td>\n",
       "    </tr>\n",
       "    <tr>\n",
       "      <th>4</th>\n",
       "      <td>Atlanta</td>\n",
       "      <td>1996</td>\n",
       "      <td>197</td>\n",
       "    </tr>\n",
       "  </tbody>\n",
       "</table>\n",
       "</div>"
      ],
      "text/plain": [
       "  HostCity  Year  No_of_Participants\n",
       "0   London  2012                 205\n",
       "1  Beijing  2008                 204\n",
       "2   Athens  2004                 201\n",
       "3   Sydney  2000                 200\n",
       "4  Atlanta  1996                 197"
      ]
     },
     "execution_count": 333,
     "metadata": {},
     "output_type": "execute_result"
    }
   ],
   "source": [
    "olympic_data_set"
   ]
  },
  {
   "cell_type": "code",
   "execution_count": 336,
   "id": "c83bfac0",
   "metadata": {},
   "outputs": [
    {
     "data": {
      "text/plain": [
       "0     London\n",
       "1    Beijing\n",
       "2     Athens\n",
       "3     Sydney\n",
       "4    Atlanta\n",
       "Name: HostCity, dtype: object"
      ]
     },
     "execution_count": 336,
     "metadata": {},
     "output_type": "execute_result"
    }
   ],
   "source": [
    "olympic_data_set['HostCity']"
   ]
  },
  {
   "cell_type": "code",
   "execution_count": 339,
   "id": "018d19c0",
   "metadata": {},
   "outputs": [
    {
     "name": "stdout",
     "output_type": "stream",
     "text": [
      "(5, 3)\n"
     ]
    }
   ],
   "source": [
    "print(olympic_data_set.shape)"
   ]
  },
  {
   "cell_type": "code",
   "execution_count": 338,
   "id": "bf16d7e8",
   "metadata": {},
   "outputs": [
    {
     "data": {
      "text/html": [
       "<div>\n",
       "<style scoped>\n",
       "    .dataframe tbody tr th:only-of-type {\n",
       "        vertical-align: middle;\n",
       "    }\n",
       "\n",
       "    .dataframe tbody tr th {\n",
       "        vertical-align: top;\n",
       "    }\n",
       "\n",
       "    .dataframe thead th {\n",
       "        text-align: right;\n",
       "    }\n",
       "</style>\n",
       "<table border=\"1\" class=\"dataframe\">\n",
       "  <thead>\n",
       "    <tr style=\"text-align: right;\">\n",
       "      <th></th>\n",
       "      <th>HostCity</th>\n",
       "      <th>Year</th>\n",
       "      <th>No_of_Participants</th>\n",
       "    </tr>\n",
       "  </thead>\n",
       "  <tbody>\n",
       "    <tr>\n",
       "      <th>0</th>\n",
       "      <td>London</td>\n",
       "      <td>2012</td>\n",
       "      <td>205</td>\n",
       "    </tr>\n",
       "    <tr>\n",
       "      <th>1</th>\n",
       "      <td>Beijing</td>\n",
       "      <td>2008</td>\n",
       "      <td>204</td>\n",
       "    </tr>\n",
       "    <tr>\n",
       "      <th>2</th>\n",
       "      <td>Athens</td>\n",
       "      <td>2004</td>\n",
       "      <td>201</td>\n",
       "    </tr>\n",
       "    <tr>\n",
       "      <th>3</th>\n",
       "      <td>Sydney</td>\n",
       "      <td>2000</td>\n",
       "      <td>200</td>\n",
       "    </tr>\n",
       "    <tr>\n",
       "      <th>4</th>\n",
       "      <td>Atlanta</td>\n",
       "      <td>1996</td>\n",
       "      <td>197</td>\n",
       "    </tr>\n",
       "  </tbody>\n",
       "</table>\n",
       "</div>"
      ],
      "text/plain": [
       "  HostCity  Year  No_of_Participants\n",
       "0   London  2012                 205\n",
       "1  Beijing  2008                 204\n",
       "2   Athens  2004                 201\n",
       "3   Sydney  2000                 200\n",
       "4  Atlanta  1996                 197"
      ]
     },
     "execution_count": 338,
     "metadata": {},
     "output_type": "execute_result"
    }
   ],
   "source": [
    "olympic_data_set.head()"
   ]
  },
  {
   "cell_type": "code",
   "execution_count": 344,
   "id": "453df087",
   "metadata": {},
   "outputs": [
    {
     "data": {
      "text/plain": [
       "HostCity              0\n",
       "Year                  0\n",
       "No_of_Participants    0\n",
       "dtype: int64"
      ]
     },
     "execution_count": 344,
     "metadata": {},
     "output_type": "execute_result"
    }
   ],
   "source": [
    "olympic_data_set.isna().sum()"
   ]
  },
  {
   "cell_type": "code",
   "execution_count": 345,
   "id": "154f70bd",
   "metadata": {},
   "outputs": [
    {
     "data": {
      "text/html": [
       "<div>\n",
       "<style scoped>\n",
       "    .dataframe tbody tr th:only-of-type {\n",
       "        vertical-align: middle;\n",
       "    }\n",
       "\n",
       "    .dataframe tbody tr th {\n",
       "        vertical-align: top;\n",
       "    }\n",
       "\n",
       "    .dataframe thead th {\n",
       "        text-align: right;\n",
       "    }\n",
       "</style>\n",
       "<table border=\"1\" class=\"dataframe\">\n",
       "  <thead>\n",
       "    <tr style=\"text-align: right;\">\n",
       "      <th></th>\n",
       "      <th>movie1</th>\n",
       "      <th>movie2</th>\n",
       "    </tr>\n",
       "  </thead>\n",
       "  <tbody>\n",
       "    <tr>\n",
       "      <th>a</th>\n",
       "      <td>5</td>\n",
       "      <td>4</td>\n",
       "    </tr>\n",
       "    <tr>\n",
       "      <th>b</th>\n",
       "      <td>4</td>\n",
       "      <td>5</td>\n",
       "    </tr>\n",
       "    <tr>\n",
       "      <th>c</th>\n",
       "      <td>3</td>\n",
       "      <td>2</td>\n",
       "    </tr>\n",
       "    <tr>\n",
       "      <th>d</th>\n",
       "      <td>3</td>\n",
       "      <td>3</td>\n",
       "    </tr>\n",
       "    <tr>\n",
       "      <th>e</th>\n",
       "      <td>2</td>\n",
       "      <td>4</td>\n",
       "    </tr>\n",
       "    <tr>\n",
       "      <th>f</th>\n",
       "      <td>1</td>\n",
       "      <td>2</td>\n",
       "    </tr>\n",
       "  </tbody>\n",
       "</table>\n",
       "</div>"
      ],
      "text/plain": [
       "   movie1  movie2\n",
       "a       5       4\n",
       "b       4       5\n",
       "c       3       2\n",
       "d       3       3\n",
       "e       2       4\n",
       "f       1       2"
      ]
     },
     "execution_count": 345,
     "metadata": {},
     "output_type": "execute_result"
    }
   ],
   "source": [
    "movie_ratings = pd.DataFrame({'movie1':[5,4,3,3,2,1],\n",
    "                              'movie2':[4,5,2,3,4,2]}, index = list('abcdef'))\n",
    "movie_ratings"
   ]
  },
  {
   "cell_type": "code",
   "execution_count": 348,
   "id": "995f1274",
   "metadata": {},
   "outputs": [],
   "source": [
    "def fun_rating(rating):\n",
    "    if rating == 5:\n",
    "        return 'A'\n",
    "    elif rating == 4:\n",
    "        return 'B'\n",
    "    elif rating == 3:\n",
    "        return 'C'\n",
    "    elif rating == 2:\n",
    "        return 'D'\n",
    "    else:\n",
    "        return 'E'"
   ]
  },
  {
   "cell_type": "code",
   "execution_count": 353,
   "id": "2dc833a9",
   "metadata": {},
   "outputs": [
    {
     "data": {
      "text/plain": [
       "'A'"
      ]
     },
     "execution_count": 353,
     "metadata": {},
     "output_type": "execute_result"
    }
   ],
   "source": [
    "fun_rating(5)"
   ]
  },
  {
   "cell_type": "code",
   "execution_count": 359,
   "id": "a97b7f54",
   "metadata": {},
   "outputs": [
    {
     "data": {
      "text/html": [
       "<div>\n",
       "<style scoped>\n",
       "    .dataframe tbody tr th:only-of-type {\n",
       "        vertical-align: middle;\n",
       "    }\n",
       "\n",
       "    .dataframe tbody tr th {\n",
       "        vertical-align: top;\n",
       "    }\n",
       "\n",
       "    .dataframe thead th {\n",
       "        text-align: right;\n",
       "    }\n",
       "</style>\n",
       "<table border=\"1\" class=\"dataframe\">\n",
       "  <thead>\n",
       "    <tr style=\"text-align: right;\">\n",
       "      <th></th>\n",
       "      <th>movie1</th>\n",
       "      <th>movie2</th>\n",
       "    </tr>\n",
       "  </thead>\n",
       "  <tbody>\n",
       "    <tr>\n",
       "      <th>a</th>\n",
       "      <td>A</td>\n",
       "      <td>B</td>\n",
       "    </tr>\n",
       "    <tr>\n",
       "      <th>b</th>\n",
       "      <td>B</td>\n",
       "      <td>A</td>\n",
       "    </tr>\n",
       "    <tr>\n",
       "      <th>c</th>\n",
       "      <td>C</td>\n",
       "      <td>D</td>\n",
       "    </tr>\n",
       "    <tr>\n",
       "      <th>d</th>\n",
       "      <td>C</td>\n",
       "      <td>C</td>\n",
       "    </tr>\n",
       "    <tr>\n",
       "      <th>e</th>\n",
       "      <td>D</td>\n",
       "      <td>B</td>\n",
       "    </tr>\n",
       "    <tr>\n",
       "      <th>f</th>\n",
       "      <td>E</td>\n",
       "      <td>D</td>\n",
       "    </tr>\n",
       "  </tbody>\n",
       "</table>\n",
       "</div>"
      ],
      "text/plain": [
       "  movie1 movie2\n",
       "a      A      B\n",
       "b      B      A\n",
       "c      C      D\n",
       "d      C      C\n",
       "e      D      B\n",
       "f      E      D"
      ]
     },
     "execution_count": 359,
     "metadata": {},
     "output_type": "execute_result"
    }
   ],
   "source": [
    "movie_ratings.applymap(fun_rating)"
   ]
  },
  {
   "cell_type": "code",
   "execution_count": 360,
   "id": "d52f8abb",
   "metadata": {},
   "outputs": [
    {
     "data": {
      "text/html": [
       "<div>\n",
       "<style scoped>\n",
       "    .dataframe tbody tr th:only-of-type {\n",
       "        vertical-align: middle;\n",
       "    }\n",
       "\n",
       "    .dataframe tbody tr th {\n",
       "        vertical-align: top;\n",
       "    }\n",
       "\n",
       "    .dataframe thead th {\n",
       "        text-align: right;\n",
       "    }\n",
       "</style>\n",
       "<table border=\"1\" class=\"dataframe\">\n",
       "  <thead>\n",
       "    <tr style=\"text-align: right;\">\n",
       "      <th></th>\n",
       "      <th>prod_id</th>\n",
       "      <th>year</th>\n",
       "      <th>sales</th>\n",
       "    </tr>\n",
       "  </thead>\n",
       "  <tbody>\n",
       "    <tr>\n",
       "      <th>0</th>\n",
       "      <td>101</td>\n",
       "      <td>2017</td>\n",
       "      <td>192</td>\n",
       "    </tr>\n",
       "    <tr>\n",
       "      <th>1</th>\n",
       "      <td>102</td>\n",
       "      <td>2018</td>\n",
       "      <td>321</td>\n",
       "    </tr>\n",
       "    <tr>\n",
       "      <th>2</th>\n",
       "      <td>103</td>\n",
       "      <td>2017</td>\n",
       "      <td>456</td>\n",
       "    </tr>\n",
       "    <tr>\n",
       "      <th>3</th>\n",
       "      <td>104</td>\n",
       "      <td>2018</td>\n",
       "      <td>383</td>\n",
       "    </tr>\n",
       "    <tr>\n",
       "      <th>4</th>\n",
       "      <td>105</td>\n",
       "      <td>2017</td>\n",
       "      <td>100</td>\n",
       "    </tr>\n",
       "    <tr>\n",
       "      <th>5</th>\n",
       "      <td>106</td>\n",
       "      <td>2018</td>\n",
       "      <td>898</td>\n",
       "    </tr>\n",
       "    <tr>\n",
       "      <th>6</th>\n",
       "      <td>107</td>\n",
       "      <td>2017</td>\n",
       "      <td>999</td>\n",
       "    </tr>\n",
       "    <tr>\n",
       "      <th>7</th>\n",
       "      <td>108</td>\n",
       "      <td>2018</td>\n",
       "      <td>125</td>\n",
       "    </tr>\n",
       "    <tr>\n",
       "      <th>8</th>\n",
       "      <td>109</td>\n",
       "      <td>2017</td>\n",
       "      <td>665</td>\n",
       "    </tr>\n",
       "    <tr>\n",
       "      <th>9</th>\n",
       "      <td>110</td>\n",
       "      <td>2018</td>\n",
       "      <td>330</td>\n",
       "    </tr>\n",
       "  </tbody>\n",
       "</table>\n",
       "</div>"
      ],
      "text/plain": [
       "   prod_id  year  sales\n",
       "0      101  2017    192\n",
       "1      102  2018    321\n",
       "2      103  2017    456\n",
       "3      104  2018    383\n",
       "4      105  2017    100\n",
       "5      106  2018    898\n",
       "6      107  2017    999\n",
       "7      108  2018    125\n",
       "8      109  2017    665\n",
       "9      110  2018    330"
      ]
     },
     "execution_count": 360,
     "metadata": {},
     "output_type": "execute_result"
    }
   ],
   "source": [
    "data = pd.DataFrame({'prod_id':[101,102,103,104,105,106,107,108,109,110],\n",
    "                     'year':[2017,2018,2017,2018,2017,2018,2017,2018,2017,2018],\n",
    "                     'sales':[192,321,456,383,100,898,999,125,665,330]})\n",
    "data"
   ]
  },
  {
   "cell_type": "code",
   "execution_count": 362,
   "id": "c8a5e594",
   "metadata": {},
   "outputs": [
    {
     "data": {
      "text/plain": [
       "(10, 3)"
      ]
     },
     "execution_count": 362,
     "metadata": {},
     "output_type": "execute_result"
    }
   ],
   "source": [
    "data.shape"
   ]
  },
  {
   "cell_type": "code",
   "execution_count": 363,
   "id": "139420d0",
   "metadata": {},
   "outputs": [
    {
     "name": "stdout",
     "output_type": "stream",
     "text": [
      "   prod_id  year  sales\n",
      "0      101  2017    192\n",
      "1      102  2018    321\n",
      "2      103  2017    456\n",
      "3      104  2018    383\n",
      "4      105  2017    100\n",
      "   prod_id  year  sales\n",
      "5      106  2018    898\n",
      "6      107  2017    999\n",
      "7      108  2018    125\n",
      "8      109  2017    665\n",
      "9      110  2018    330\n"
     ]
    }
   ],
   "source": [
    "print(data.head())\n",
    "print(data.tail())"
   ]
  },
  {
   "cell_type": "code",
   "execution_count": 366,
   "id": "463636b5",
   "metadata": {},
   "outputs": [
    {
     "name": "stdout",
     "output_type": "stream",
     "text": [
      "4469\n",
      "10\n",
      "446.9\n",
      "999\n",
      "100\n",
      "4469\n"
     ]
    }
   ],
   "source": [
    "print(data.sales.sum())\n",
    "print(data.sales.count())\n",
    "print(data.sales.mean())\n",
    "print(data.sales.max())\n",
    "print(data.sales.min())\n",
    "print(data.sales.sum())"
   ]
  },
  {
   "cell_type": "code",
   "execution_count": 368,
   "id": "d3b9ce73",
   "metadata": {},
   "outputs": [
    {
     "data": {
      "text/plain": [
       "2017    5\n",
       "2018    5\n",
       "Name: year, dtype: int64"
      ]
     },
     "execution_count": 368,
     "metadata": {},
     "output_type": "execute_result"
    }
   ],
   "source": [
    "data.year.value_counts()"
   ]
  },
  {
   "cell_type": "code",
   "execution_count": 370,
   "id": "d0f035d0",
   "metadata": {},
   "outputs": [
    {
     "data": {
      "text/plain": [
       "array([192, 321, 456, 383, 100, 898, 999, 125, 665, 330])"
      ]
     },
     "execution_count": 370,
     "metadata": {},
     "output_type": "execute_result"
    }
   ],
   "source": [
    "data.sales.values"
   ]
  },
  {
   "cell_type": "code",
   "execution_count": 377,
   "id": "6dea4efa",
   "metadata": {},
   "outputs": [
    {
     "name": "stdout",
     "output_type": "stream",
     "text": [
      "year\n",
      "2017    2412\n",
      "2018    2057\n",
      "Name: sales, dtype: int64\n",
      "year\n",
      "2017    482.4\n",
      "2018    411.4\n",
      "Name: sales, dtype: float64\n",
      "year\n",
      "2017    5\n",
      "2018    5\n",
      "Name: sales, dtype: int64\n",
      "year\n",
      "2017    100\n",
      "2018    125\n",
      "Name: sales, dtype: int64\n",
      "year\n",
      "2017    999\n",
      "2018    898\n",
      "Name: sales, dtype: int64\n",
      "year\n",
      "2017    456.0\n",
      "2018    330.0\n",
      "Name: sales, dtype: float64\n",
      "year\n",
      "2017    364.512414\n",
      "2018    289.140623\n",
      "Name: sales, dtype: float64\n"
     ]
    }
   ],
   "source": [
    "print(data.groupby(['year'])['sales'].sum())\n",
    "print(data.groupby(['year'])['sales'].mean())\n",
    "print(data.groupby(['year'])['sales'].count())\n",
    "print(data.groupby(['year'])['sales'].min())\n",
    "print(data.groupby(['year'])['sales'].max())\n",
    "print(data.groupby(['year'])['sales'].median())\n",
    "print(data.groupby(['year'])['sales'].std())"
   ]
  },
  {
   "cell_type": "code",
   "execution_count": 379,
   "id": "f5b60f71",
   "metadata": {},
   "outputs": [
    {
     "data": {
      "text/html": [
       "<div>\n",
       "<style scoped>\n",
       "    .dataframe tbody tr th:only-of-type {\n",
       "        vertical-align: middle;\n",
       "    }\n",
       "\n",
       "    .dataframe tbody tr th {\n",
       "        vertical-align: top;\n",
       "    }\n",
       "\n",
       "    .dataframe thead th {\n",
       "        text-align: right;\n",
       "    }\n",
       "</style>\n",
       "<table border=\"1\" class=\"dataframe\">\n",
       "  <thead>\n",
       "    <tr style=\"text-align: right;\">\n",
       "      <th></th>\n",
       "      <th>Prod_id</th>\n",
       "      <th>Year</th>\n",
       "      <th>Sales</th>\n",
       "    </tr>\n",
       "  </thead>\n",
       "  <tbody>\n",
       "    <tr>\n",
       "      <th>0</th>\n",
       "      <td>101</td>\n",
       "      <td>2017</td>\n",
       "      <td>192</td>\n",
       "    </tr>\n",
       "    <tr>\n",
       "      <th>1</th>\n",
       "      <td>102</td>\n",
       "      <td>2018</td>\n",
       "      <td>321</td>\n",
       "    </tr>\n",
       "    <tr>\n",
       "      <th>2</th>\n",
       "      <td>103</td>\n",
       "      <td>2017</td>\n",
       "      <td>456</td>\n",
       "    </tr>\n",
       "    <tr>\n",
       "      <th>3</th>\n",
       "      <td>104</td>\n",
       "      <td>2018</td>\n",
       "      <td>383</td>\n",
       "    </tr>\n",
       "    <tr>\n",
       "      <th>4</th>\n",
       "      <td>105</td>\n",
       "      <td>2017</td>\n",
       "      <td>100</td>\n",
       "    </tr>\n",
       "    <tr>\n",
       "      <th>5</th>\n",
       "      <td>106</td>\n",
       "      <td>2018</td>\n",
       "      <td>898</td>\n",
       "    </tr>\n",
       "    <tr>\n",
       "      <th>6</th>\n",
       "      <td>107</td>\n",
       "      <td>2017</td>\n",
       "      <td>999</td>\n",
       "    </tr>\n",
       "    <tr>\n",
       "      <th>7</th>\n",
       "      <td>108</td>\n",
       "      <td>2018</td>\n",
       "      <td>125</td>\n",
       "    </tr>\n",
       "    <tr>\n",
       "      <th>8</th>\n",
       "      <td>109</td>\n",
       "      <td>2017</td>\n",
       "      <td>665</td>\n",
       "    </tr>\n",
       "    <tr>\n",
       "      <th>9</th>\n",
       "      <td>110</td>\n",
       "      <td>2018</td>\n",
       "      <td>330</td>\n",
       "    </tr>\n",
       "  </tbody>\n",
       "</table>\n",
       "</div>"
      ],
      "text/plain": [
       "   Prod_id  Year  Sales\n",
       "0      101  2017    192\n",
       "1      102  2018    321\n",
       "2      103  2017    456\n",
       "3      104  2018    383\n",
       "4      105  2017    100\n",
       "5      106  2018    898\n",
       "6      107  2017    999\n",
       "7      108  2018    125\n",
       "8      109  2017    665\n",
       "9      110  2018    330"
      ]
     },
     "execution_count": 379,
     "metadata": {},
     "output_type": "execute_result"
    }
   ],
   "source": [
    "data.columns = ['Prod_id', 'Year', 'Sales']\n",
    "data"
   ]
  },
  {
   "cell_type": "code",
   "execution_count": 380,
   "id": "e14f79fb",
   "metadata": {},
   "outputs": [
    {
     "data": {
      "text/html": [
       "<div>\n",
       "<style scoped>\n",
       "    .dataframe tbody tr th:only-of-type {\n",
       "        vertical-align: middle;\n",
       "    }\n",
       "\n",
       "    .dataframe tbody tr th {\n",
       "        vertical-align: top;\n",
       "    }\n",
       "\n",
       "    .dataframe thead th {\n",
       "        text-align: right;\n",
       "    }\n",
       "</style>\n",
       "<table border=\"1\" class=\"dataframe\">\n",
       "  <thead>\n",
       "    <tr style=\"text-align: right;\">\n",
       "      <th></th>\n",
       "      <th>Prod_id</th>\n",
       "      <th>Year</th>\n",
       "      <th>Sales</th>\n",
       "    </tr>\n",
       "    <tr>\n",
       "      <th>Year</th>\n",
       "      <th></th>\n",
       "      <th></th>\n",
       "      <th></th>\n",
       "    </tr>\n",
       "  </thead>\n",
       "  <tbody>\n",
       "    <tr>\n",
       "      <th>2017</th>\n",
       "      <td>101</td>\n",
       "      <td>2017</td>\n",
       "      <td>192</td>\n",
       "    </tr>\n",
       "    <tr>\n",
       "      <th>2018</th>\n",
       "      <td>102</td>\n",
       "      <td>2018</td>\n",
       "      <td>321</td>\n",
       "    </tr>\n",
       "    <tr>\n",
       "      <th>2017</th>\n",
       "      <td>103</td>\n",
       "      <td>2017</td>\n",
       "      <td>456</td>\n",
       "    </tr>\n",
       "    <tr>\n",
       "      <th>2018</th>\n",
       "      <td>104</td>\n",
       "      <td>2018</td>\n",
       "      <td>383</td>\n",
       "    </tr>\n",
       "    <tr>\n",
       "      <th>2017</th>\n",
       "      <td>105</td>\n",
       "      <td>2017</td>\n",
       "      <td>100</td>\n",
       "    </tr>\n",
       "    <tr>\n",
       "      <th>2018</th>\n",
       "      <td>106</td>\n",
       "      <td>2018</td>\n",
       "      <td>898</td>\n",
       "    </tr>\n",
       "    <tr>\n",
       "      <th>2017</th>\n",
       "      <td>107</td>\n",
       "      <td>2017</td>\n",
       "      <td>999</td>\n",
       "    </tr>\n",
       "    <tr>\n",
       "      <th>2018</th>\n",
       "      <td>108</td>\n",
       "      <td>2018</td>\n",
       "      <td>125</td>\n",
       "    </tr>\n",
       "    <tr>\n",
       "      <th>2017</th>\n",
       "      <td>109</td>\n",
       "      <td>2017</td>\n",
       "      <td>665</td>\n",
       "    </tr>\n",
       "    <tr>\n",
       "      <th>2018</th>\n",
       "      <td>110</td>\n",
       "      <td>2018</td>\n",
       "      <td>330</td>\n",
       "    </tr>\n",
       "  </tbody>\n",
       "</table>\n",
       "</div>"
      ],
      "text/plain": [
       "      Prod_id  Year  Sales\n",
       "Year                      \n",
       "2017      101  2017    192\n",
       "2018      102  2018    321\n",
       "2017      103  2017    456\n",
       "2018      104  2018    383\n",
       "2017      105  2017    100\n",
       "2018      106  2018    898\n",
       "2017      107  2017    999\n",
       "2018      108  2018    125\n",
       "2017      109  2017    665\n",
       "2018      110  2018    330"
      ]
     },
     "execution_count": 380,
     "metadata": {},
     "output_type": "execute_result"
    }
   ],
   "source": [
    "data.index = data.Year\n",
    "data"
   ]
  },
  {
   "cell_type": "code",
   "execution_count": 387,
   "id": "559b1265",
   "metadata": {},
   "outputs": [],
   "source": [
    "data.reset_index(drop = True, inplace = True)"
   ]
  },
  {
   "cell_type": "code",
   "execution_count": 388,
   "id": "8553a01f",
   "metadata": {},
   "outputs": [
    {
     "data": {
      "text/html": [
       "<div>\n",
       "<style scoped>\n",
       "    .dataframe tbody tr th:only-of-type {\n",
       "        vertical-align: middle;\n",
       "    }\n",
       "\n",
       "    .dataframe tbody tr th {\n",
       "        vertical-align: top;\n",
       "    }\n",
       "\n",
       "    .dataframe thead th {\n",
       "        text-align: right;\n",
       "    }\n",
       "</style>\n",
       "<table border=\"1\" class=\"dataframe\">\n",
       "  <thead>\n",
       "    <tr style=\"text-align: right;\">\n",
       "      <th></th>\n",
       "      <th>Prod_id</th>\n",
       "      <th>Year</th>\n",
       "      <th>Sales</th>\n",
       "    </tr>\n",
       "  </thead>\n",
       "  <tbody>\n",
       "    <tr>\n",
       "      <th>0</th>\n",
       "      <td>101</td>\n",
       "      <td>2017</td>\n",
       "      <td>192</td>\n",
       "    </tr>\n",
       "    <tr>\n",
       "      <th>1</th>\n",
       "      <td>102</td>\n",
       "      <td>2018</td>\n",
       "      <td>321</td>\n",
       "    </tr>\n",
       "    <tr>\n",
       "      <th>2</th>\n",
       "      <td>103</td>\n",
       "      <td>2017</td>\n",
       "      <td>456</td>\n",
       "    </tr>\n",
       "    <tr>\n",
       "      <th>3</th>\n",
       "      <td>104</td>\n",
       "      <td>2018</td>\n",
       "      <td>383</td>\n",
       "    </tr>\n",
       "    <tr>\n",
       "      <th>4</th>\n",
       "      <td>105</td>\n",
       "      <td>2017</td>\n",
       "      <td>100</td>\n",
       "    </tr>\n",
       "    <tr>\n",
       "      <th>5</th>\n",
       "      <td>106</td>\n",
       "      <td>2018</td>\n",
       "      <td>898</td>\n",
       "    </tr>\n",
       "    <tr>\n",
       "      <th>6</th>\n",
       "      <td>107</td>\n",
       "      <td>2017</td>\n",
       "      <td>999</td>\n",
       "    </tr>\n",
       "    <tr>\n",
       "      <th>7</th>\n",
       "      <td>108</td>\n",
       "      <td>2018</td>\n",
       "      <td>125</td>\n",
       "    </tr>\n",
       "    <tr>\n",
       "      <th>8</th>\n",
       "      <td>109</td>\n",
       "      <td>2017</td>\n",
       "      <td>665</td>\n",
       "    </tr>\n",
       "    <tr>\n",
       "      <th>9</th>\n",
       "      <td>110</td>\n",
       "      <td>2018</td>\n",
       "      <td>330</td>\n",
       "    </tr>\n",
       "  </tbody>\n",
       "</table>\n",
       "</div>"
      ],
      "text/plain": [
       "   Prod_id  Year  Sales\n",
       "0      101  2017    192\n",
       "1      102  2018    321\n",
       "2      103  2017    456\n",
       "3      104  2018    383\n",
       "4      105  2017    100\n",
       "5      106  2018    898\n",
       "6      107  2017    999\n",
       "7      108  2018    125\n",
       "8      109  2017    665\n",
       "9      110  2018    330"
      ]
     },
     "execution_count": 388,
     "metadata": {},
     "output_type": "execute_result"
    }
   ],
   "source": [
    "data"
   ]
  },
  {
   "cell_type": "code",
   "execution_count": 389,
   "id": "089c3a7f",
   "metadata": {},
   "outputs": [
    {
     "data": {
      "text/plain": [
       "array([192, 321, 456, 383, 100, 898, 999, 125, 665, 330])"
      ]
     },
     "execution_count": 389,
     "metadata": {},
     "output_type": "execute_result"
    }
   ],
   "source": [
    "data.Sales.values"
   ]
  },
  {
   "cell_type": "code",
   "execution_count": 390,
   "id": "783a41c8",
   "metadata": {},
   "outputs": [
    {
     "data": {
      "text/html": [
       "<div>\n",
       "<style scoped>\n",
       "    .dataframe tbody tr th:only-of-type {\n",
       "        vertical-align: middle;\n",
       "    }\n",
       "\n",
       "    .dataframe tbody tr th {\n",
       "        vertical-align: top;\n",
       "    }\n",
       "\n",
       "    .dataframe thead th {\n",
       "        text-align: right;\n",
       "    }\n",
       "</style>\n",
       "<table border=\"1\" class=\"dataframe\">\n",
       "  <thead>\n",
       "    <tr style=\"text-align: right;\">\n",
       "      <th></th>\n",
       "      <th>Prod_id</th>\n",
       "      <th>Year</th>\n",
       "      <th>Sales</th>\n",
       "      <th>Sales_1</th>\n",
       "    </tr>\n",
       "  </thead>\n",
       "  <tbody>\n",
       "    <tr>\n",
       "      <th>0</th>\n",
       "      <td>101</td>\n",
       "      <td>2017</td>\n",
       "      <td>192</td>\n",
       "      <td>192</td>\n",
       "    </tr>\n",
       "    <tr>\n",
       "      <th>1</th>\n",
       "      <td>102</td>\n",
       "      <td>2018</td>\n",
       "      <td>321</td>\n",
       "      <td>321</td>\n",
       "    </tr>\n",
       "    <tr>\n",
       "      <th>2</th>\n",
       "      <td>103</td>\n",
       "      <td>2017</td>\n",
       "      <td>456</td>\n",
       "      <td>456</td>\n",
       "    </tr>\n",
       "    <tr>\n",
       "      <th>3</th>\n",
       "      <td>104</td>\n",
       "      <td>2018</td>\n",
       "      <td>383</td>\n",
       "      <td>383</td>\n",
       "    </tr>\n",
       "    <tr>\n",
       "      <th>4</th>\n",
       "      <td>105</td>\n",
       "      <td>2017</td>\n",
       "      <td>100</td>\n",
       "      <td>100</td>\n",
       "    </tr>\n",
       "    <tr>\n",
       "      <th>5</th>\n",
       "      <td>106</td>\n",
       "      <td>2018</td>\n",
       "      <td>898</td>\n",
       "      <td>898</td>\n",
       "    </tr>\n",
       "    <tr>\n",
       "      <th>6</th>\n",
       "      <td>107</td>\n",
       "      <td>2017</td>\n",
       "      <td>999</td>\n",
       "      <td>999</td>\n",
       "    </tr>\n",
       "    <tr>\n",
       "      <th>7</th>\n",
       "      <td>108</td>\n",
       "      <td>2018</td>\n",
       "      <td>125</td>\n",
       "      <td>125</td>\n",
       "    </tr>\n",
       "    <tr>\n",
       "      <th>8</th>\n",
       "      <td>109</td>\n",
       "      <td>2017</td>\n",
       "      <td>665</td>\n",
       "      <td>665</td>\n",
       "    </tr>\n",
       "    <tr>\n",
       "      <th>9</th>\n",
       "      <td>110</td>\n",
       "      <td>2018</td>\n",
       "      <td>330</td>\n",
       "      <td>330</td>\n",
       "    </tr>\n",
       "  </tbody>\n",
       "</table>\n",
       "</div>"
      ],
      "text/plain": [
       "   Prod_id  Year  Sales  Sales_1\n",
       "0      101  2017    192      192\n",
       "1      102  2018    321      321\n",
       "2      103  2017    456      456\n",
       "3      104  2018    383      383\n",
       "4      105  2017    100      100\n",
       "5      106  2018    898      898\n",
       "6      107  2017    999      999\n",
       "7      108  2018    125      125\n",
       "8      109  2017    665      665\n",
       "9      110  2018    330      330"
      ]
     },
     "execution_count": 390,
     "metadata": {},
     "output_type": "execute_result"
    }
   ],
   "source": [
    "data['Sales_1'] = [192, 321, 456, 383, 100, 898, 999, 125, 665, 330]\n",
    "data"
   ]
  },
  {
   "cell_type": "code",
   "execution_count": 394,
   "id": "4b5e568b",
   "metadata": {},
   "outputs": [],
   "source": [
    "data.drop(['Sales_1'], axis = 1, inplace = True)"
   ]
  },
  {
   "cell_type": "code",
   "execution_count": 395,
   "id": "5d7defe3",
   "metadata": {},
   "outputs": [
    {
     "data": {
      "text/html": [
       "<div>\n",
       "<style scoped>\n",
       "    .dataframe tbody tr th:only-of-type {\n",
       "        vertical-align: middle;\n",
       "    }\n",
       "\n",
       "    .dataframe tbody tr th {\n",
       "        vertical-align: top;\n",
       "    }\n",
       "\n",
       "    .dataframe thead th {\n",
       "        text-align: right;\n",
       "    }\n",
       "</style>\n",
       "<table border=\"1\" class=\"dataframe\">\n",
       "  <thead>\n",
       "    <tr style=\"text-align: right;\">\n",
       "      <th></th>\n",
       "      <th>Prod_id</th>\n",
       "      <th>Year</th>\n",
       "      <th>Sales</th>\n",
       "    </tr>\n",
       "  </thead>\n",
       "  <tbody>\n",
       "    <tr>\n",
       "      <th>0</th>\n",
       "      <td>101</td>\n",
       "      <td>2017</td>\n",
       "      <td>192</td>\n",
       "    </tr>\n",
       "    <tr>\n",
       "      <th>1</th>\n",
       "      <td>102</td>\n",
       "      <td>2018</td>\n",
       "      <td>321</td>\n",
       "    </tr>\n",
       "    <tr>\n",
       "      <th>2</th>\n",
       "      <td>103</td>\n",
       "      <td>2017</td>\n",
       "      <td>456</td>\n",
       "    </tr>\n",
       "    <tr>\n",
       "      <th>3</th>\n",
       "      <td>104</td>\n",
       "      <td>2018</td>\n",
       "      <td>383</td>\n",
       "    </tr>\n",
       "    <tr>\n",
       "      <th>4</th>\n",
       "      <td>105</td>\n",
       "      <td>2017</td>\n",
       "      <td>100</td>\n",
       "    </tr>\n",
       "    <tr>\n",
       "      <th>5</th>\n",
       "      <td>106</td>\n",
       "      <td>2018</td>\n",
       "      <td>898</td>\n",
       "    </tr>\n",
       "    <tr>\n",
       "      <th>6</th>\n",
       "      <td>107</td>\n",
       "      <td>2017</td>\n",
       "      <td>999</td>\n",
       "    </tr>\n",
       "    <tr>\n",
       "      <th>7</th>\n",
       "      <td>108</td>\n",
       "      <td>2018</td>\n",
       "      <td>125</td>\n",
       "    </tr>\n",
       "    <tr>\n",
       "      <th>8</th>\n",
       "      <td>109</td>\n",
       "      <td>2017</td>\n",
       "      <td>665</td>\n",
       "    </tr>\n",
       "    <tr>\n",
       "      <th>9</th>\n",
       "      <td>110</td>\n",
       "      <td>2018</td>\n",
       "      <td>330</td>\n",
       "    </tr>\n",
       "  </tbody>\n",
       "</table>\n",
       "</div>"
      ],
      "text/plain": [
       "   Prod_id  Year  Sales\n",
       "0      101  2017    192\n",
       "1      102  2018    321\n",
       "2      103  2017    456\n",
       "3      104  2018    383\n",
       "4      105  2017    100\n",
       "5      106  2018    898\n",
       "6      107  2017    999\n",
       "7      108  2018    125\n",
       "8      109  2017    665\n",
       "9      110  2018    330"
      ]
     },
     "execution_count": 395,
     "metadata": {},
     "output_type": "execute_result"
    }
   ],
   "source": [
    "data"
   ]
  },
  {
   "cell_type": "code",
   "execution_count": 399,
   "id": "7d736fa0",
   "metadata": {},
   "outputs": [],
   "source": [
    "data.sort_values('Sales', ascending = False, inplace = True)"
   ]
  },
  {
   "cell_type": "code",
   "execution_count": 403,
   "id": "613f55a0",
   "metadata": {},
   "outputs": [],
   "source": [
    "data.reset_index(drop = True, inplace = True)"
   ]
  },
  {
   "cell_type": "code",
   "execution_count": 404,
   "id": "3e24f8c0",
   "metadata": {},
   "outputs": [
    {
     "data": {
      "text/html": [
       "<div>\n",
       "<style scoped>\n",
       "    .dataframe tbody tr th:only-of-type {\n",
       "        vertical-align: middle;\n",
       "    }\n",
       "\n",
       "    .dataframe tbody tr th {\n",
       "        vertical-align: top;\n",
       "    }\n",
       "\n",
       "    .dataframe thead th {\n",
       "        text-align: right;\n",
       "    }\n",
       "</style>\n",
       "<table border=\"1\" class=\"dataframe\">\n",
       "  <thead>\n",
       "    <tr style=\"text-align: right;\">\n",
       "      <th></th>\n",
       "      <th>Prod_id</th>\n",
       "      <th>Year</th>\n",
       "      <th>Sales</th>\n",
       "    </tr>\n",
       "  </thead>\n",
       "  <tbody>\n",
       "    <tr>\n",
       "      <th>0</th>\n",
       "      <td>107</td>\n",
       "      <td>2017</td>\n",
       "      <td>999</td>\n",
       "    </tr>\n",
       "    <tr>\n",
       "      <th>1</th>\n",
       "      <td>106</td>\n",
       "      <td>2018</td>\n",
       "      <td>898</td>\n",
       "    </tr>\n",
       "    <tr>\n",
       "      <th>2</th>\n",
       "      <td>109</td>\n",
       "      <td>2017</td>\n",
       "      <td>665</td>\n",
       "    </tr>\n",
       "    <tr>\n",
       "      <th>3</th>\n",
       "      <td>103</td>\n",
       "      <td>2017</td>\n",
       "      <td>456</td>\n",
       "    </tr>\n",
       "    <tr>\n",
       "      <th>4</th>\n",
       "      <td>104</td>\n",
       "      <td>2018</td>\n",
       "      <td>383</td>\n",
       "    </tr>\n",
       "    <tr>\n",
       "      <th>5</th>\n",
       "      <td>110</td>\n",
       "      <td>2018</td>\n",
       "      <td>330</td>\n",
       "    </tr>\n",
       "    <tr>\n",
       "      <th>6</th>\n",
       "      <td>102</td>\n",
       "      <td>2018</td>\n",
       "      <td>321</td>\n",
       "    </tr>\n",
       "    <tr>\n",
       "      <th>7</th>\n",
       "      <td>101</td>\n",
       "      <td>2017</td>\n",
       "      <td>192</td>\n",
       "    </tr>\n",
       "    <tr>\n",
       "      <th>8</th>\n",
       "      <td>108</td>\n",
       "      <td>2018</td>\n",
       "      <td>125</td>\n",
       "    </tr>\n",
       "    <tr>\n",
       "      <th>9</th>\n",
       "      <td>105</td>\n",
       "      <td>2017</td>\n",
       "      <td>100</td>\n",
       "    </tr>\n",
       "  </tbody>\n",
       "</table>\n",
       "</div>"
      ],
      "text/plain": [
       "   Prod_id  Year  Sales\n",
       "0      107  2017    999\n",
       "1      106  2018    898\n",
       "2      109  2017    665\n",
       "3      103  2017    456\n",
       "4      104  2018    383\n",
       "5      110  2018    330\n",
       "6      102  2018    321\n",
       "7      101  2017    192\n",
       "8      108  2018    125\n",
       "9      105  2017    100"
      ]
     },
     "execution_count": 404,
     "metadata": {},
     "output_type": "execute_result"
    }
   ],
   "source": [
    "data"
   ]
  },
  {
   "cell_type": "code",
   "execution_count": 405,
   "id": "9457cdd3",
   "metadata": {},
   "outputs": [
    {
     "data": {
      "text/html": [
       "<div>\n",
       "<style scoped>\n",
       "    .dataframe tbody tr th:only-of-type {\n",
       "        vertical-align: middle;\n",
       "    }\n",
       "\n",
       "    .dataframe tbody tr th {\n",
       "        vertical-align: top;\n",
       "    }\n",
       "\n",
       "    .dataframe thead th {\n",
       "        text-align: right;\n",
       "    }\n",
       "</style>\n",
       "<table border=\"1\" class=\"dataframe\">\n",
       "  <thead>\n",
       "    <tr style=\"text-align: right;\">\n",
       "      <th></th>\n",
       "      <th>Prod_id</th>\n",
       "      <th>Year</th>\n",
       "      <th>Sales</th>\n",
       "    </tr>\n",
       "  </thead>\n",
       "  <tbody>\n",
       "    <tr>\n",
       "      <th>0</th>\n",
       "      <td>107</td>\n",
       "      <td>2017</td>\n",
       "      <td>999</td>\n",
       "    </tr>\n",
       "    <tr>\n",
       "      <th>1</th>\n",
       "      <td>106</td>\n",
       "      <td>2018</td>\n",
       "      <td>898</td>\n",
       "    </tr>\n",
       "    <tr>\n",
       "      <th>2</th>\n",
       "      <td>109</td>\n",
       "      <td>2017</td>\n",
       "      <td>665</td>\n",
       "    </tr>\n",
       "    <tr>\n",
       "      <th>3</th>\n",
       "      <td>103</td>\n",
       "      <td>2017</td>\n",
       "      <td>456</td>\n",
       "    </tr>\n",
       "    <tr>\n",
       "      <th>4</th>\n",
       "      <td>104</td>\n",
       "      <td>2018</td>\n",
       "      <td>383</td>\n",
       "    </tr>\n",
       "    <tr>\n",
       "      <th>5</th>\n",
       "      <td>110</td>\n",
       "      <td>2018</td>\n",
       "      <td>330</td>\n",
       "    </tr>\n",
       "    <tr>\n",
       "      <th>6</th>\n",
       "      <td>102</td>\n",
       "      <td>2018</td>\n",
       "      <td>321</td>\n",
       "    </tr>\n",
       "    <tr>\n",
       "      <th>7</th>\n",
       "      <td>101</td>\n",
       "      <td>2017</td>\n",
       "      <td>192</td>\n",
       "    </tr>\n",
       "    <tr>\n",
       "      <th>8</th>\n",
       "      <td>108</td>\n",
       "      <td>2018</td>\n",
       "      <td>125</td>\n",
       "    </tr>\n",
       "    <tr>\n",
       "      <th>9</th>\n",
       "      <td>105</td>\n",
       "      <td>2017</td>\n",
       "      <td>100</td>\n",
       "    </tr>\n",
       "  </tbody>\n",
       "</table>\n",
       "</div>"
      ],
      "text/plain": [
       "   Prod_id  Year  Sales\n",
       "0      107  2017    999\n",
       "1      106  2018    898\n",
       "2      109  2017    665\n",
       "3      103  2017    456\n",
       "4      104  2018    383\n",
       "5      110  2018    330\n",
       "6      102  2018    321\n",
       "7      101  2017    192\n",
       "8      108  2018    125\n",
       "9      105  2017    100"
      ]
     },
     "execution_count": 405,
     "metadata": {},
     "output_type": "execute_result"
    }
   ],
   "source": [
    "data.sort_values(['Sales','Year'], ascending = False)"
   ]
  },
  {
   "cell_type": "code",
   "execution_count": 414,
   "id": "dbb75722",
   "metadata": {},
   "outputs": [
    {
     "data": {
      "text/html": [
       "<div>\n",
       "<style scoped>\n",
       "    .dataframe tbody tr th:only-of-type {\n",
       "        vertical-align: middle;\n",
       "    }\n",
       "\n",
       "    .dataframe tbody tr th {\n",
       "        vertical-align: top;\n",
       "    }\n",
       "\n",
       "    .dataframe thead th {\n",
       "        text-align: right;\n",
       "    }\n",
       "</style>\n",
       "<table border=\"1\" class=\"dataframe\">\n",
       "  <thead>\n",
       "    <tr style=\"text-align: right;\">\n",
       "      <th></th>\n",
       "      <th>mpg</th>\n",
       "      <th>cylinders</th>\n",
       "      <th>displacement</th>\n",
       "      <th>horsepower</th>\n",
       "      <th>weight</th>\n",
       "      <th>acceleration</th>\n",
       "      <th>model year</th>\n",
       "      <th>origin</th>\n",
       "      <th>car name</th>\n",
       "    </tr>\n",
       "  </thead>\n",
       "  <tbody>\n",
       "    <tr>\n",
       "      <th>0</th>\n",
       "      <td>18.0</td>\n",
       "      <td>8</td>\n",
       "      <td>307.0</td>\n",
       "      <td>130</td>\n",
       "      <td>3504</td>\n",
       "      <td>12.0</td>\n",
       "      <td>70</td>\n",
       "      <td>1</td>\n",
       "      <td>chevrolet chevelle malibu</td>\n",
       "    </tr>\n",
       "    <tr>\n",
       "      <th>1</th>\n",
       "      <td>15.0</td>\n",
       "      <td>8</td>\n",
       "      <td>350.0</td>\n",
       "      <td>165</td>\n",
       "      <td>3693</td>\n",
       "      <td>11.5</td>\n",
       "      <td>70</td>\n",
       "      <td>1</td>\n",
       "      <td>buick skylark 320</td>\n",
       "    </tr>\n",
       "    <tr>\n",
       "      <th>2</th>\n",
       "      <td>18.0</td>\n",
       "      <td>8</td>\n",
       "      <td>318.0</td>\n",
       "      <td>150</td>\n",
       "      <td>3436</td>\n",
       "      <td>11.0</td>\n",
       "      <td>70</td>\n",
       "      <td>1</td>\n",
       "      <td>plymouth satellite</td>\n",
       "    </tr>\n",
       "    <tr>\n",
       "      <th>3</th>\n",
       "      <td>16.0</td>\n",
       "      <td>8</td>\n",
       "      <td>304.0</td>\n",
       "      <td>150</td>\n",
       "      <td>3433</td>\n",
       "      <td>12.0</td>\n",
       "      <td>70</td>\n",
       "      <td>1</td>\n",
       "      <td>amc rebel sst</td>\n",
       "    </tr>\n",
       "    <tr>\n",
       "      <th>4</th>\n",
       "      <td>17.0</td>\n",
       "      <td>8</td>\n",
       "      <td>302.0</td>\n",
       "      <td>140</td>\n",
       "      <td>3449</td>\n",
       "      <td>10.5</td>\n",
       "      <td>70</td>\n",
       "      <td>1</td>\n",
       "      <td>ford torino</td>\n",
       "    </tr>\n",
       "    <tr>\n",
       "      <th>...</th>\n",
       "      <td>...</td>\n",
       "      <td>...</td>\n",
       "      <td>...</td>\n",
       "      <td>...</td>\n",
       "      <td>...</td>\n",
       "      <td>...</td>\n",
       "      <td>...</td>\n",
       "      <td>...</td>\n",
       "      <td>...</td>\n",
       "    </tr>\n",
       "    <tr>\n",
       "      <th>393</th>\n",
       "      <td>27.0</td>\n",
       "      <td>4</td>\n",
       "      <td>140.0</td>\n",
       "      <td>86</td>\n",
       "      <td>2790</td>\n",
       "      <td>15.6</td>\n",
       "      <td>82</td>\n",
       "      <td>1</td>\n",
       "      <td>ford mustang gl</td>\n",
       "    </tr>\n",
       "    <tr>\n",
       "      <th>394</th>\n",
       "      <td>44.0</td>\n",
       "      <td>4</td>\n",
       "      <td>97.0</td>\n",
       "      <td>52</td>\n",
       "      <td>2130</td>\n",
       "      <td>24.6</td>\n",
       "      <td>82</td>\n",
       "      <td>2</td>\n",
       "      <td>vw pickup</td>\n",
       "    </tr>\n",
       "    <tr>\n",
       "      <th>395</th>\n",
       "      <td>32.0</td>\n",
       "      <td>4</td>\n",
       "      <td>135.0</td>\n",
       "      <td>84</td>\n",
       "      <td>2295</td>\n",
       "      <td>11.6</td>\n",
       "      <td>82</td>\n",
       "      <td>1</td>\n",
       "      <td>dodge rampage</td>\n",
       "    </tr>\n",
       "    <tr>\n",
       "      <th>396</th>\n",
       "      <td>28.0</td>\n",
       "      <td>4</td>\n",
       "      <td>120.0</td>\n",
       "      <td>79</td>\n",
       "      <td>2625</td>\n",
       "      <td>18.6</td>\n",
       "      <td>82</td>\n",
       "      <td>1</td>\n",
       "      <td>ford ranger</td>\n",
       "    </tr>\n",
       "    <tr>\n",
       "      <th>397</th>\n",
       "      <td>31.0</td>\n",
       "      <td>4</td>\n",
       "      <td>119.0</td>\n",
       "      <td>82</td>\n",
       "      <td>2720</td>\n",
       "      <td>19.4</td>\n",
       "      <td>82</td>\n",
       "      <td>1</td>\n",
       "      <td>chevy s-10</td>\n",
       "    </tr>\n",
       "  </tbody>\n",
       "</table>\n",
       "<p>398 rows × 9 columns</p>\n",
       "</div>"
      ],
      "text/plain": [
       "      mpg  cylinders  displacement horsepower  weight  acceleration  \\\n",
       "0    18.0          8         307.0        130    3504          12.0   \n",
       "1    15.0          8         350.0        165    3693          11.5   \n",
       "2    18.0          8         318.0        150    3436          11.0   \n",
       "3    16.0          8         304.0        150    3433          12.0   \n",
       "4    17.0          8         302.0        140    3449          10.5   \n",
       "..    ...        ...           ...        ...     ...           ...   \n",
       "393  27.0          4         140.0         86    2790          15.6   \n",
       "394  44.0          4          97.0         52    2130          24.6   \n",
       "395  32.0          4         135.0         84    2295          11.6   \n",
       "396  28.0          4         120.0         79    2625          18.6   \n",
       "397  31.0          4         119.0         82    2720          19.4   \n",
       "\n",
       "     model year  origin                   car name  \n",
       "0            70       1  chevrolet chevelle malibu  \n",
       "1            70       1          buick skylark 320  \n",
       "2            70       1         plymouth satellite  \n",
       "3            70       1              amc rebel sst  \n",
       "4            70       1                ford torino  \n",
       "..          ...     ...                        ...  \n",
       "393          82       1            ford mustang gl  \n",
       "394          82       2                  vw pickup  \n",
       "395          82       1              dodge rampage  \n",
       "396          82       1                ford ranger  \n",
       "397          82       1                 chevy s-10  \n",
       "\n",
       "[398 rows x 9 columns]"
      ]
     },
     "execution_count": 414,
     "metadata": {},
     "output_type": "execute_result"
    }
   ],
   "source": [
    "data = pd.read_csv('auto-mpg.csv')\n",
    "data"
   ]
  },
  {
   "cell_type": "code",
   "execution_count": 425,
   "id": "9766e2eb",
   "metadata": {},
   "outputs": [],
   "source": [
    "data.columns = ['Mpg', 'Cylinders', 'Displacement', 'Horsepower', 'Weight',\n",
    "       'Acceleration', 'Model_year', 'Origin', 'Car name']"
   ]
  },
  {
   "cell_type": "code",
   "execution_count": 410,
   "id": "ad85c3cb",
   "metadata": {},
   "outputs": [
    {
     "data": {
      "text/html": [
       "<div>\n",
       "<style scoped>\n",
       "    .dataframe tbody tr th:only-of-type {\n",
       "        vertical-align: middle;\n",
       "    }\n",
       "\n",
       "    .dataframe tbody tr th {\n",
       "        vertical-align: top;\n",
       "    }\n",
       "\n",
       "    .dataframe thead th {\n",
       "        text-align: right;\n",
       "    }\n",
       "</style>\n",
       "<table border=\"1\" class=\"dataframe\">\n",
       "  <thead>\n",
       "    <tr style=\"text-align: right;\">\n",
       "      <th></th>\n",
       "      <th>Mpg</th>\n",
       "      <th>Cylinders</th>\n",
       "      <th>Displacement</th>\n",
       "      <th>Horsepower</th>\n",
       "      <th>Weight</th>\n",
       "      <th>Acceleration</th>\n",
       "      <th>Model year</th>\n",
       "      <th>Origin</th>\n",
       "      <th>Car name</th>\n",
       "    </tr>\n",
       "  </thead>\n",
       "  <tbody>\n",
       "    <tr>\n",
       "      <th>0</th>\n",
       "      <td>18.0</td>\n",
       "      <td>8</td>\n",
       "      <td>307.0</td>\n",
       "      <td>130</td>\n",
       "      <td>3504</td>\n",
       "      <td>12.0</td>\n",
       "      <td>70</td>\n",
       "      <td>1</td>\n",
       "      <td>chevrolet chevelle malibu</td>\n",
       "    </tr>\n",
       "    <tr>\n",
       "      <th>1</th>\n",
       "      <td>15.0</td>\n",
       "      <td>8</td>\n",
       "      <td>350.0</td>\n",
       "      <td>165</td>\n",
       "      <td>3693</td>\n",
       "      <td>11.5</td>\n",
       "      <td>70</td>\n",
       "      <td>1</td>\n",
       "      <td>buick skylark 320</td>\n",
       "    </tr>\n",
       "    <tr>\n",
       "      <th>2</th>\n",
       "      <td>18.0</td>\n",
       "      <td>8</td>\n",
       "      <td>318.0</td>\n",
       "      <td>150</td>\n",
       "      <td>3436</td>\n",
       "      <td>11.0</td>\n",
       "      <td>70</td>\n",
       "      <td>1</td>\n",
       "      <td>plymouth satellite</td>\n",
       "    </tr>\n",
       "    <tr>\n",
       "      <th>3</th>\n",
       "      <td>16.0</td>\n",
       "      <td>8</td>\n",
       "      <td>304.0</td>\n",
       "      <td>150</td>\n",
       "      <td>3433</td>\n",
       "      <td>12.0</td>\n",
       "      <td>70</td>\n",
       "      <td>1</td>\n",
       "      <td>amc rebel sst</td>\n",
       "    </tr>\n",
       "    <tr>\n",
       "      <th>4</th>\n",
       "      <td>17.0</td>\n",
       "      <td>8</td>\n",
       "      <td>302.0</td>\n",
       "      <td>140</td>\n",
       "      <td>3449</td>\n",
       "      <td>10.5</td>\n",
       "      <td>70</td>\n",
       "      <td>1</td>\n",
       "      <td>ford torino</td>\n",
       "    </tr>\n",
       "    <tr>\n",
       "      <th>...</th>\n",
       "      <td>...</td>\n",
       "      <td>...</td>\n",
       "      <td>...</td>\n",
       "      <td>...</td>\n",
       "      <td>...</td>\n",
       "      <td>...</td>\n",
       "      <td>...</td>\n",
       "      <td>...</td>\n",
       "      <td>...</td>\n",
       "    </tr>\n",
       "    <tr>\n",
       "      <th>393</th>\n",
       "      <td>27.0</td>\n",
       "      <td>4</td>\n",
       "      <td>140.0</td>\n",
       "      <td>86</td>\n",
       "      <td>2790</td>\n",
       "      <td>15.6</td>\n",
       "      <td>82</td>\n",
       "      <td>1</td>\n",
       "      <td>ford mustang gl</td>\n",
       "    </tr>\n",
       "    <tr>\n",
       "      <th>394</th>\n",
       "      <td>44.0</td>\n",
       "      <td>4</td>\n",
       "      <td>97.0</td>\n",
       "      <td>52</td>\n",
       "      <td>2130</td>\n",
       "      <td>24.6</td>\n",
       "      <td>82</td>\n",
       "      <td>2</td>\n",
       "      <td>vw pickup</td>\n",
       "    </tr>\n",
       "    <tr>\n",
       "      <th>395</th>\n",
       "      <td>32.0</td>\n",
       "      <td>4</td>\n",
       "      <td>135.0</td>\n",
       "      <td>84</td>\n",
       "      <td>2295</td>\n",
       "      <td>11.6</td>\n",
       "      <td>82</td>\n",
       "      <td>1</td>\n",
       "      <td>dodge rampage</td>\n",
       "    </tr>\n",
       "    <tr>\n",
       "      <th>396</th>\n",
       "      <td>28.0</td>\n",
       "      <td>4</td>\n",
       "      <td>120.0</td>\n",
       "      <td>79</td>\n",
       "      <td>2625</td>\n",
       "      <td>18.6</td>\n",
       "      <td>82</td>\n",
       "      <td>1</td>\n",
       "      <td>ford ranger</td>\n",
       "    </tr>\n",
       "    <tr>\n",
       "      <th>397</th>\n",
       "      <td>31.0</td>\n",
       "      <td>4</td>\n",
       "      <td>119.0</td>\n",
       "      <td>82</td>\n",
       "      <td>2720</td>\n",
       "      <td>19.4</td>\n",
       "      <td>82</td>\n",
       "      <td>1</td>\n",
       "      <td>chevy s-10</td>\n",
       "    </tr>\n",
       "  </tbody>\n",
       "</table>\n",
       "<p>398 rows × 9 columns</p>\n",
       "</div>"
      ],
      "text/plain": [
       "      Mpg  Cylinders  Displacement Horsepower  Weight  Acceleration  \\\n",
       "0    18.0          8         307.0        130    3504          12.0   \n",
       "1    15.0          8         350.0        165    3693          11.5   \n",
       "2    18.0          8         318.0        150    3436          11.0   \n",
       "3    16.0          8         304.0        150    3433          12.0   \n",
       "4    17.0          8         302.0        140    3449          10.5   \n",
       "..    ...        ...           ...        ...     ...           ...   \n",
       "393  27.0          4         140.0         86    2790          15.6   \n",
       "394  44.0          4          97.0         52    2130          24.6   \n",
       "395  32.0          4         135.0         84    2295          11.6   \n",
       "396  28.0          4         120.0         79    2625          18.6   \n",
       "397  31.0          4         119.0         82    2720          19.4   \n",
       "\n",
       "     Model year  Origin                   Car name  \n",
       "0            70       1  chevrolet chevelle malibu  \n",
       "1            70       1          buick skylark 320  \n",
       "2            70       1         plymouth satellite  \n",
       "3            70       1              amc rebel sst  \n",
       "4            70       1                ford torino  \n",
       "..          ...     ...                        ...  \n",
       "393          82       1            ford mustang gl  \n",
       "394          82       2                  vw pickup  \n",
       "395          82       1              dodge rampage  \n",
       "396          82       1                ford ranger  \n",
       "397          82       1                 chevy s-10  \n",
       "\n",
       "[398 rows x 9 columns]"
      ]
     },
     "execution_count": 410,
     "metadata": {},
     "output_type": "execute_result"
    }
   ],
   "source": [
    "data_cars"
   ]
  },
  {
   "cell_type": "code",
   "execution_count": 416,
   "id": "8ab208dc",
   "metadata": {},
   "outputs": [
    {
     "data": {
      "text/plain": [
       "(398, 9)"
      ]
     },
     "execution_count": 416,
     "metadata": {},
     "output_type": "execute_result"
    }
   ],
   "source": [
    "data.shape"
   ]
  },
  {
   "cell_type": "code",
   "execution_count": 417,
   "id": "0cd4e01c",
   "metadata": {},
   "outputs": [
    {
     "data": {
      "text/html": [
       "<div>\n",
       "<style scoped>\n",
       "    .dataframe tbody tr th:only-of-type {\n",
       "        vertical-align: middle;\n",
       "    }\n",
       "\n",
       "    .dataframe tbody tr th {\n",
       "        vertical-align: top;\n",
       "    }\n",
       "\n",
       "    .dataframe thead th {\n",
       "        text-align: right;\n",
       "    }\n",
       "</style>\n",
       "<table border=\"1\" class=\"dataframe\">\n",
       "  <thead>\n",
       "    <tr style=\"text-align: right;\">\n",
       "      <th></th>\n",
       "      <th>Mpg</th>\n",
       "      <th>Cylinders</th>\n",
       "      <th>Displacement</th>\n",
       "      <th>Horsepower</th>\n",
       "      <th>Weight</th>\n",
       "      <th>Acceleration</th>\n",
       "      <th>Model year</th>\n",
       "      <th>Origin</th>\n",
       "      <th>Car name</th>\n",
       "    </tr>\n",
       "  </thead>\n",
       "  <tbody>\n",
       "    <tr>\n",
       "      <th>0</th>\n",
       "      <td>18.0</td>\n",
       "      <td>8</td>\n",
       "      <td>307.0</td>\n",
       "      <td>130</td>\n",
       "      <td>3504</td>\n",
       "      <td>12.0</td>\n",
       "      <td>70</td>\n",
       "      <td>1</td>\n",
       "      <td>chevrolet chevelle malibu</td>\n",
       "    </tr>\n",
       "    <tr>\n",
       "      <th>1</th>\n",
       "      <td>15.0</td>\n",
       "      <td>8</td>\n",
       "      <td>350.0</td>\n",
       "      <td>165</td>\n",
       "      <td>3693</td>\n",
       "      <td>11.5</td>\n",
       "      <td>70</td>\n",
       "      <td>1</td>\n",
       "      <td>buick skylark 320</td>\n",
       "    </tr>\n",
       "    <tr>\n",
       "      <th>2</th>\n",
       "      <td>18.0</td>\n",
       "      <td>8</td>\n",
       "      <td>318.0</td>\n",
       "      <td>150</td>\n",
       "      <td>3436</td>\n",
       "      <td>11.0</td>\n",
       "      <td>70</td>\n",
       "      <td>1</td>\n",
       "      <td>plymouth satellite</td>\n",
       "    </tr>\n",
       "    <tr>\n",
       "      <th>3</th>\n",
       "      <td>16.0</td>\n",
       "      <td>8</td>\n",
       "      <td>304.0</td>\n",
       "      <td>150</td>\n",
       "      <td>3433</td>\n",
       "      <td>12.0</td>\n",
       "      <td>70</td>\n",
       "      <td>1</td>\n",
       "      <td>amc rebel sst</td>\n",
       "    </tr>\n",
       "    <tr>\n",
       "      <th>4</th>\n",
       "      <td>17.0</td>\n",
       "      <td>8</td>\n",
       "      <td>302.0</td>\n",
       "      <td>140</td>\n",
       "      <td>3449</td>\n",
       "      <td>10.5</td>\n",
       "      <td>70</td>\n",
       "      <td>1</td>\n",
       "      <td>ford torino</td>\n",
       "    </tr>\n",
       "  </tbody>\n",
       "</table>\n",
       "</div>"
      ],
      "text/plain": [
       "    Mpg  Cylinders  Displacement Horsepower  Weight  Acceleration  Model year  \\\n",
       "0  18.0          8         307.0        130    3504          12.0          70   \n",
       "1  15.0          8         350.0        165    3693          11.5          70   \n",
       "2  18.0          8         318.0        150    3436          11.0          70   \n",
       "3  16.0          8         304.0        150    3433          12.0          70   \n",
       "4  17.0          8         302.0        140    3449          10.5          70   \n",
       "\n",
       "   Origin                   Car name  \n",
       "0       1  chevrolet chevelle malibu  \n",
       "1       1          buick skylark 320  \n",
       "2       1         plymouth satellite  \n",
       "3       1              amc rebel sst  \n",
       "4       1                ford torino  "
      ]
     },
     "execution_count": 417,
     "metadata": {},
     "output_type": "execute_result"
    }
   ],
   "source": [
    "data.head()"
   ]
  },
  {
   "cell_type": "code",
   "execution_count": 431,
   "id": "4c37a8cc",
   "metadata": {},
   "outputs": [
    {
     "data": {
      "text/html": [
       "<div>\n",
       "<style scoped>\n",
       "    .dataframe tbody tr th:only-of-type {\n",
       "        vertical-align: middle;\n",
       "    }\n",
       "\n",
       "    .dataframe tbody tr th {\n",
       "        vertical-align: top;\n",
       "    }\n",
       "\n",
       "    .dataframe thead th {\n",
       "        text-align: right;\n",
       "    }\n",
       "</style>\n",
       "<table border=\"1\" class=\"dataframe\">\n",
       "  <thead>\n",
       "    <tr style=\"text-align: right;\">\n",
       "      <th></th>\n",
       "      <th>Mpg</th>\n",
       "      <th>Cylinders</th>\n",
       "      <th>Displacement</th>\n",
       "      <th>Weight</th>\n",
       "      <th>Acceleration</th>\n",
       "      <th>Origin</th>\n",
       "    </tr>\n",
       "  </thead>\n",
       "  <tbody>\n",
       "    <tr>\n",
       "      <th>count</th>\n",
       "      <td>398.000000</td>\n",
       "      <td>398.000000</td>\n",
       "      <td>398.000000</td>\n",
       "      <td>398.000000</td>\n",
       "      <td>398.000000</td>\n",
       "      <td>398.000000</td>\n",
       "    </tr>\n",
       "    <tr>\n",
       "      <th>mean</th>\n",
       "      <td>23.514573</td>\n",
       "      <td>5.454774</td>\n",
       "      <td>193.425879</td>\n",
       "      <td>2970.424623</td>\n",
       "      <td>15.568090</td>\n",
       "      <td>1.572864</td>\n",
       "    </tr>\n",
       "    <tr>\n",
       "      <th>std</th>\n",
       "      <td>7.815984</td>\n",
       "      <td>1.701004</td>\n",
       "      <td>104.269838</td>\n",
       "      <td>846.841774</td>\n",
       "      <td>2.757689</td>\n",
       "      <td>0.802055</td>\n",
       "    </tr>\n",
       "    <tr>\n",
       "      <th>min</th>\n",
       "      <td>9.000000</td>\n",
       "      <td>3.000000</td>\n",
       "      <td>68.000000</td>\n",
       "      <td>1613.000000</td>\n",
       "      <td>8.000000</td>\n",
       "      <td>1.000000</td>\n",
       "    </tr>\n",
       "    <tr>\n",
       "      <th>25%</th>\n",
       "      <td>17.500000</td>\n",
       "      <td>4.000000</td>\n",
       "      <td>104.250000</td>\n",
       "      <td>2223.750000</td>\n",
       "      <td>13.825000</td>\n",
       "      <td>1.000000</td>\n",
       "    </tr>\n",
       "    <tr>\n",
       "      <th>50%</th>\n",
       "      <td>23.000000</td>\n",
       "      <td>4.000000</td>\n",
       "      <td>148.500000</td>\n",
       "      <td>2803.500000</td>\n",
       "      <td>15.500000</td>\n",
       "      <td>1.000000</td>\n",
       "    </tr>\n",
       "    <tr>\n",
       "      <th>75%</th>\n",
       "      <td>29.000000</td>\n",
       "      <td>8.000000</td>\n",
       "      <td>262.000000</td>\n",
       "      <td>3608.000000</td>\n",
       "      <td>17.175000</td>\n",
       "      <td>2.000000</td>\n",
       "    </tr>\n",
       "    <tr>\n",
       "      <th>max</th>\n",
       "      <td>46.600000</td>\n",
       "      <td>8.000000</td>\n",
       "      <td>455.000000</td>\n",
       "      <td>5140.000000</td>\n",
       "      <td>24.800000</td>\n",
       "      <td>3.000000</td>\n",
       "    </tr>\n",
       "  </tbody>\n",
       "</table>\n",
       "</div>"
      ],
      "text/plain": [
       "              Mpg   Cylinders  Displacement       Weight  Acceleration  \\\n",
       "count  398.000000  398.000000    398.000000   398.000000    398.000000   \n",
       "mean    23.514573    5.454774    193.425879  2970.424623     15.568090   \n",
       "std      7.815984    1.701004    104.269838   846.841774      2.757689   \n",
       "min      9.000000    3.000000     68.000000  1613.000000      8.000000   \n",
       "25%     17.500000    4.000000    104.250000  2223.750000     13.825000   \n",
       "50%     23.000000    4.000000    148.500000  2803.500000     15.500000   \n",
       "75%     29.000000    8.000000    262.000000  3608.000000     17.175000   \n",
       "max     46.600000    8.000000    455.000000  5140.000000     24.800000   \n",
       "\n",
       "           Origin  \n",
       "count  398.000000  \n",
       "mean     1.572864  \n",
       "std      0.802055  \n",
       "min      1.000000  \n",
       "25%      1.000000  \n",
       "50%      1.000000  \n",
       "75%      2.000000  \n",
       "max      3.000000  "
      ]
     },
     "execution_count": 431,
     "metadata": {},
     "output_type": "execute_result"
    }
   ],
   "source": [
    "data.describe()"
   ]
  },
  {
   "cell_type": "code",
   "execution_count": 429,
   "id": "276d1f6f",
   "metadata": {},
   "outputs": [],
   "source": [
    "data.Cylinders = data.Cylinders.astype('int')\n",
    "data.Model_year = data.Model_year.astype('str')\n",
    "data.Origin = data.Origin.astype('int')"
   ]
  },
  {
   "cell_type": "code",
   "execution_count": 448,
   "id": "ca0b0788",
   "metadata": {},
   "outputs": [
    {
     "name": "stdout",
     "output_type": "stream",
     "text": [
      "<class 'pandas.core.frame.DataFrame'>\n",
      "RangeIndex: 398 entries, 0 to 397\n",
      "Data columns (total 9 columns):\n",
      " #   Column        Non-Null Count  Dtype  \n",
      "---  ------        --------------  -----  \n",
      " 0   Mpg           398 non-null    float64\n",
      " 1   Cylinders     398 non-null    int64  \n",
      " 2   Displacement  398 non-null    float64\n",
      " 3   Horsepower    398 non-null    object \n",
      " 4   Weight        398 non-null    int64  \n",
      " 5   Acceleration  398 non-null    float64\n",
      " 6   Model_year    398 non-null    object \n",
      " 7   Origin        398 non-null    int64  \n",
      " 8   Car name      398 non-null    object \n",
      "dtypes: float64(3), int64(3), object(3)\n",
      "memory usage: 28.1+ KB\n"
     ]
    }
   ],
   "source": [
    "data.info()"
   ]
  },
  {
   "cell_type": "code",
   "execution_count": 433,
   "id": "2d644df8",
   "metadata": {},
   "outputs": [],
   "source": [
    "import seaborn as sns\n",
    "import matplotlib.pyplot as plt\n",
    "%matplotlib inline"
   ]
  },
  {
   "cell_type": "code",
   "execution_count": 439,
   "id": "5fe516e0",
   "metadata": {},
   "outputs": [
    {
     "data": {
      "image/png": "[encoded data removed]",
      "text/plain": [
       "<Figure size 720x576 with 1 Axes>"
      ]
     },
     "metadata": {
      "needs_background": "light"
     },
     "output_type": "display_data"
    }
   ],
   "source": [
    "plt.figure(figsize = (10,8))\n",
    "plt.hist(data['Mpg'], bins = 30)\n",
    "plt.show()"
   ]
  },
  {
   "cell_type": "code",
   "execution_count": 440,
   "id": "0e1c002b",
   "metadata": {},
   "outputs": [
    {
     "data": {
      "text/plain": [
       "<AxesSubplot:xlabel='Mpg', ylabel='Count'>"
      ]
     },
     "execution_count": 440,
     "metadata": {},
     "output_type": "execute_result"
    },
    {
     "data": {
      "image/png": "[encoded data removed]",
      "text/plain": [
       "<Figure size 432x288 with 1 Axes>"
      ]
     },
     "metadata": {
      "needs_background": "light"
     },
     "output_type": "display_data"
    }
   ],
   "source": [
    "sns.histplot(x = data['Mpg'])"
   ]
  },
  {
   "cell_type": "code",
   "execution_count": 444,
   "id": "26044480",
   "metadata": {},
   "outputs": [
    {
     "data": {
      "text/plain": [
       "<AxesSubplot:>"
      ]
     },
     "execution_count": 444,
     "metadata": {},
     "output_type": "execute_result"
    },
    {
     "data": {
      "image/png": "[encoded data removed]",
      "text/plain": [
       "<Figure size 288x720 with 1 Axes>"
      ]
     },
     "metadata": {
      "needs_background": "light"
     },
     "output_type": "display_data"
    }
   ],
   "source": [
    "plt.figure(figsize = (4,10))\n",
    "sns.boxplot(data = data['Mpg'])"
   ]
  },
  {
   "cell_type": "code",
   "execution_count": 445,
   "id": "5dd2a7aa",
   "metadata": {},
   "outputs": [
    {
     "data": {
      "text/plain": [
       "Mpg             False\n",
       "Cylinders       False\n",
       "Displacement    False\n",
       "Horsepower      False\n",
       "Weight          False\n",
       "Acceleration    False\n",
       "Model_year      False\n",
       "Origin          False\n",
       "Car name        False\n",
       "dtype: bool"
      ]
     },
     "execution_count": 445,
     "metadata": {},
     "output_type": "execute_result"
    }
   ],
   "source": [
    "data.isna().any()"
   ]
  },
  {
   "cell_type": "code",
   "execution_count": 454,
   "id": "5075b788",
   "metadata": {},
   "outputs": [
    {
     "data": {
      "image/png": "[encoded data removed]",
      "text/plain": [
       "<Figure size 432x288 with 1 Axes>"
      ]
     },
     "metadata": {
      "needs_background": "light"
     },
     "output_type": "display_data"
    }
   ],
   "source": [
    "for i in a:\n",
    "    plt.boxplot(data[i])\n",
    "    "
   ]
  },
  {
   "cell_type": "code",
   "execution_count": 451,
   "id": "e45d7900",
   "metadata": {},
   "outputs": [
    {
     "name": "stdout",
     "output_type": "stream",
     "text": [
      "Mpg\n",
      "Cylinders\n",
      "Displacement\n",
      "Weight\n",
      "Acceleration\n",
      "Origin\n"
     ]
    }
   ],
   "source": [
    "for i in a:\n",
    "    print(i)"
   ]
  },
  {
   "cell_type": "code",
   "execution_count": 449,
   "id": "f3e4310f",
   "metadata": {},
   "outputs": [
    {
     "data": {
      "text/plain": [
       "Index(['Mpg', 'Cylinders', 'Displacement', 'Horsepower', 'Weight',\n",
       "       'Acceleration', 'Model_year', 'Origin', 'Car name'],\n",
       "      dtype='object')"
      ]
     },
     "execution_count": 449,
     "metadata": {},
     "output_type": "execute_result"
    }
   ],
   "source": [
    "data.columns"
   ]
  },
  {
   "cell_type": "code",
   "execution_count": 450,
   "id": "c9861a56",
   "metadata": {},
   "outputs": [],
   "source": [
    "a = ['Mpg', 'Cylinders', 'Displacement', 'Weight',\n",
    "       'Acceleration', 'Origin']"
   ]
  }
 ],
 "metadata": {
  "kernelspec": {
   "display_name": "Python 3 (ipykernel)",
   "language": "python",
   "name": "python3"
  },
  "language_info": {
   "codemirror_mode": {
    "name": "ipython",
    "version": 3
   },
   "file_extension": ".py",
   "mimetype": "text/x-python",
   "name": "python",
   "nbconvert_exporter": "python",
   "pygments_lexer": "ipython3",
   "version": "3.11.3"
  }
 },
 "nbformat": 4,
 "nbformat_minor": 5
}
